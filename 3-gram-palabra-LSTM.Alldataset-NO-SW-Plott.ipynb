{
 "cells": [
  {
   "cell_type": "code",
   "execution_count": 1,
   "metadata": {},
   "outputs": [
    {
     "name": "stderr",
     "output_type": "stream",
     "text": [
      "Using TensorFlow backend.\n"
     ]
    }
   ],
   "source": [
    "import pandas as pd\n",
    "import numpy as np\n",
    "import string\n",
    "import re\n",
    "import nltk  \n",
    "from itertools import repeat\n",
    "from keras.models import Sequential\n",
    "from keras.layers import Dense,LSTM\n",
    "from keras.optimizers import Adam\n",
    "import keras\n",
    "from tensorflow.keras import backend\n",
    "from keras import backend as K\n",
    "from keras import regularizers\n",
    "import time\n",
    "from sklearn.feature_extraction.text import CountVectorizer\n",
    "from nltk.corpus import words\n",
    "from sklearn.metrics import classification_report\n",
    "from sklearn.metrics import f1_score, precision_score, recall_score, accuracy_score\n",
    "from sklearn.metrics import confusion_matrix\n",
    "from sklearn.metrics import roc_auc_score\n",
    "from tqdm import tqdm\n",
    "import sys\n",
    "import gc\n",
    "import os\n",
    "from nltk.tokenize import word_tokenize\n",
    "from nltk.corpus import stopwords \n",
    "from nltk import ngrams\n",
    "from nltk.stem import PorterStemmer\n",
    "from nltk.stem import WordNetLemmatizer"
   ]
  },
  {
   "cell_type": "code",
   "execution_count": 2,
   "metadata": {},
   "outputs": [],
   "source": [
    "stop_words = set(stopwords.words('english'))\n",
    "porter = PorterStemmer()\n",
    "wordnet_lemmatizer = WordNetLemmatizer()"
   ]
  },
  {
   "cell_type": "code",
   "execution_count": 3,
   "metadata": {},
   "outputs": [],
   "source": [
    "def sizeof_fmt(num, suffix='B'):\n",
    "    ''' by Fred Cirera,  https://stackoverflow.com/a/1094933/1870254, modified'''\n",
    "    for unit in ['','Ki','Mi','Gi','Ti','Pi','Ei','Zi']:\n",
    "        if abs(num) < 1024.0:\n",
    "            return \"%3.1f %s%s\" % (num, unit, suffix)\n",
    "        num /= 1024.0\n",
    "    return \"%.1f %s%s\" % (num, 'Yi', suffix)\n",
    "       "
   ]
  },
  {
   "cell_type": "code",
   "execution_count": 4,
   "metadata": {},
   "outputs": [
    {
     "name": "stdout",
     "output_type": "stream",
     "text": [
      "                    stop_words:  8.2 KiB\n",
      "                    Sequential:  1.0 KiB\n",
      "                         Dense:  1.0 KiB\n",
      "                          LSTM:  1.0 KiB\n",
      "                          Adam:  1.0 KiB\n",
      "               CountVectorizer:  1.0 KiB\n",
      "                          tqdm:  1.0 KiB\n",
      "                 PorterStemmer:  1.0 KiB\n",
      "             WordNetLemmatizer:  1.0 KiB\n",
      "                          _iii:  923.0 B\n"
     ]
    }
   ],
   "source": [
    "for name, size in sorted(((name, sys.getsizeof(value)) for name, value in locals().items()),\n",
    "                         key= lambda x: -x[1])[:10]:\n",
    "    print(\"{:>30}: {:>8}\".format(name, sizeof_fmt(size))) "
   ]
  },
  {
   "cell_type": "code",
   "execution_count": 5,
   "metadata": {},
   "outputs": [
    {
     "name": "stdout",
     "output_type": "stream",
     "text": [
      "Num of Labels:  222055\n",
      "Num of Train docs:  66927\n",
      "Num of Train Labels:  66927\n",
      "Num of Test docs:  155128\n",
      "Num of Test Labels:  155128\n",
      "GOL:  222055  Real:  222055\n"
     ]
    }
   ],
   "source": [
    "labels = []\n",
    "documents_train = []\n",
    "documents_test  = []\n",
    "Y_train = []\n",
    "Y_test =  []\n",
    "directory = \"/home/daniela/Projeto/Fixing code/PredadorAllData/PredadorAllDataNgrmas_alldata/\"\n",
    "\n",
    "trenamento = 0\n",
    "ii = 0\n",
    "for index, name in enumerate(sorted(os.listdir(directory))): #Already sorted\n",
    "    trenamento += 1\n",
    "    #if name in tittles_matlab:\n",
    "        #print(name)\n",
    "    ii += 1\n",
    "    f=open(\"/home/daniela/Projeto/Fixing code/PredadorAllData/PredadorAllDataNgrmas_alldata/\"+name, encoding =\"utf-8\")#\"rb\"\n",
    "    #f=open(\"/home/daniela/Documents/Copia de csa_Predador/Copia de csa_Predador/TMGresults/sample2/\"+name,\"rb\")#\"rb\"\n",
    "    document = (f.read()) \n",
    "\n",
    "    if \"trrainninng\" in name:\n",
    "        documents_train.append(str(document))\n",
    "        if \"posi\" in name:\n",
    "            labels.append(1)\n",
    "            Y_train.append(1)\n",
    "\n",
    "        else:\n",
    "            labels.append(0)\n",
    "            Y_train.append(0)\n",
    "\n",
    "    elif \"teestiinng\" in name:\n",
    "        documents_test.append(str(document))\n",
    "        if \"posi\" in name:\n",
    "            labels.append(1)\n",
    "            Y_test.append(1)\n",
    "\n",
    "        else:\n",
    "            labels.append(0)\n",
    "            Y_test.append(0)\n",
    "\n",
    "print(\"Num of Labels: \",len(labels))\n",
    "print(\"Num of Train docs: \",len(documents_train))\n",
    "print(\"Num of Train Labels: \",len(Y_train))\n",
    "print(\"Num of Test docs: \",len(documents_test))\n",
    "print(\"Num of Test Labels: \",len(Y_test))\n",
    "#'''\n",
    "print(\"GOL: \",ii,\" Real: \",trenamento)"
   ]
  },
  {
   "cell_type": "code",
   "execution_count": 6,
   "metadata": {},
   "outputs": [
    {
     "name": "stdout",
     "output_type": "stream",
     "text": [
      "Predadors:  2016  No Predadors:  64911\n",
      "Predadors:  3737  No Predadors:  151391\n"
     ]
    }
   ],
   "source": [
    "Y_train = np.asarray(Y_train)\n",
    "Y_test = np.asarray(Y_test)\n",
    "Y_test_reduce = Y_test\n",
    "\n",
    "\n",
    "posi_train = np.argwhere(Y_train==1)\n",
    "posi_test  = np.argwhere(Y_test==1)\n",
    "nega_train = np.argwhere(Y_train==0)\n",
    "nega_test  = np.argwhere(Y_test==0)\n",
    "print(\"Predadors: \",len(posi_train),\" No Predadors: \", len(nega_train))\n",
    "print(\"Predadors: \",len(posi_test),\" No Predadors: \", len(nega_test))"
   ]
  },
  {
   "cell_type": "code",
   "execution_count": 7,
   "metadata": {},
   "outputs": [
    {
     "name": "stdout",
     "output_type": "stream",
     "text": [
      "There are:  66927    Train labels\n",
      "There are:  155128   Test  labels\n"
     ]
    }
   ],
   "source": [
    "print('There are: ',len(documents_train),'   Train labels')\n",
    "print('There are: ',len(documents_test),'  Test  labels')"
   ]
  },
  {
   "cell_type": "code",
   "execution_count": 8,
   "metadata": {},
   "outputs": [
    {
     "name": "stdout",
     "output_type": "stream",
     "text": [
      "                        labels:  1.8 MiB\n",
      "                documents_test:  1.3 MiB\n",
      "                        Y_test:  1.2 MiB\n",
      "                 Y_test_reduce:  1.2 MiB\n",
      "               documents_train: 565.4 KiB\n",
      "                       Y_train: 523.0 KiB\n",
      "                    stop_words:  8.2 KiB\n",
      "                          _iii:  1.4 KiB\n",
      "                           _i5:  1.4 KiB\n",
      "                    Sequential:  1.0 KiB\n"
     ]
    }
   ],
   "source": [
    "for name, size in sorted(((name, sys.getsizeof(value)) for name, value in locals().items()),\n",
    "                         key= lambda x: -x[1])[:10]:\n",
    "    print(\"{:>30}: {:>8}\".format(name, sizeof_fmt(size))) "
   ]
  },
  {
   "cell_type": "code",
   "execution_count": 9,
   "metadata": {},
   "outputs": [],
   "source": [
    "def pre_processing_matlab(conversation):\n",
    "    # First pre-processing: Matlab\n",
    "    conversation = conversation.replace('\"','') \n",
    "    conversation = conversation.replace('.',' ') \n",
    "    conversation = conversation.replace(\"''\",' ')\n",
    "    conversation = conversation.lower()\n",
    "    conversation = conversation.replace('[^\\w\\s]',' ') \n",
    "    \n",
    "    # Second pre-processing: TMG\n",
    "\n",
    "    # Remove punctuation as: !?&\n",
    "    conversation = conversation.translate(str.maketrans('', '', string.punctuation))\n",
    "    \"\"\"\n",
    "    # Remove numerbs \n",
    "    conversation = re.sub(r'\\b[0-9]+\\b', '', conversation)#and alphanumerics too : re.sub('[0-9]+', '', i)\n",
    "    \"\"\"\n",
    "    # Remove  alphanumerics\n",
    "    conversation = re.sub('[0-9]+', '', conversation)   \n",
    "    \n",
    "    # Tokenize and remove SW\n",
    "    tokens = word_tokenize(conversation)\n",
    "    conversation = [i for i in tokens if not i in stop_words]\n",
    "    \n",
    "    # Applying Potter Steamming\n",
    "    #conversation = [porter.stem(i) for i in conversation ]\n",
    "    \n",
    "    # Applying Lemmatization\n",
    "    conversation = [wordnet_lemmatizer.lemmatize(i, pos=\"v\") for i in conversation ]\n",
    "    \n",
    "    conversation = \" \".join(conversation)\n",
    "    \n",
    "    return conversation\n"
   ]
  },
  {
   "cell_type": "code",
   "execution_count": null,
   "metadata": {},
   "outputs": [],
   "source": []
  },
  {
   "cell_type": "code",
   "execution_count": 10,
   "metadata": {},
   "outputs": [
    {
     "name": "stdout",
     "output_type": "stream",
     "text": [
      "name dani run thoughts furious\n"
     ]
    }
   ],
   "source": [
    "conversation = \"MY name is  dani, i am running with my thoughts, i am furious\"\n",
    "aux = pre_processing_matlab(conversation)\n",
    "print(aux)"
   ]
  },
  {
   "cell_type": "markdown",
   "metadata": {},
   "source": [
    "Processing Train documents"
   ]
  },
  {
   "cell_type": "code",
   "execution_count": 11,
   "metadata": {},
   "outputs": [],
   "source": [
    "def pre_processing_dani(documents,labels):\n",
    "    docs = []\n",
    "    Y = []\n",
    "    empty_docs = 0\n",
    "    for id,conversation in enumerate(documents):\n",
    "        clean_conversation = pre_processing_matlab(conversation)\n",
    "        if len (clean_conversation) == 0:\n",
    "            empty_docs += 1\n",
    "        else:\n",
    "            docs.append(clean_conversation)\n",
    "            Y.append(labels[id])\n",
    "    print(\"Empty Documetns: \",empty_docs)\n",
    "    return docs,Y"
   ]
  },
  {
   "cell_type": "code",
   "execution_count": 12,
   "metadata": {},
   "outputs": [
    {
     "name": "stdout",
     "output_type": "stream",
     "text": [
      "Before:  hi asl hey checking for a girl? So i am 23 thirty I have fantastic vids are going to head over to goto surprisee21 tk (replace space with  ) \n",
      "Empty Documetns:  174\n",
      "Train Documents, There are : 66753 :  hi asl hey check girl thirty fantastic vids go head goto surprisee tk replace space   66753\n",
      "Time is:  1740.3499557971954\n"
     ]
    }
   ],
   "source": [
    "print(\"Before: \",documents_train[0])\n",
    "start = time.time()\n",
    "doc_train,new_Y_train = pre_processing_dani(documents_train,Y_train)\n",
    "print(\"Train Documents, There are :\",len(doc_train),\": \", doc_train[0],\" \",len(new_Y_train))\n",
    "end = time.time()\n",
    "print(\"Time is: \",end - start)"
   ]
  },
  {
   "cell_type": "code",
   "execution_count": null,
   "metadata": {},
   "outputs": [],
   "source": []
  },
  {
   "cell_type": "code",
   "execution_count": null,
   "metadata": {},
   "outputs": [],
   "source": []
  },
  {
   "cell_type": "markdown",
   "metadata": {},
   "source": [
    "Processing Test documents"
   ]
  },
  {
   "cell_type": "code",
   "execution_count": 13,
   "metadata": {},
   "outputs": [
    {
     "name": "stdout",
     "output_type": "stream",
     "text": [
      "Before:  wirepair: should we all do the ie way with a different constructor? XDomainRequest or what it's called Hello all, I have a quick question about the history API is there something like the same domain policy on it? \n",
      "Empty Documetns:  305\n",
      "Test Documents, There are : 154823 :  wirepair ie way different constructor xdomainrequest call hello quick question history api something like domain policy   154823\n",
      "Time is:  716.7278778553009\n"
     ]
    }
   ],
   "source": [
    "print(\"Before: \",documents_test[0])\n",
    "start = time.time()\n",
    "doc_test,new_Y_test = pre_processing_dani(documents_test,Y_test)\n",
    "print(\"Test Documents, There are :\",len(doc_test),\": \", doc_test[0],\" \",len(new_Y_test))\n",
    "end = time.time()\n",
    "print(\"Time is: \",end - start)\n"
   ]
  },
  {
   "cell_type": "code",
   "execution_count": 14,
   "metadata": {},
   "outputs": [
    {
     "name": "stdout",
     "output_type": "stream",
     "text": [
      "Predadors:  1958  No Predadors:  64795\n",
      "Predadors:  3666  No Predadors:  151157\n",
      "Doc Test : 154823  Labels Test :  154823\n"
     ]
    }
   ],
   "source": [
    "#\"\"\"\n",
    "Y_train = np.asarray(new_Y_train)\n",
    "Y_test = np.asarray(new_Y_test)\n",
    "\n",
    "posi_train = np.argwhere(Y_train==1)\n",
    "posi_test  = np.argwhere(Y_test==1)\n",
    "nega_train = np.argwhere(Y_train==0)\n",
    "nega_test  = np.argwhere(Y_test==0)\n",
    "print(\"Predadors: \",len(posi_train),\" No Predadors: \", len(nega_train))\n",
    "print(\"Predadors: \",len(posi_test),\" No Predadors: \", len(nega_test))\n",
    "#\"\"\"print(\"Doc Train:\",len(doc_train),\" Labels Train: \",len(new_Y_train))\n",
    "print(\"Doc Test :\",len(doc_test),\" Labels Test : \",len(new_Y_test))\n",
    "\n"
   ]
  },
  {
   "cell_type": "code",
   "execution_count": 15,
   "metadata": {},
   "outputs": [
    {
     "name": "stdout",
     "output_type": "stream",
     "text": [
      "                        labels:  1.8 MiB\n",
      "                documents_test:  1.3 MiB\n",
      "                      doc_test:  1.3 MiB\n",
      "                    new_Y_test:  1.3 MiB\n",
      "                 Y_test_reduce:  1.2 MiB\n",
      "                        Y_test:  1.2 MiB\n",
      "               documents_train: 565.4 KiB\n",
      "                     doc_train: 565.4 KiB\n",
      "                   new_Y_train: 565.4 KiB\n",
      "                       Y_train: 521.6 KiB\n"
     ]
    }
   ],
   "source": [
    "for name, size in sorted(((name, sys.getsizeof(value)) for name, value in locals().items()),\n",
    "                         key= lambda x: -x[1])[:10]:\n",
    "    print(\"{:>30}: {:>8}\".format(name, sizeof_fmt(size))) "
   ]
  },
  {
   "cell_type": "code",
   "execution_count": 16,
   "metadata": {},
   "outputs": [
    {
     "data": {
      "text/plain": [
       "0"
      ]
     },
     "execution_count": 16,
     "metadata": {},
     "output_type": "execute_result"
    }
   ],
   "source": [
    "del labels,new_Y_train,new_Y_test\n",
    "gc.collect()"
   ]
  },
  {
   "cell_type": "markdown",
   "metadata": {},
   "source": [
    "n-grms: Only from doc train"
   ]
  },
  {
   "cell_type": "code",
   "execution_count": 17,
   "metadata": {},
   "outputs": [
    {
     "data": {
      "text/plain": [
       "'\\ndicc_ngrms = {}\\nsentence = \\'this is a foo bar sentences and i want to ngramize it this is\\'\\n\\nn = 1\\nsixgrams = ngrams(sentence.split(), n)\\n\\nfor grams in sixgrams:\\n    aux = \" \".join(list(grams))\\n    if aux in dicc_ngrms:\\n        dicc_ngrms[aux] += 1\\n    else:\\n        dicc_ngrms[aux] = 0\\n\\nmin_df = 2        \\nn_grmas_list = []\\nfor k,v  in dicc_ngrms.items():\\n    if v >= min_df:\\n        n_grmas_list.append(k)\\nprint(dicc_ngrms)  \\n'"
      ]
     },
     "execution_count": 17,
     "metadata": {},
     "output_type": "execute_result"
    }
   ],
   "source": [
    "\"\"\"\n",
    "dicc_ngrms = {}\n",
    "sentence = 'this is a foo bar sentences and i want to ngramize it this is'\n",
    "\n",
    "n = 1\n",
    "sixgrams = ngrams(sentence.split(), n)\n",
    "\n",
    "for grams in sixgrams:\n",
    "    aux = \" \".join(list(grams))\n",
    "    if aux in dicc_ngrms:\n",
    "        dicc_ngrms[aux] += 1\n",
    "    else:\n",
    "        dicc_ngrms[aux] = 0\n",
    "\n",
    "min_df = 2        \n",
    "n_grmas_list = []\n",
    "for k,v  in dicc_ngrms.items():\n",
    "    if v >= min_df:\n",
    "        n_grmas_list.append(k)\n",
    "print(dicc_ngrms)  \n",
    "\"\"\""
   ]
  },
  {
   "cell_type": "code",
   "execution_count": 18,
   "metadata": {},
   "outputs": [
    {
     "data": {
      "text/plain": [
       "'\\n# Put toguether the hold train text\\nall_text = \"\"\\nfor i in doc_train:\\n    all_text += i + \" \"\\n    \\nn = 1\\ndicc_ngrms = {}\\n\\ngrams_text = ngrams(all_text.split(), n)\\nfor grams in grams_text:\\n    aux = \" \".join(list(grams))\\n    if aux in dicc_ngrms:\\n        dicc_ngrms[aux] += 1\\n    else:\\n        dicc_ngrms[aux] = 0\\n\\nmin_df = 5      \\nn_grmas_list = []\\nfor k,v  in dicc_ngrms.items():\\n    if v >= min_df:\\n        n_grmas_list.append(k)\\n        \\nn_grmas_list.sort()\\nprint(len(n_grmas_list))    \\n'"
      ]
     },
     "execution_count": 18,
     "metadata": {},
     "output_type": "execute_result"
    }
   ],
   "source": [
    "\"\"\"\n",
    "# Put toguether the hold train text\n",
    "all_text = \"\"\n",
    "for i in doc_train:\n",
    "    all_text += i + \" \"\n",
    "    \n",
    "n = 1\n",
    "dicc_ngrms = {}\n",
    "\n",
    "grams_text = ngrams(all_text.split(), n)\n",
    "for grams in grams_text:\n",
    "    aux = \" \".join(list(grams))\n",
    "    if aux in dicc_ngrms:\n",
    "        dicc_ngrms[aux] += 1\n",
    "    else:\n",
    "        dicc_ngrms[aux] = 0\n",
    "\n",
    "min_df = 5      \n",
    "n_grmas_list = []\n",
    "for k,v  in dicc_ngrms.items():\n",
    "    if v >= min_df:\n",
    "        n_grmas_list.append(k)\n",
    "        \n",
    "n_grmas_list.sort()\n",
    "print(len(n_grmas_list))    \n",
    "\"\"\""
   ]
  },
  {
   "cell_type": "code",
   "execution_count": 19,
   "metadata": {},
   "outputs": [],
   "source": [
    "#n_grmas_list"
   ]
  },
  {
   "cell_type": "code",
   "execution_count": 20,
   "metadata": {},
   "outputs": [
    {
     "data": {
      "text/plain": [
       "'\\nvocabulary_python = {}\\nfor document in doc_train:\\n    document = document.lower()\\n    document = document.split()\\n    for term in document:\\n        if term in vocabulary_python:\\n            vocabulary_python[term] += 1\\n        else:\\n            vocabulary_python[term] = 0\\n            \\n'"
      ]
     },
     "execution_count": 20,
     "metadata": {},
     "output_type": "execute_result"
    }
   ],
   "source": [
    "# Dicctionary is only create from train documents, like in real life\n",
    "\"\"\"\n",
    "vocabulary_python = {}\n",
    "for document in doc_train:\n",
    "    document = document.lower()\n",
    "    document = document.split()\n",
    "    for term in document:\n",
    "        if term in vocabulary_python:\n",
    "            vocabulary_python[term] += 1\n",
    "        else:\n",
    "            vocabulary_python[term] = 0\n",
    "            \n",
    "\"\"\""
   ]
  },
  {
   "cell_type": "code",
   "execution_count": 21,
   "metadata": {},
   "outputs": [
    {
     "data": {
      "text/plain": [
       "\"\\nv = []\\nfor key in vocabulary_python:\\n    if vocabulary_python[key] >= 5:\\n        #print(key, '->', vocabulary_python[key])\\n        #del vocabulary_python[key]\\n        v.append(key)\\nv.sort()\\nprint(len(v))\\n\""
      ]
     },
     "execution_count": 21,
     "metadata": {},
     "output_type": "execute_result"
    }
   ],
   "source": [
    "\"\"\"\n",
    "v = []\n",
    "for key in vocabulary_python:\n",
    "    if vocabulary_python[key] >= 5:\n",
    "        #print(key, '->', vocabulary_python[key])\n",
    "        #del vocabulary_python[key]\n",
    "        v.append(key)\n",
    "v.sort()\n",
    "print(len(v))\n",
    "\"\"\""
   ]
  },
  {
   "cell_type": "code",
   "execution_count": 22,
   "metadata": {},
   "outputs": [],
   "source": [
    "#print(v)"
   ]
  },
  {
   "cell_type": "code",
   "execution_count": 23,
   "metadata": {},
   "outputs": [
    {
     "name": "stdout",
     "output_type": "stream",
     "text": [
      "(66753, 20975)\n",
      "Time is:  19.06559109687805\n"
     ]
    }
   ],
   "source": [
    "from scipy import sparse\n",
    "start = time.time()\n",
    "\n",
    "#Note, that lower case ( ) in Vectorizer is by default\n",
    "\n",
    "# Our Vocabulary : 26784 words\n",
    "#vectorizer = CountVectorizer(vocabulary=n_grmas_list,dtype=np.int64) \n",
    "\n",
    "word_gram = 1\n",
    "vectorizer = CountVectorizer(dtype=np.int64,min_df=5,strip_accents=\"ascii\") \n",
    "\n",
    "# 3-char n gram\n",
    "#word_gram = 2\n",
    "#vectorizer = CountVectorizer(analyzer='char', ngram_range=(word_gram, word_gram),dtype=np.int64,min_df=5)\n",
    "\n",
    "\n",
    "\n",
    "X = vectorizer.fit_transform(doc_train)\n",
    "X_train = X.toarray()#sparse.csr_matrix(X)#\n",
    "print(X_train.shape)\n",
    "end = time.time()\n",
    "print(\"Time is: \",end - start)\n",
    "#print(vectorizer.get_feature_names())"
   ]
  },
  {
   "cell_type": "code",
   "execution_count": 24,
   "metadata": {},
   "outputs": [
    {
     "name": "stdout",
     "output_type": "stream",
     "text": [
      "  (0, 7651)\t2\n"
     ]
    }
   ],
   "source": [
    "print(X[6542])"
   ]
  },
  {
   "cell_type": "code",
   "execution_count": null,
   "metadata": {},
   "outputs": [],
   "source": []
  },
  {
   "cell_type": "code",
   "execution_count": 25,
   "metadata": {},
   "outputs": [
    {
     "name": "stdout",
     "output_type": "stream",
     "text": [
      "20975   ano\n"
     ]
    }
   ],
   "source": [
    "DicC = vectorizer.get_feature_names()\n",
    "print(len(DicC),\" \",DicC[765])"
   ]
  },
  {
   "cell_type": "code",
   "execution_count": null,
   "metadata": {},
   "outputs": [],
   "source": []
  },
  {
   "cell_type": "code",
   "execution_count": 26,
   "metadata": {},
   "outputs": [
    {
     "name": "stdout",
     "output_type": "stream",
     "text": [
      "['aTM', 'aa', 'aaa', 'aaaa', 'aaaaa', 'aaaaah', 'aaaah', 'aaabeeceeaebcbdeab', 'aaah', 'aaand', 'aaargh', 'aabaadeeef', 'aabb', 'aabdbdfbdfae', 'aac', 'aacc', 'aacccebfcfeee', 'aaddbfecafba', 'aadfbbcdfdbee', 'aadil', 'aae', 'aaedefafe', 'aaeua', 'aafcefacd', 'aah', 'aahh', 'aahhh', 'aai', 'aakb', 'aal', 'aampe', 'aan', 'aand', 'aao', 'aap', 'aargh', 'aaron', 'aaroncampbell', 'aaronlev', 'aaronpk', 'aasl', 'aau', 'ab', 'abaeacabcacac', 'abafeebecdfcfae', 'abandon', 'abarth', 'abarths', 'abbeaef', 'abbffbdfaba', 'abbr', 'abbreviate', 'abbreviation', 'abbreviations', 'abbs', 'abby', 'abc', 'abdfedacbfebea', 'abe', 'abebcacffbeefbbcacabf', 'abecfaccdd', 'abeedbe', 'abend', 'aber', 'abernier', 'abfaadcccbb', 'abfaaedbeaffc', 'abfaaedbeaffcs', 'abg', 'abhi', 'abhishek', 'abi', 'abide', 'abilities', 'ability', 'abit', 'able', 'abnf', 'abnormal', 'abomination', 'aboodman', 'abort', 'abortion', 'abot', 'abotu', 'abou', 'aboutblank', 'aboutconfig', 'aboutquot', 'abouts', 'abovequot', 'aboy', 'abra', 'abroad', 'abrotman', 'abruptly', 'abs', 'absence', 'absent', 'absolute', 'absolutely', 'absolutly', 'absorb', 'abstain', 'abstract', 'abstraction', 'absurd', 'abt', 'abuse', 'abusive', 'abut', 'ac', 'acaceabbbf', 'acaceabbbfalitz', 'academic', 'academy', 'acafeabcacf', 'acbedacedad', 'acbfacfcfffecbf', 'acc', 'accaaccfc', 'accaeccefbaaaaa', 'accbbbeffaffbaca', 'accbcfbec', 'accelerate', 'acceleration', 'accelerator', 'accelerators', 'accent', 'accept', 'acceptable', 'acceptance', 'acceptcharset', 'acceptencoding', 'acces', 'access', 'accessability', 'accesscontrol', 'accesscontrolalloworigin', 'accessibility', 'accessibilityquot', 'accessible', 'accessibles', 'accessifyforum', 'accesskey', 'accesskeys', 'accessor', 'accettura', 'accident', 'accidental', 'accidentally', 'accidentially', 'accidently', 'accommodate', 'accomodate', 'accompany', 'accomplish', 'accord', 'accordingly', 'account', 'accountant', 'accountquot', 'accross', 'acct', 'acctually', 'accually', 'accumulate', 'accuracy', 'accurate', 'accurately', 'accuse', 'accustom', 'acdc', 'acdfdebfcdaa', 'ace', 'aceaeabecf', 'acebabfdd', 'aceeddbdbcbedca', 'aceme', 'acer', 'acfffabadabbde', 'ach', 'acha', 'ache', 'achieve', 'acid', 'acids', 'acidtests', 'ack', 'acknowledge', 'acknowledgement', 'acknowledgements', 'acknowledgments', 'acl', 'acls', 'acount', 'acoustic', 'acpi', 'acquire', 'acrobat', 'acronym', 'acronyms', 'across', 'acs', 'act', 'actaully', 'actin', 'action', 'actionquot', 'actionscript', 'activate', 'activation', 'active', 'actively', 'activex', 'activities', 'activity', 'actor', 'actors', 'actress', 'actual', 'actuall', 'actually', 'actualy', 'actully', 'acually', 'acutally', 'ad', 'ada', 'adacedda', 'adactio', 'adam', 'adams', 'adapt', 'adapter', 'adapters', 'adaptive', 'adaptor', 'adaptors', 'adbacbfefeabb', 'adbadebeeadcaaf', 'adbafddfdddbecc', 'adbdffdfea', 'adcdbfdcb', 'add', 'adddca', 'addedquot', 'addeventlistener', 'addfdeeabecfbe', 'addhandler', 'addict', 'addiction', 'addictive', 'addin', 'addition', 'additional', 'additionally', 'additions', 'addme', 'addon', 'addons', 'addr', 'addremove', 'addres', 'address', 'addressquot', 'addtype', 'adduser', 'addy', 'adelaide', 'adele', 'adept', 'adequate', 'adequately', 'adfeecbcd', 'adhd', 'adhere', 'adhoc', 'adios', 'adium', 'adjacent', 'adjourn', 'adjust', 'adjustment', 'adjustments', 'adl', 'adm', 'admin', 'administer', 'administration', 'administrative', 'administrator', 'admins', 'admiralsenn', 'admire', 'admit', 'admittedly', 'adn', 'ado', 'adobe', 'adobes', 'adolf', 'adopt', 'adopters', 'adoption', 'adorable', 'adore', 'adr', 'adress', 'adresses', 'adrian', 'ads', 'adsense', 'adsl', 'adult', 'adults', 'advance', 'advancements', 'advantage', 'adventure', 'advert', 'advertise', 'advice', 'advices', 'advise', 'advocacy', 'advocate', 'adwords', 'ae', 'aea', 'aebfefcdfbdcbff', 'aecfeabaabae', 'aedinius', 'aee', 'aefaccbcaffbabbcffd', 'aei', 'aeie', 'aelitis', 'aep', 'aer', 'aero', 'aes', 'aesthetic', 'af', 'afaics', 'afaict', 'afaik', 'afair', 'afbcbabebeacbfed', 'afbdcfefb', 'afbefeedcaeee', 'afcaebeadcfd', 'afcbdfccdbfdcd', 'afcedffdfbbbf', 'afedcffbdccbbf', 'affair', 'affairs', 'affect', 'affedfacdabe', 'affiliate', 'affiliation', 'affirmative', 'afford', 'affordable', 'affraid', 'afghanistan', 'afk', 'aforementioned', 'afraid', 'afriad', 'africa', 'african', 'afte', 'afterall', 'afternoon', 'afternoonevening', 'afterward', 'afterwards', 'aftr', 'ag', 'againquot', 'agains', 'agan', 'age', 'agee', 'agegt', 'agencies', 'agency', 'agenda', 'agent', 'agentquot', 'agents', 'agentsquot', 'agesex', 'agesexlocation', 'aggregate', 'aggregation', 'aggregator', 'aggressive', 'aggressively', 'agh', 'aghh', 'agian', 'agin', 'agirl', 'agl', 'agnostic', 'ago', 'agoquot', 'agora', 'agp', 'agree', 'agreement', 'agreements', 'agressive', 'agt', 'ah', 'aha', 'ahaa', 'ahah', 'ahaha', 'ahahaa', 'ahahah', 'ahahaha', 'ahahahaha', 'ahahha', 'aham', 'ahead', 'ahem', 'ahemm', 'ahh', 'ahha', 'ahhah', 'ahhaha', 'ahhh', 'ahhhh', 'ahhhhh', 'ahhhhhh', 'ahhhhhhh', 'ahhhhhhhhh', 'ahi', 'ahigerd', 'ahm', 'ahold', 'ahora', 'ahorny', 'ahover', 'ahoy', 'ahve', 'ai', 'aia', 'aiai', 'aiauo', 'aid', 'aide', 'aie', 'aight', 'aii', 'aiight', 'ail', 'aim', 'aimee', 'ainapost', 'aint', 'aio', 'air', 'airflow', 'airline', 'aironet', 'airplane', 'airplanes', 'airport', 'airports', 'airwave', 'ait', 'aiu', 'aiui', 'aix', 'aj', 'aja', 'ajax', 'ajaxian', 'ajay', 'ajcz', 'ajp', 'ajz', 'ak', 'aka', 'akadruid', 'akash', 'aki', 'akin', 'ako', 'akon', 'aksed', 'aku', 'akward', 'al', 'ala', 'alabama', 'alan', 'alanc', 'alarm', 'alas', 'alaska', 'alay', 'albartus', 'albeit', 'albert', 'alberta', 'albion', 'album', 'albums', 'alcohol', 'alcoholic', 'ale', 'alejandro', 'alert', 'alertdocument', 'alex', 'alexa', 'alexander', 'alexandergm', 'alexandria', 'alexertech', 'alexionescu', 'alexis', 'alexmog', 'algebra', 'algo', 'algorithm', 'algorithmquot', 'algorithms', 'alguem', 'alguien', 'algum', 'ali', 'alias', 'aliased', 'aliases', 'aliasing', 'alice', 'alicia', 'alien', 'align', 'alignment', 'alignquotcenterquot', 'alike', 'alil', 'alistapart', 'alittle', 'alive', 'alla', 'allah', 'alle', 'allegedly', 'allen', 'allergic', 'alles', 'alley', 'alli', 'alliance', 'alligator', 'allinone', 'alll', 'allll', 'allmyfaqs', 'allo', 'allocate', 'allocation', 'allocations', 'allot', 'allover', 'allow', 'allowance', 'allowoverride', 'allquot', 'allready', 'allright', 'alls', 'allude', 'allways', 'ally', 'allyoursecrets', 'almost', 'alo', 'aloha', 'alone', 'along', 'alongside', 'alot', 'aloud', 'alow', 'alpha', 'alphabet', 'alphabetic', 'alphabetical', 'already', 'alredy', 'alright', 'alrighty', 'alrite', 'als', 'alsa', 'alsamixer', 'alseep', 'also', 'alt', 'alta', 'alter', 'alternate', 'alternately', 'alternative', 'alternatively', 'alternatives', 'alternativesquot', 'altf', 'altho', 'although', 'althought', 'altogether', 'altough', 'altquot', 'altquotquot', 'altquotquotgt', 'alturl', 'aluminum', 'alwasy', 'alway', 'always', 'alwayz', 'alyssa', 'ama', 'amale', 'amanda', 'amarok', 'amateur', 'amaya', 'amaze', 'amazingly', 'amazon', 'amber', 'ambient', 'ambiguity', 'ambiguous', 'ambitious', 'ambulance', 'amck', 'amd', 'ame', 'amen', 'amenable', 'amend', 'amendment', 'america', 'american', 'americans', 'americas', 'ami', 'amicable', 'amie', 'amiga', 'amigo', 'amigos', 'amiss', 'amit', 'amm', 'ammm', 'amn', 'amo', 'among', 'amongst', 'amount', 'amp', 'ampamp', 'ampcopy', 'ampersand', 'ampersands', 'ampgt', 'amplifier', 'amplt', 'ampnbsp', 'ampquot', 'amps', 'ampu', 'amrit', 'amsterdam', 'amuse', 'amusingly', 'amy', 'an', 'ana', 'anak', 'anal', 'analog', 'analogies', 'analogous', 'analogy', 'analyse', 'analysis', 'analytics', 'analyze', 'anarchy', 'anarkidotnet', 'anarkinet', 'anatomy', 'ancestor', 'ancestors', 'anchor', 'ancient', 'anda', 'andd', 'anders', 'andersmo', 'anderson', 'andor', 'andre', 'andrea', 'andreas', 'andrei', 'andrew', 'android', 'androids', 'andy', 'andycap', 'anecdotal', 'anfatech', 'angel', 'angela', 'angeles', 'angelina', 'angels', 'anger', 'anglais', 'angle', 'angry', 'angular', 'anim', 'animal', 'animals', 'animate', 'animation', 'animations', 'anime', 'ankara', 'ankle', 'ann', 'anna', 'anne', 'annes', 'annevankesteren', 'annevk', 'annie', 'anniversary', 'annotate', 'annotation', 'annotations', 'announce', 'announcement', 'announcements', 'annoy', 'annoyance', 'annoyingly', 'annual', 'anny', 'ano', 'anolis', 'anon', 'anonymous', 'anonymously', 'anos', 'anothe', 'another', 'anothr', 'anoying', 'ans', 'anser', 'ansi', 'answer', 'ant', 'antarus', 'antec', 'antenna', 'antennas', 'anthony', 'anti', 'antialiased', 'antialiasing', 'anticipate', 'anticipation', 'anticlockwise', 'antipattern', 'antique', 'antisocial', 'antispyware', 'antivirus', 'anton', 'antonio', 'ants', 'anus', 'anwser', 'anxious', 'anybody', 'anychance', 'anyday', 'anyhow', 'anyhting', 'anymore', 'anyone', 'anyones', 'anyplace', 'anythign', 'anythin', 'anything', 'anythng', 'anytime', 'anyting', 'anyway', 'anywayquot', 'anyways', 'anywayz', 'anywhere', 'anywho', 'ao', 'aoa', 'aobut', 'aoe', 'aol', 'aoo', 'aou', 'aouo', 'aout', 'ap', 'apa', 'apaan', 'apache', 'apachectl', 'apaches', 'apachez', 'aparently', 'apart', 'apartment', 'apartments', 'apc', 'ape', 'apear', 'apex', 'apg', 'api', 'apic', 'apiquot', 'apis', 'apisquot', 'apne', 'apng', 'apni', 'apocalypse', 'apologies', 'apologise', 'apologize', 'apos', 'aposapos', 'aposaposapos', 'aposaposaposapos', 'aposaposaposaposapos', 'aposaposaposaposaposapos', 'aposaposaposaposaposaposapos', 'aposaposaposaposaposaposaposaposaposapos', 'aposaposaposquotaposaposquot', 'aposaslapos', 'aposbout', 'aposcause', 'aposd', 'aposello', 'aposem', 'aposi', 'aposll', 'aposm', 'aposnever', 'aposquot', 'aposquotapos', 'aposquotquot', 'aposquotquotquot', 'aposquotquotquotapos', 'aposs', 'aposstrangerapos', 'apossup', 'aposthe', 'apostrophe', 'app', 'apparantly', 'apparent', 'apparently', 'appart', 'appcache', 'appeal', 'appear', 'appearance', 'appearently', 'append', 'appendchild', 'appendchilddocument', 'appendix', 'appformats', 'apple', 'apples', 'applet', 'appletouchicon', 'applets', 'appliance', 'applicable', 'application', 'applicationcache', 'applicationoctetstream', 'applicationquot', 'applications', 'applicationsquot', 'applicationxhtmlxml', 'applicationxhttpdphp', 'applicationxml', 'applicationxwwwformurlencoded', 'apply', 'appoint', 'appointment', 'appquot', 'appreciate', 'appreciation', 'approach', 'appropriate', 'appropriately', 'approval', 'approvalmozillaaurora', 'approve', 'approx', 'approximate', 'approximately', 'approximation', 'apps', 'appspot', 'apr', 'april', 'apropos', 'aps', 'apt', 'aptcache', 'aptget', 'aptitude', 'apxs', 'aqd', 'aqua', 'aquarius', 'aqui', 'aquot', 'ar', 'arab', 'arabia', 'arabian', 'arabic', 'aramdune', 'arbitary', 'arbitrarily', 'arbitrary', 'arbor', 'arc', 'arcade', 'arcane', 'arch', 'archaic', 'archeology', 'architectural', 'architecture', 'architectures', 'archive', 'archivist', 'archlinux', 'arctic', 'ard', 'ardonik', 'area', 'aready', 'areas', 'aree', 'arena', 'arenaot', 'arenapost', 'arent', 'arey', 'areyou', 'arf', 'arg', 'argc', 'argentina', 'argh', 'arghh', 'args', 'arguably', 'argue', 'arguement', 'argument', 'argumentquot', 'arguments', 'argv', 'arh', 'aria', 'ariachecked', 'arial', 'ariel', 'arild', 'arise', 'arithmetic', 'arizona', 'ark', 'arkansas', 'arlan', 'arm', 'armature', 'armatures', 'armpits', 'army', 'arnt', 'arooni', 'around', 'aroung', 'arouse', 'arp', 'arr', 'arrange', 'arrangement', 'arrangements', 'array', 'arraybuffer', 'arraylike', 'arraylist', 'arre', 'arrest', 'arrival', 'arrive', 'arrogant', 'arron', 'arronei', 'arround', 'arrow', 'arrows', 'ars', 'arse', 'arsed', 'art', 'artb', 'arthur', 'article', 'artifact', 'artifacts', 'artificial', 'artificially', 'artist', 'artistic', 'artists', 'arts', 'arty', 'arun', 'arve', 'aryeh', 'aryehgregor', 'asa', 'asain', 'asal', 'asap', 'asc', 'ascii', 'asciicompatible', 'asd', 'asdf', 'asdl', 'asf', 'asg', 'ash', 'ashamed', 'ashley', 'ashn', 'asi', 'asia', 'asian', 'asians', 'aside', 'asides', 'asis', 'ask', 'askalski', 'askd', 'aske', 'askin', 'askl', 'asktom', 'asl', 'aslapos', 'asld', 'asle', 'asleep', 'aslgt', 'asli', 'aslk', 'asll', 'aslo', 'aslp', 'aslplz', 'aslquot', 'asls', 'aslx', 'asm', 'asn', 'aso', 'asp', 'aspa', 'aspect', 'aspects', 'asphttpmsdn', 'asphttpwww', 'aspire', 'aspitemnea', 'aspitemnehttpwww', 'aspquota', 'aspquothttpwww', 'aspx', 'aspxa', 'aspxgt', 'aspxhttpmsdn', 'aspxhttpwww', 'aspxid', 'ass', 'assalamualaikum', 'assemble', 'assembler', 'assemblies', 'assembly', 'assert', 'assertion', 'assertions', 'asses', 'assessment', 'asset', 'assets', 'asshole', 'assholes', 'assi', 'assign', 'assignment', 'assignments', 'assist', 'assistance', 'assistant', 'assistive', 'assl', 'associate', 'association', 'associations', 'associative', 'asss', 'assume', 'assumption', 'assumptions', 'assure', 'astecp', 'asterisk', 'asume', 'asus', 'aswell', 'asyd', 'async', 'asyncfalse', 'asynchronous', 'asynchronously', 'ata', 'atampt', 'ath', 'atheist', 'atheros', 'athiest', 'athletic', 'athlon', 'ati', 'atidrivers', 'atk', 'atkins', 'atl', 'atlanta', 'atlantic', 'atleast', 'atm', 'atmosphere', 'atob', 'atom', 'atomic', 'atomically', 'atoms', 'atop', 'atrocious', 'ats', 'att', 'attach', 'attachment', 'attachments', 'attack', 'attacker', 'attain', 'attempt', 'attend', 'attendance', 'attendees', 'attention', 'attitude', 'attr', 'attract', 'attraction', 'attractive', 'attrib', 'attribute', 'attributequot', 'attributesquot', 'attribution', 'attrs', 'atx', 'atypical', 'au', 'aua', 'auch', 'auckland', 'auction', 'audacity', 'audi', 'audience', 'audio', 'audiovideo', 'audit', 'audownload', 'auf', 'aug', 'augment', 'august', 'aulistamatica', 'aulistamatichttpcss', 'aunt', 'aunts', 'auo', 'aur', 'aural', 'auralis', 'aurora', 'aus', 'aussi', 'aussie', 'aussies', 'aust', 'austin', 'australia', 'australian', 'australians', 'austria', 'austrian', 'auth', 'authe', 'authenticate', 'authentication', 'author', 'authorise', 'authoritative', 'authorities', 'authority', 'authorization', 'authorize', 'authorsquot', 'auto', 'autoaway', 'autoclose', 'autocmd', 'autocommand', 'autocomplete', 'autocompletion', 'autoconf', 'autodetect', 'autodiscovery', 'autofill', 'autofocus', 'autogenerated', 'autoincrement', 'autoindent', 'autoload', 'automagic', 'automagically', 'automake', 'automate', 'automatic', 'automatically', 'automaticaly', 'automaticly', 'automation', 'autoplay', 'autoquot', 'autotoc', 'autoupdate', 'autumn', 'auu', 'aux', 'av', 'avada', 'avaialble', 'avail', 'availability', 'available', 'availablequot', 'avaliable', 'avatar', 'ave', 'avec', 'avenge', 'avenue', 'average', 'avg', 'avi', 'avia', 'avoid', 'avril', 'aw', 'await', 'awake', 'award', 'aware', 'awareness', 'away', 'awe', 'awee', 'awesome', 'awesomee', 'awesomeness', 'awesum', 'awful', 'awfully', 'awh', 'awhh', 'awhile', 'awk', 'awkward', 'awnser', 'aws', 'awsome', 'awsum', 'aww', 'awwe', 'awwh', 'awww', 'awwww', 'awwwww', 'awwwwww', 'awwwwwww', 'ax', 'axe', 'axiomatic', 'axis', 'axisys', 'axl', 'axx', 'ay', 'aye', 'ayee', 'ayeee', 'ayo', 'ayrnieu', 'ayuda', 'ayy', 'az', 'azaz', 'azi', 'azureus', 'azureussupport', 'azureuswiki', 'azzizza', 'ba', 'baa', 'baabedcdeb', 'baaebdbbbfaadc', 'baat', 'bab', 'baba', 'babay', 'babble', 'babby', 'babcbfdadddb', 'babe', 'babee', 'babes', 'babi', 'babo', 'baby', 'babysit', 'babysitter', 'babysitting', 'babyy', 'babyyy', 'bacafbfd', 'bacbdffddbac', 'baccbdceaf', 'bachelor', 'back', 'backbone', 'backchannel', 'backcompat', 'backend', 'backends', 'backforward', 'background', 'backgroundclip', 'backgroundcolor', 'backgroundimage', 'backgroundposition', 'backgroundrepeat', 'backgroundsize', 'backlog', 'backout', 'backpack', 'backport', 'backported', 'backports', 'backquot', 'backround', 'backscroll', 'backslash', 'backslashes', 'backspace', 'backtrace', 'backtrack', 'backup', 'backups', 'backward', 'backwards', 'backwardscompatible', 'backwardsincompatible', 'backyard', 'bacon', 'bad', 'badass', 'badd', 'baddcebefedf', 'badge', 'badger', 'badly', 'badminton', 'badness', 'badquot', 'badtcp', 'bafaaffdaffd', 'baffle', 'bafserv', 'bag', 'bagdadsoftware', 'bagel', 'baggage', 'bah', 'bahah', 'bahaha', 'bahahah', 'bahahaha', 'bahan', 'bahasa', 'bai', 'baidu', 'bail', 'bait', 'bak', 'baka', 'bake', 'baker', 'balance', 'bald', 'bali', 'ball', 'ballet', 'balloon', 'ballpark', 'ballsack', 'bam', 'ban', 'banana', 'bananas', 'band', 'bandaid', 'bandung', 'bandwidth', 'bane', 'bang', 'bangalore', 'banget', 'bangkok', 'bangladesh', 'banglore', 'bank', 'banner', 'banners', 'banshee', 'bar', 'bara', 'barack', 'barbara', 'barbie', 'barcelona', 'bare', 'barefoot', 'barely', 'barf', 'bark', 'barn', 'barney', 'baron', 'barquot', 'barrel', 'barrier', 'barriers', 'bart', 'barth', 'baru', 'bas', 'base', 'baseball', 'baseline', 'basement', 'bash', 'bashrc', 'bashusr', 'basic', 'basically', 'basicaly', 'basicly', 'basics', 'basis', 'basket', 'basketball', 'bass', 'bastard', 'bastards', 'bat', 'bata', 'batao', 'batch', 'bath', 'bathroom', 'bathrooms', 'batman', 'batteries', 'battery', 'battle', 'battry', 'baud', 'baughn', 'bay', 'baz', 'bazillion', 'bb', 'bbaefeebbfdbab', 'bbafedebbdbe', 'bball', 'bbbaffedea', 'bbbaffedeas', 'bbbffccabedaff', 'bbc', 'bbcadadbdfbece', 'bbccb', 'bbccbecebbbf', 'bbdfccfdfcefde', 'bbe', 'bbecaecfbfdbdd', 'bbeceecacecc', 'bbecfebcebf', 'bbfcbdbedbeeb', 'bbfcfcc', 'bbg', 'bbiab', 'bbl', 'bbq', 'bbs', 'bby', 'bbye', 'bbz', 'bc', 'bcbdffeefddebc', 'bcecbaebadcaa', 'bck', 'bcmxx', 'bcoz', 'bcp', 'bcuz', 'bd', 'bdaeccece', 'bdaecceceoetmer', 'bday', 'bdb', 'bdbfadcdabba', 'bdc', 'bdcffbaff', 'bddebadd', 'bddfdbcdfacd', 'bddfeabafacdeae', 'bddfeabafacdeaegt', 'bddfeabafacdeaes', 'bdedceddebaeedc', 'bdedffc', 'bdeeefca', 'bdfafaeacb', 'bdfddafacbfbfdcc', 'bdsm', 'be', 'beacdffefacde', 'beach', 'beacon', 'beacuse', 'bead', 'beafdfbaeafdf', 'beagle', 'beam', 'bean', 'bear', 'beard', 'beast', 'beat', 'beatiful', 'beatles', 'beautiful', 'beautifull', 'beautifulsoup', 'beauty', 'beaver', 'bebdbfecceefbbb', 'bebe', 'bebfedccdacfc', 'becasue', 'becfaedaeeba', 'becki', 'becky', 'become', 'becouse', 'becoz', 'becuase', 'becuse', 'bed', 'bedfcf', 'bedroom', 'bedtime', 'bee', 'beef', 'beeing', 'beep', 'beer', 'beers', 'befaddef', 'befddefbacaffafa', 'befdfcdbaf', 'beffecdca', 'befor', 'beforehand', 'beg', 'beggining', 'begin', 'beginner', 'beginners', 'beginpath', 'beh', 'behalf', 'behan', 'behave', 'behavior', 'behaviors', 'behaviour', 'behaviours', 'behind', 'behold', 'bei', 'beiber', 'beijing', 'bein', 'bel', 'beleave', 'beleive', 'beleve', 'belgium', 'belieber', 'belief', 'beliefs', 'believe', 'believer', 'belive', 'belkin', 'bell', 'bella', 'belle', 'belleville', 'belly', 'belong', 'belt', 'bem', 'ben', 'bench', 'benchmark', 'benchmarked', 'benchmarking', 'benchmarks', 'bend', 'beneath', 'beneficial', 'benefit', 'benevolent', 'benifit', 'benjamin', 'benjiman', 'benmillard', 'benr', 'bens', 'benward', 'bequot', 'bereastreet', 'berkeley', 'berlin', 'berry', 'bert', 'berts', 'beshe', 'beside', 'besides', 'bespin', 'best', 'bestfriend', 'bestfriends', 'bet', 'beta', 'betas', 'beter', 'beth', 'betray', 'better', 'betterquot', 'bettr', 'betwen', 'beutiful', 'beverage', 'beverloo', 'beware', 'bey', 'beyond', 'bez', 'bezier', 'bf', 'bfafbbfdabedf', 'bfafffbb', 'bfbdefdde', 'bfbedeccef', 'bfcdddbdecefcd', 'bfceaeefaaffccd', 'bfdaecfbfdabdddcf', 'bfeefafffdd', 'bfeefafffdds', 'bfefeedcd', 'bfemale', 'bff', 'bfore', 'bfs', 'bfu', 'bg', 'bga', 'bgcolor', 'bgd', 'bge', 'bgnews', 'bgp', 'bgt', 'bgtidampoida', 'bgwmdiarydiary', 'bhenchod', 'bhi', 'bhorny', 'bhosdi', 'bi', 'bianca', 'bias', 'biatch', 'biber', 'bible', 'bibtex', 'bich', 'bicurious', 'bicycle', 'bid', 'bidi', 'bidibreak', 'bidirectional', 'bie', 'bieber', 'bien', 'big', 'bigay', 'bigg', 'bigger', 'biggest', 'biggie', 'biggy', 'bigint', 'bigs', 'bij', 'bike', 'bikeshed', 'bikeshedding', 'bikini', 'bikinis', 'bill', 'billbarriere', 'billion', 'billions', 'billy', 'bin', 'binaries', 'binary', 'binbash', 'bind', 'bing', 'bingo', 'binsh', 'binutils', 'bio', 'biologist', 'biology', 'bios', 'biotch', 'bipolar', 'bird', 'birmingham', 'birth', 'birthday', 'birthdays', 'bis', 'bisa', 'biscuits', 'bisexual', 'bist', 'bitbucket', 'bitch', 'bitchh', 'bitchy', 'bite', 'bitlbee', 'bitmap', 'bitmaps', 'bitrate', 'bits', 'bitter', 'bittornado', 'bittorrent', 'bitwise', 'biz', 'bizarre', 'bizzare', 'bizzeh', 'bj', 'bjoern', 'bjrn', 'bjs', 'bjv', 'bk', 'bla', 'blabla', 'black', 'blackberry', 'blackbox', 'blacklist', 'blackout', 'blade', 'blades', 'blah', 'blahblah', 'blahquot', 'blaine', 'blam', 'blame', 'blank', 'blanket', 'blaquot', 'blast', 'blastwave', 'blatantly', 'blaze', 'bleach', 'blech', 'bleed', 'bleeh', 'bleh', 'blend', 'blenda', 'blender', 'blenderd', 'blendernation', 'blenders', 'bless', 'blight', 'blimey', 'blind', 'blindly', 'blink', 'blip', 'bliss', 'blissex', 'blizzard', 'bloat', 'blob', 'block', 'blockd', 'blocker', 'blocklevel', 'blocklist', 'blockquote', 'blocksquot', 'blog', 'blogged', 'blogger', 'bloggers', 'blogging', 'blogspot', 'bloke', 'blond', 'blonde', 'blondes', 'blondie', 'blondish', 'blooberry', 'blood', 'bloody', 'blow', 'blowfish', 'blowin', 'blowjob', 'blowjobs', 'blu', 'blue', 'blueberry', 'bluegreen', 'blueprint', 'bluetooth', 'bluishcoder', 'blumber', 'blunt', 'blur', 'blurry', 'blush', 'bmale', 'bmo', 'bmp', 'bmw', 'bn', 'bnc', 'bnf', 'bo', 'board', 'boarder', 'boat', 'boatquot', 'bob', 'bobby', 'boblet', 'bochs', 'bod', 'bode', 'body', 'bodyquot', 'boeing', 'bof', 'bog', 'bogged', 'boggle', 'bogomips', 'bogus', 'boi', 'boil', 'boiler', 'boilerplate', 'boing', 'bol', 'bold', 'bolder', 'boleh', 'bollocks', 'bollywood', 'bolo', 'bolt', 'bolterbugz', 'bolton', 'bom', 'bomb', 'bombay', 'boms', 'bon', 'bond', 'bondage', 'bone', 'boner', 'boners', 'bong', 'bonjour', 'bonnie', 'bonsoir', 'bonus', 'boo', 'boob', 'boobies', 'book', 'bookmark', 'bookmarked', 'bookmarking', 'bookmarklet', 'bookmarklets', 'bookmarks', 'bool', 'boolean', 'booleans', 'boom', 'booo', 'booom', 'boost', 'boot', 'bootable', 'bootcamp', 'bootcd', 'bootloader', 'bootstrap', 'bootup', 'booty', 'booze', 'bor', 'bord', 'border', 'borderbottom', 'bordercollapse', 'bordergt', 'borderimage', 'borderline', 'borderquotquot', 'borderradius', 'borderstyle', 'bore', 'boredd', 'boreddd', 'boredom', 'borin', 'boris', 'bork', 'borked', 'borland', 'borrow', 'bos', 'boss', 'bossy', 'boston', 'boswell', 'bot', 'botch', 'bother', 'botnet', 'bots', 'bottle', 'bottleneck', 'bottom', 'botty', 'bounce', 'bound', 'boundaries', 'boundary', 'bounty', 'bout', 'bouts', 'bow', 'bowl', 'box', 'boxen', 'boxer', 'boxers', 'boxquot', 'boxshadow', 'boxsizing', 'boy', 'boyd', 'boyer', 'boyf', 'boyfriend', 'boyfriends', 'boyfrnd', 'boygirl', 'boys', 'boyy', 'boyz', 'bp', 'bquot', 'br', 'bra', 'brace', 'bracket', 'brad', 'brag', 'brah', 'brain', 'braindead', 'brainjar', 'brainstorm', 'brainwash', 'brake', 'branch', 'brand', 'brandon', 'brandonturner', 'brandz', 'bras', 'brasil', 'brasileiro', 'brat', 'brats', 'brave', 'bravo', 'bray', 'brazil', 'brazilian', 'brazilians', 'brazillian', 'brb', 'bre', 'bread', 'breadth', 'break', 'breakage', 'breakdown', 'breaker', 'breakfast', 'breakpoint', 'breakquot', 'breast', 'breath', 'breathe', 'bree', 'breed', 'breeze', 'breezy', 'brenda', 'brendan', 'brendang', 'brevity', 'brew', 'brian', 'brianw', 'bribe', 'brick', 'bricks', 'bride', 'bridge', 'brief', 'briefly', 'bright', 'brighten', 'brighton', 'brilliant', 'bring', 'bringin', 'brisbane', 'brit', 'britain', 'british', 'britney', 'brittany', 'brittle', 'brix', 'brked', 'bro', 'broad', 'broadband', 'broadcast', 'broadcom', 'broaden', 'broader', 'broadly', 'broaposs', 'brokenness', 'brook', 'brooke', 'brooklyn', 'bros', 'broski', 'brotha', 'brother', 'brothers', 'brown', 'brownish', 'browse', 'browseable', 'browser', 'browserquot', 'browsers', 'browserspecific', 'browsersquot', 'browserwing', 'bruce', 'brucel', 'brucelawson', 'bruise', 'brunette', 'brunnette', 'bruno', 'brunswick', 'brush', 'brutal', 'brute', 'bruteforce', 'bruv', 'bryan', 'bs', 'bsd', 'bsds', 'bsod', 'bt', 'btard', 'btech', 'btoa', 'bts', 'btw', 'bu', 'bub', 'bubble', 'buck', 'bucket', 'bud', 'buddies', 'buddy', 'budge', 'budget', 'bueno', 'buff', 'buffalo', 'buffer', 'bug', 'bugfix', 'bugger', 'buggin', 'buggy', 'bugmail', 'bugquot', 'bugsquot', 'bugzilla', 'bugzillas', 'buh', 'build', 'buildbuild', 'builder', 'builders', 'buildscript', 'builtin', 'builtins', 'buisness', 'buka', 'bukan', 'bulb', 'bulgaria', 'bulgarian', 'bulge', 'bulk', 'bull', 'bullet', 'bulletproof', 'bullets', 'bullshit', 'bully', 'bum', 'bummer', 'bump', 'bun', 'bunch', 'buncha', 'bundle', 'bunkaisk', 'bunny', 'burden', 'bureau', 'bureaucracy', 'bureaucratic', 'burger', 'burgers', 'burn', 'burner', 'burningbird', 'burntelectrons', 'burp', 'burrito', 'burst', 'bury', 'bus', 'bush', 'business', 'businesses', 'buss', 'bust', 'bustage', 'buster', 'busty', 'busy', 'butcher', 'buts', 'butt', 'butter', 'butterfly', 'butthole', 'button', 'buttonquot', 'buttt', 'buut', 'buy', 'buyin', 'buzy', 'buzz', 'buzzword', 'buzzwords', 'bv', 'bw', 'bwt', 'bx', 'bye', 'byebye', 'byee', 'byeee', 'byeeee', 'byeeeee', 'byeeeeee', 'byeeeeeee', 'byeeeeeeeee', 'byeeeeeeeeee', 'byes', 'bypass', 'byte', 'bytecode', 'bytes', 'byw', 'bz', 'bzip', 'bzz', 'ca', 'caa', 'cab', 'cabal', 'cabbefdbecb', 'cabfcbbeeecfc', 'cable', 'caboo', 'cacefbacdbac', 'cacfceaebbeaeb', 'cache', 'cachecontrol', 'cachequot', 'cad', 'cafe', 'caffdebdead', 'caffeine', 'caffinated', 'cage', 'cahttpapache', 'cahttppastebin', 'caint', 'cairo', 'caius', 'cake', 'cal', 'calc', 'calculate', 'calculation', 'calculations', 'calculator', 'calculus', 'calendar', 'calender', 'calgary', 'cali', 'calibrate', 'calif', 'california', 'call', 'callable', 'callback', 'callbacks', 'calld', 'callee', 'caller', 'callers', 'callin', 'callquot', 'calm', 'cam', 'cambridge', 'camcam', 'camchat', 'camel', 'camelcase', 'camera', 'cameras', 'cameron', 'cami', 'camino', 'camp', 'campaign', 'campbell', 'campp', 'campus', 'cams', 'camsex', 'camspark', 'can', 'canada', 'canadian', 'canadians', 'canal', 'canaot', 'canapost', 'canary', 'canberra', 'cancel', 'cancelable', 'cancer', 'canda', 'candidate', 'candidates', 'candle', 'candy', 'cane', 'caniuse', 'cann', 'cannes', 'cannibal', 'cannt', 'canon', 'canoneurope', 'canonical', 'canot', 'canplaytype', 'canquot', 'cant', 'canu', 'canuck', 'canvas', 'canvasd', 'canvaspixelarray', 'canvasrenderingcontextd', 'canvex', 'cap', 'capabilities', 'capability', 'capable', 'capacitors', 'capacity', 'cape', 'capital', 'capitalise', 'capitalism', 'capitalization', 'capitalize', 'capitals', 'caposmon', 'capslock', 'captain', 'captainmorgan', 'captcha', 'caption', 'captive', 'capture', 'car', 'carakan', 'carbon', 'card', 'cardboard', 'cardbus', 'cardinality', 'cardquot', 'care', 'career', 'careful', 'carefull', 'carefully', 'carequot', 'caress', 'caret', 'cargo', 'cargocult', 'caribbean', 'carl', 'carlos', 'carly', 'carneous', 'carolina', 'caroline', 'carpet', 'carriage', 'carrie', 'carrier', 'carriers', 'carrot', 'carry', 'cars', 'carson', 'cart', 'cartoon', 'carve', 'cas', 'cascade', 'case', 'casebycase', 'caseinsensitive', 'caseinsensitively', 'caseinsensitivity', 'casequot', 'casesensitive', 'casesensitively', 'casey', 'cash', 'casino', 'cassie', 'cast', 'castiel', 'castle', 'casual', 'casually', 'casue', 'cat', 'catalina', 'catalog', 'catalyst', 'catch', 'catchall', 'categories', 'categorize', 'category', 'cater', 'catfive', 'catherine', 'catholic', 'cathy', 'caucasian', 'caus', 'cause', 'caution', 'cautious', 'cauz', 'cave', 'cb', 'cbadfaad', 'cbaeecdbd', 'cbbffdfcfaecf', 'cbccdfaeadade', 'cbcfdcc', 'cbcfdccgt', 'cbdadebecfac', 'cbdcfabfeacfbb', 'cbddbdbfcfc', 'cbddfcfaedcbab', 'cbebebffbcb', 'cbebebffbcbhoetmer', 'cbf', 'cc', 'ccache', 'ccbcfbcccfccb', 'ccc', 'ccd', 'cceafaddd', 'ccecadcabbdfefbca', 'cced', 'ccedaeedfcc', 'cceebacfcecfd', 'ccfdafeade', 'ccfreakk', 'ccimg', 'ccing', 'ccna', 'ccp', 'cd', 'cdata', 'cdbacacde', 'cdbecbfbfef', 'cdbeddebbafdaba', 'cdbeeaeacfcfdbdbed', 'cdcecfebabdc', 'cddbacfcd', 'cddbdbfdfe', 'cddl', 'cddvd', 'cde', 'cdecdfcdecdf', 'cdedebbdcbd', 'cdeefbaefdfc', 'cdf', 'cdfaaadfdaed', 'cdfdbcbffc', 'cdn', 'cdocuments', 'cdr', 'cdrecord', 'cdrom', 'cdrw', 'cds', 'ce', 'ceaabedcbfdb', 'cease', 'cebdafadacddef', 'cecfbbebee', 'cecfefdafee', 'cedabcdbffcaf', 'cedar', 'cedega', 'cedfacedfaceedd', 'ceiling', 'celcius', 'celebrate', 'celebration', 'celebrity', 'celeron', 'celestar', 'cell', 'cellpaddingquotquot', 'cellphone', 'cellphones', 'cells', 'cellspacing', 'cellspacingquotquotgt', 'cellular', 'celsius', 'cem', 'cement', 'censor', 'cent', 'center', 'centos', 'central', 'centralise', 'centralize', 'centre', 'centric', 'centrino', 'cents', 'century', 'ceo', 'cept', 'cereal', 'cert', 'certain', 'certainly', 'certainty', 'certificate', 'certification', 'certify', 'certs', 'cest', 'cet', 'cetera', 'cf', 'cfaaaeadfdcbb', 'cfadfdeed', 'cfbfedfceabeacd', 'cfc', 'cfdaefcd', 'cfddaeedafeb', 'cfdfdbadfaebdffa', 'cfefefcbbdbdeb', 'cfemale', 'cffaacd', 'cffadcddacaecac', 'cffccbde', 'cflags', 'cfm', 'cg', 'cgi', 'cgia', 'cgiid', 'cgiida', 'cgiidc', 'cgiidgt', 'cgiidhttpwww', 'cgiwhatwgwhatwg', 'cguo', 'ch', 'cha', 'chaals', 'chain', 'chainsaw', 'chaintargetmatch', 'chair', 'chaka', 'chakie', 'chakiework', 'chal', 'chalk', 'challenge', 'chamber', 'champ', 'champagne', 'champion', 'chan', 'chance', 'chanel', 'chang', 'change', 'changelog', 'changelogs', 'changequot', 'changeset', 'changesets', 'changin', 'channel', 'chanserv', 'chao', 'chaos', 'chap', 'chapter', 'chapters', 'char', 'character', 'characteristic', 'characteristics', 'characterization', 'characterquot', 'characterset', 'charactersquot', 'charcode', 'chardet', 'charge', 'charger', 'chargin', 'charizard', 'charles', 'charlie', 'charlies', 'charlotte', 'charm', 'charmer', 'charset', 'charsetgt', 'charsetquotquot', 'charsetquotutfquotgt', 'charsets', 'charsetutf', 'charsetutfgt', 'charsetutfquot', 'chart', 'charter', 'chase', 'chassis', 'chat', 'chatin', 'chatroom', 'chatroulette', 'chatt', 'chatter', 'chattin', 'chatty', 'chatzilla', 'che', 'cheap', 'cheaper', 'cheapest', 'cheapo', 'cheat', 'cheater', 'check', 'checkable', 'checkbox', 'checkboxes', 'checkedlistbox', 'checker', 'checkin', 'checkins', 'checkout', 'checkpoint', 'checksum', 'checksums', 'chee', 'cheek', 'cheeky', 'cheep', 'cheer', 'cheerlead', 'cheerleader', 'cheerleaders', 'cheese', 'cheesecake', 'cheesy', 'chef', 'chek', 'chels', 'chelsea', 'chem', 'chemical', 'chemistry', 'chennai', 'cherry', 'chess', 'chest', 'chew', 'chi', 'chian', 'chic', 'chicago', 'chick', 'chicken', 'chickens', 'chickentalons', 'chicks', 'chief', 'chiefra', 'chik', 'child', 'childhood', 'childish', 'childnodes', 'children', 'childrens', 'chile', 'chilis', 'chill', 'chillen', 'chillin', 'chilly', 'chime', 'chin', 'china', 'chinese', 'ching', 'chino', 'chip', 'chipig', 'chipset', 'chipsets', 'chit', 'chkdsk', 'chloe', 'chm', 'chmod', 'chn', 'choclate', 'chocolate', 'chod', 'choi', 'choice', 'choices', 'choir', 'choke', 'choose', 'chop', 'choppy', 'chord', 'chores', 'chorny', 'chorus', 'chovy', 'chow', 'chown', 'chris', 'chrisb', 'chrisl', 'chrismon', 'chrissy', 'christ', 'christel', 'christian', 'christina', 'christine', 'christmas', 'christopheducamp', 'christopher', 'christophvw', 'christy', 'chrisw', 'chriswhite', 'chriswilson', 'chrome', 'chromebook', 'chromequot', 'chromevox', 'chromium', 'chronic', 'chroot', 'chrooted', 'chrooting', 'chstartampcount', 'cht', 'chu', 'chubby', 'chuck', 'chuckle', 'chuda', 'chug', 'chunk', 'church', 'chut', 'chutilitiesjslivedomviewersaved', 'ci', 'cia', 'ciao', 'ciaranm', 'cid', 'cifs', 'cigar', 'cigarette', 'cigarettes', 'cigs', 'cin', 'cincinnati', 'cindent', 'cindy', 'cinema', 'circa', 'circle', 'circuit', 'circular', 'circumstance', 'circumstances', 'circumvent', 'cisco', 'ciscos', 'citation', 'citations', 'cite', 'cities', 'citizen', 'citizens', 'city', 'civil', 'cj', 'cjk', 'cjones', 'ck', 'cl', 'claim', 'clamp', 'clang', 'clap', 'clara', 'clarification', 'clarifications', 'clarify', 'clarity', 'clark', 'clas', 'clash', 'class', 'classic', 'classical', 'classics', 'classid', 'classification', 'classify', 'classimpl', 'classmates', 'classname', 'classnames', 'classpath', 'classquotfoo', 'classquotquot', 'classquoturlquot', 'classroom', 'classy', 'claudia', 'claudio', 'claus', 'clause', 'clauses', 'claw', 'clean', 'cleaner', 'cleanin', 'cleanly', 'cleanup', 'clear', 'clearboth', 'clearer', 'clearly', 'clearrect', 'cleavage', 'clerk', 'clever', 'cleverbot', 'cleverly', 'clg', 'cli', 'click', 'clickable', 'clickjacking', 'client', 'clients', 'clientserver', 'clientside', 'cliff', 'climate', 'climax', 'climb', 'clinic', 'clip', 'clipboard', 'clit', 'clitoris', 'cloak', 'clobber', 'clock', 'clockwise', 'clog', 'clone', 'clonenode', 'clonequot', 'close', 'closedsource', 'closely', 'closer', 'closest', 'closet', 'closure', 'cloth', 'clothe', 'cloths', 'cloud', 'cloudy', 'clown', 'clr', 'club', 'clue', 'clueless', 'clumsy', 'clunky', 'cluster', 'clutter', 'cm', 'cmake', 'cmd', 'cmdline', 'cmihai', 'cmon', 'cmos', 'cms', 'cmss', 'cmu', 'cn', 'cna', 'cnat', 'cnet', 'cnf', 'cnn', 'cnt', 'co', 'coach', 'coal', 'coalesce', 'coast', 'coat', 'coax', 'cobra', 'cocaine', 'cochair', 'cochairs', 'cock', 'cocksucker', 'cocky', 'coco', 'cocoa', 'coconut', 'cod', 'code', 'codebase', 'codebases', 'codec', 'codecs', 'codepoint', 'codepoints', 'codeproject', 'codequot', 'coder', 'coders', 'coderun', 'codify', 'cody', 'coeditor', 'coem', 'coerce', 'coffee', 'coffeescript', 'coffin', 'coffman', 'cognitive', 'coherent', 'coil', 'coin', 'coincide', 'coincidence', 'cok', 'coke', 'col', 'cola', 'cold', 'colder', 'colgroup', 'colin', 'coll', 'collab', 'collaborate', 'collaboration', 'collaborative', 'collage', 'collapse', 'collate', 'collation', 'colleague', 'colleagues', 'collect', 'collection', 'collections', 'collective', 'collectively', 'collector', 'college', 'colleges', 'collegue', 'collide', 'collision', 'collisions', 'colloquy', 'colo', 'colocated', 'colombia', 'colon', 'colons', 'color', 'colorado', 'colorful', 'colorquot', 'colorred', 'colorscheme', 'colour', 'cols', 'colspan', 'columbia', 'columbus', 'column', 'columns', 'com', 'coma', 'comarticle', 'comartworkincominghardyalternatekerberosquot', 'comaskub', 'comb', 'combat', 'combination', 'combinations', 'combine', 'comblog', 'comblognode', 'comblogpgt', 'combo', 'combobox', 'combos', 'combrucelstatusesgt', 'comburningedgetrunkbuildsgt', 'comcast', 'comcuapo', 'comdiveintomarkstatusesgt', 'comdocrefman', 'comdopf', 'come', 'comeback', 'comedian', 'comedy', 'comenuslibraryms', 'comenuslibrarymsvs', 'comenuslibrarysystem', 'comeon', 'comet', 'comevent', 'comfaq', 'comfort', 'comfortable', 'comforumsshowthread', 'comforumsthread', 'comfy', 'comgroupcomp', 'comgroupmozilla', 'comhome', 'comhotnwild', 'comhsivonenstatusesgt', 'comhtml', 'comhttpcss', 'comhttppastebin', 'comhttprewrite', 'comhttpwww', 'comi', 'comic', 'comics', 'comid', 'comin', 'comindex', 'comircwhatwg', 'comjournalgt', 'comjse', 'comkevinmarks', 'comlexijadeexoo', 'comlibrarydefault', 'comm', 'comma', 'command', 'commander', 'commandline', 'commandprompt', 'commandquot', 'commas', 'commaseparated', 'commctrl', 'commeetingnotesarchivesgt', 'commend', 'comment', 'commentary', 'commenter', 'commenters', 'commentor', 'commentquot', 'commercial', 'commercially', 'commicroformats', 'comming', 'commiscstates', 'commit', 'commitment', 'committee', 'commitwatchers', 'commodernizrmodernizrwikihtmlcrossbrowserpolyfills', 'common', 'commonlib', 'commonly', 'commons', 'communicate', 'communication', 'communications', 'communist', 'communities', 'community', 'comneogeografen', 'comnews', 'comnimbuinstatusesgt', 'comnycgalxxx', 'como', 'comodinblogshow', 'comon', 'comp', 'compa', 'compact', 'compain', 'companion', 'company', 'compaq', 'comparable', 'compare', 'comparison', 'comparisons', 'compass', 'compaste', 'compat', 'compatability', 'compatable', 'compatibility', 'compatible', 'compatilbity', 'compatmode', 'compba', 'compbhttperxz', 'compchromiumissuesdetailid', 'compel', 'compensate', 'compensation', 'compete', 'competent', 'competition', 'competitions', 'competitive', 'competitor', 'competitors', 'comphoto', 'comphotos', 'comphtmllibissuesdetailid', 'compilation', 'compile', 'compiler', 'compilers', 'compiletime', 'compiz', 'complain', 'complaint', 'complaints', 'complement', 'complete', 'completely', 'completeness', 'completion', 'completly', 'complex', 'complexities', 'complexity', 'complexspiral', 'compliance', 'compliant', 'complicate', 'compliment', 'comply', 'component', 'components', 'compose', 'composite', 'composited', 'compositing', 'composition', 'compost', 'compound', 'comprehend', 'comprehensible', 'comprehension', 'comprehensive', 'compress', 'compression', 'comprise', 'comproductproduct', 'comproducts', 'comprofile', 'compromise', 'comps', 'computation', 'computational', 'computations', 'compute', 'computer', 'computerquot', 'computers', 'comquot', 'comquota', 'comquothttpwww', 'comrade', 'comrblogspotdcniaqzscuudvwwpressstartlaunchinggooglegame', 'comrblogspotdcniblvdufridaygram', 'comrblogspotdcnicyylcauayjoinleagueofextraordinaryhckersat', 'comrblogspotdcniiqknycmtcmakingstorieswithsocialmediaand', 'comrblogspotdcninjldpfyfridaygram', 'comrblogspotdcnipbhjksecworkingofflinewithcloudongoogle', 'comrblogspotdcniqkqbojgychimeinonioandcheckoutafter', 'comrblogspotdcnirnalhugqueuesmobilecaseforhtmlwebapp', 'comrblogspotdcniyctlklshodreamsindwebglexperiencefor', 'comrefa', 'comrefhomeprofile', 'comrefhttpwww', 'coms', 'comsearch', 'comseyboldeverything', 'comshowthread', 'comstevefaulknerstatusesgt', 'comsupportsoftwarelinuxregistration', 'comsupportwebmastersbinanswer', 'comsurveyanalyse', 'comtest', 'comuid', 'comvideoplaydocida', 'comvideoplaydocidhttpvideo', 'comview', 'comviewtopic', 'comwhatwg', 'comwikiindex', 'comwindowsservera', 'comwindowsserverhttpwww', 'con', 'concat', 'concatenate', 'concatenation', 'conceal', 'concede', 'conceivably', 'concentrate', 'concentration', 'concept', 'concepts', 'conceptual', 'conceptually', 'concern', 'concert', 'concise', 'conclude', 'conclusion', 'conclusions', 'concrete', 'concur', 'concurrency', 'concurrent', 'concurrently', 'condition', 'conditional', 'conditionally', 'conditionals', 'condom', 'condoms', 'conduct', 'cone', 'conf', 'confa', 'conference', 'conferences', 'conferencing', 'confess', 'confession', 'confidence', 'confident', 'confidential', 'config', 'configfile', 'configs', 'configurable', 'configuration', 'configurationquot', 'configurations', 'configure', 'confine', 'confirm', 'confirmation', 'conflate', 'conflict', 'conform', 'conformance', 'conformant', 'conformingquot', 'confortable', 'confront', 'confuse', 'confusingly', 'confusion', 'congrats', 'congratulate', 'congratulations', 'congress', 'conjunction', 'conn', 'connect', 'connecticut', 'connection', 'connectionquot', 'connections', 'connectivity', 'connector', 'connectors', 'connolly', 'connor', 'conntrack', 'conquer', 'conroe', 'conscious', 'consecutive', 'consensus', 'consent', 'consequence', 'consequences', 'conservative', 'consider', 'considerable', 'considerably', 'consideration', 'considerations', 'consist', 'consistency', 'consistent', 'consistently', 'console', 'consolidate', 'consortium', 'conspiracy', 'const', 'constant', 'constantly', 'constants', 'constitute', 'constrain', 'constraint', 'constraints', 'construct', 'construction', 'constructive', 'constructor', 'constructors', 'consult', 'consultant', 'consume', 'consumer', 'consumers', 'consumption', 'cont', 'contact', 'contain', 'container', 'containers', 'contemplate', 'contemporary', 'content', 'contentdocument', 'contenteditable', 'contenteditablequotquot', 'contention', 'contentlanguage', 'contentlength', 'contentlocation', 'contentquot', 'contentquottexthtml', 'contentsquot', 'contenttype', 'contenttypes', 'contentwindow', 'contest', 'context', 'contextmenu', 'contextquot', 'contexts', 'contextsquot', 'contextual', 'continent', 'continually', 'continuation', 'continue', 'continuity', 'continuous', 'continuously', 'continuum', 'contract', 'contractor', 'contradict', 'contradiction', 'contradictions', 'contradictory', 'contrary', 'contrast', 'contrib', 'contribute', 'contribution', 'contributions', 'contributor', 'contributors', 'contrive', 'control', 'controler', 'controller', 'controllers', 'controlquot', 'controlsquot', 'controlsquotcontrolsquot', 'controversial', 'controversy', 'contry', 'convenience', 'convenient', 'conveniently', 'convention', 'conventional', 'conventions', 'converge', 'convergence', 'conversation', 'conversational', 'conversations', 'converse', 'conversely', 'conversion', 'conversions', 'convert', 'converter', 'convertor', 'convey', 'convict', 'convince', 'convo', 'convolute', 'convos', 'coo', 'cook', 'cookie', 'cookies', 'cookin', 'cool', 'coold', 'cooler', 'coolers', 'coolest', 'coolio', 'cooliris', 'cooll', 'coolness', 'coolquot', 'coool', 'cooool', 'coooool', 'cooper', 'cooperate', 'cooperation', 'coord', 'coordinate', 'coordination', 'coords', 'cop', 'cope', 'copper', 'copy', 'copyandpaste', 'copyleft', 'copypasta', 'copypaste', 'copypasted', 'copypasting', 'copyright', 'coques', 'cord', 'cordless', 'core', 'corn', 'corner', 'corp', 'corporate', 'corporation', 'corpse', 'corpus', 'correct', 'correction', 'corrections', 'correctly', 'correctness', 'correlate', 'correlation', 'correspond', 'corrupt', 'corruption', 'cors', 'corse', 'cory', 'cos', 'cosmetic', 'cost', 'costbenefit', 'costly', 'costume', 'cotton', 'couch', 'couchdb', 'coucou', 'coudl', 'cougar', 'cough', 'could', 'coulda', 'couldnapost', 'couldnt', 'couldve', 'council', 'counsel', 'count', 'countdown', 'counter', 'counterpart', 'counterproductive', 'counterproposal', 'counterproposals', 'countless', 'countries', 'country', 'countryaposs', 'countryside', 'county', 'couple', 'courage', 'courier', 'course', 'court', 'courtesy', 'courtney', 'couse', 'cousin', 'cousins', 'coutry', 'cover', 'coverage', 'coviti', 'cow', 'coward', 'cowboy', 'cowboys', 'cowgirl', 'cowo', 'coworker', 'coworkers', 'cowpaths', 'coz', 'cp', 'cpan', 'cpanel', 'cpio', 'cpl', 'cplusplus', 'cpm', 'cpp', 'cprogram', 'cps', 'cpu', 'cpus', 'cquot', 'cr', 'crab', 'crack', 'cracker', 'crackers', 'crackin', 'crackpot', 'craft', 'craig', 'craigslist', 'cram', 'crank', 'cranky', 'crap', 'crappy', 'crash', 'crate', 'crave', 'crawl', 'crawler', 'crawlers', 'crazier', 'craziest', 'craziness', 'crazy', 'crc', 'cream', 'creat', 'create', 'createcontextualfragment', 'createdocument', 'createelement', 'createelementns', 'createevent', 'creation', 'creative', 'creator', 'creators', 'creature', 'creatures', 'credentials', 'credibility', 'credible', 'credit', 'creek', 'creep', 'creeper', 'creepers', 'creepy', 'crescent', 'crew', 'cri', 'crib', 'cricket', 'crikey', 'crime', 'crimes', 'criminal', 'criminals', 'cringe', 'cripple', 'crisis', 'crisp', 'criteria', 'criterion', 'critical', 'criticise', 'criticism', 'criticize', 'critique', 'crlf', 'croatia', 'crock', 'crockford', 'crocodile', 'cron', 'cronjob', 'crook', 'crop', 'cross', 'crossbrowser', 'crossdocument', 'crossdomain', 'crossorigin', 'crossover', 'crossplatform', 'crossreference', 'crossreferences', 'crosssite', 'crossspec', 'crotch', 'crowd', 'crt', 'crucial', 'crud', 'crude', 'cruel', 'cruft', 'cruise', 'crumble', 'crusade', 'crush', 'cry', 'cryin', 'cryo', 'crypt', 'cryptic', 'crypto', 'cryptographic', 'crystal', 'cs', 'csc', 'cscope', 'cset', 'csh', 'csp', 'csrf', 'css', 'cssbased', 'csshtml', 'cssom', 'cssomview', 'cssquot', 'csss', 'csssvg', 'cssui', 'csswg', 'csun', 'csv', 'ct', 'ctags', 'ctcp', 'ctor', 'ctr', 'ctrl', 'ctrla', 'ctrlc', 'ctrlf', 'ctrlj', 'ctrln', 'ctrlp', 'ctrls', 'ctrlshift', 'ctrlv', 'ctrlw', 'ctx', 'cu', 'cuase', 'cub', 'cuba', 'cuban', 'cube', 'cud', 'cuddle', 'cuddly', 'cue', 'cuequot', 'culd', 'culdnt', 'cullen', 'culpa', 'culprit', 'cult', 'cultural', 'culture', 'cum', 'cumbersome', 'cuming', 'cumm', 'cummin', 'cumming', 'cums', 'cunt', 'cunts', 'cup', 'cupcake', 'cupcakes', 'curb', 'cure', 'curie', 'curies', 'curios', 'curiosity', 'curious', 'curiousity', 'curiously', 'curl', 'curly', 'currency', 'current', 'currently', 'currenttime', 'curry', 'curse', 'cursor', 'cursors', 'cursorsoft', 'curve', 'curvy', 'cus', 'cuss', 'custom', 'customer', 'customers', 'customise', 'customizable', 'customization', 'customize', 'cut', 'cute', 'cutee', 'cuter', 'cutie', 'cutieann', 'cutoff', 'cutpaste', 'cuz', 'cuzin', 'cv', 'cvs', 'cvsdude', 'cvssvn', 'cw', 'cwahi', 'cwilso', 'cx', 'cy', 'cya', 'cyb', 'cyber', 'cybering', 'cybersex', 'cyberwars', 'cycle', 'cyclic', 'cyclonus', 'cygwin', 'cylinder', 'cynical', 'cynthia', 'cynthiashelly', 'cyprus', 'cyrille', 'cyrillic', 'cyrus', 'cz', 'czech', 'da', 'dab', 'dabaafaebb', 'dabacabdffaab', 'dac', 'dacbdceafe', 'dacbdebf', 'daccceeabee', 'dad', 'dadaposs', 'daddy', 'daddys', 'dadrew', 'dads', 'dady', 'daemon', 'daemons', 'dafffbbecdacbf', 'daft', 'dag', 'dah', 'dai', 'daily', 'daisy', 'daje', 'dakota', 'dali', 'dallas', 'dam', 'damaestro', 'damage', 'damian', 'damieng', 'damm', 'dammit', 'damn', 'damnit', 'damnn', 'damon', 'damowmow', 'damp', 'dampd', 'dan', 'dana', 'danbeam', 'danc', 'dance', 'dancer', 'dancin', 'danclap', 'dancs', 'dandy', 'dang', 'danger', 'dangerous', 'dangerously', 'dangit', 'dangle', 'dani', 'daniel', 'danieldg', 'danielle', 'danish', 'danke', 'danm', 'danmark', 'dann', 'danny', 'dans', 'dant', 'dao', 'dap', 'daphneemu', 'daphoenix', 'dapi', 'dapos', 'daposs', 'dapper', 'dar', 'dare', 'dari', 'darien', 'dark', 'darkchat', 'darker', 'darkest', 'darkness', 'darla', 'darlin', 'darling', 'darn', 'darobin', 'dart', 'darth', 'darwin', 'darwinports', 'das', 'dash', 'dashboard', 'dashiva', 'dat', 'data', 'database', 'databases', 'datacenter', 'datadir', 'datafiles', 'datagrid', 'datagridview', 'dataguard', 'datalist', 'dataquot', 'dataset', 'datasets', 'datasource', 'datastream', 'datatemplate', 'datatexthtmlltdoctype', 'datatransfer', 'datatype', 'datatypes', 'dataurl', 'datavocabulary', 'date', 'dateline', 'datequot', 'datetime', 'datetimes', 'dats', 'datz', 'daughter', 'daughters', 'dav', 'dave', 'davebsd', 'daveman', 'david', 'davidb', 'dawg', 'dawn', 'day', 'daylight', 'dayquot', 'days', 'daytime', 'dayton', 'dayum', 'dayumm', 'db', 'dba', 'dbaron', 'dbas', 'dbca', 'dbceefcafedeec', 'dbddbdcabdb', 'dbeacabcbcc', 'dbeaceced', 'dbf', 'dbfabaccabae', 'dbfcfdeacaadffef', 'dbi', 'dblink', 'dbm', 'dbname', 'dbs', 'dbus', 'dc', 'dcadaab', 'dcaffecfe', 'dcc', 'dccabdfcefeca', 'dccbbabeaee', 'dcceecdccdadadb', 'dcddafdbfdfdcba', 'dcdddceedafef', 'dceecfdebfbef', 'dclarke', 'dcs', 'dd', 'ddaafffdeeea', 'ddbabbafecad', 'ddccebebfcfe', 'ddd', 'dddbdefcbdf', 'dddbdefddbeac', 'dddcfbfbebab', 'dddd', 'ddddd', 'dddddd', 'ddebffeca', 'ddebffecas', 'ddfbccfbcaa', 'ddos', 'ddr', 'dds', 'ddwrt', 'de', 'dea', 'deactivate', 'dead', 'deadbug', 'deadline', 'deadlines', 'deadlock', 'deadly', 'deadroot', 'deaf', 'deal', 'dealer', 'dealership', 'deamon', 'dean', 'dear', 'death', 'deathmaster', 'deb', 'debatable', 'debate', 'debian', 'debians', 'debianubuntu', 'debsrc', 'debt', 'debug', 'debugger', 'dec', 'decade', 'decades', 'december', 'decent', 'decently', 'decentralize', 'decide', 'decimal', 'decision', 'decisionmaking', 'decisions', 'deck', 'decl', 'declaration', 'declarations', 'declarative', 'declaratively', 'declare', 'decline', 'decode', 'decoder', 'decoders', 'decompose', 'decompress', 'decorate', 'decorative', 'decore', 'decouple', 'decrease', 'decrypt', 'ded', 'dedadcaeddbbeb', 'dedicate', 'deduce', 'dee', 'deeaefcccb', 'deed', 'deefffebebdfdb', 'deem', 'deep', 'deeper', 'deepest', 'deeply', 'deepthroat', 'deer', 'def', 'defacto', 'default', 'defaultvalue', 'defaultview', 'defccdcdfca', 'defeat', 'defect', 'defective', 'defence', 'defend', 'defense', 'defensive', 'defer', 'deff', 'deffinately', 'definately', 'definatly', 'define', 'definedquot', 'definetely', 'definetly', 'definite', 'definitely', 'definition', 'definitionquot', 'definitions', 'definitive', 'definitly', 'deflate', 'deform', 'defunct', 'defy', 'deg', 'degenerate', 'degradation', 'degrade', 'degree', 'degrees', 'del', 'delay', 'delegate', 'delete', 'deletion', 'delewis', 'delhi', 'deliberate', 'deliberately', 'delicate', 'delicious', 'delight', 'delimit', 'delimiter', 'deliver', 'deliverable', 'deliverables', 'delivery', 'dell', 'dells', 'delphi', 'delta', 'deltab', 'deluxe', 'delve', 'dem', 'demand', 'demean', 'demo', 'democracy', 'demon', 'demons', 'demonstrably', 'demonstrate', 'demonstration', 'demote', 'den', 'denial', 'deniedquot', 'deniz', 'denmark', 'dennis', 'denominator', 'denote', 'dense', 'density', 'dentist', 'denver', 'deny', 'dep', 'depart', 'department', 'departments', 'departure', 'depend', 'dependancies', 'dependant', 'dependence', 'dependencies', 'dependency', 'dependent', 'depict', 'deploy', 'deployment', 'deposit', 'depot', 'deprecate', 'depreciate', 'depress', 'depression', 'deprive', 'deps', 'dept', 'depth', 'depths', 'dequota', 'dequothttpwww', 'der', 'derby', 'dere', 'dereference', 'dereferencing', 'derek', 'derivation', 'derivative', 'derive', 'derp', 'deryni', 'des', 'desc', 'descend', 'descendant', 'descendants', 'descendent', 'descendents', 'descent', 'describe', 'description', 'descriptions', 'descriptive', 'descriptor', 'descriptors', 'desert', 'deserve', 'design', 'designate', 'designer', 'designers', 'designmode', 'designquot', 'desirable', 'desire', 'desk', 'deskjet', 'desktop', 'desktops', 'desperate', 'desperately', 'despise', 'despite', 'dessert', 'dest', 'destination', 'destine', 'destiny', 'destroy', 'destruction', 'destructor', 'desu', 'det', 'detach', 'detail', 'detect', 'detectable', 'detection', 'detective', 'detector', 'determination', 'determine', 'deterrent', 'deto', 'detrimental', 'detroit', 'deutch', 'deutsch', 'deutschland', 'dev', 'devaudio', 'devbrainquot', 'devdsp', 'devel', 'develop', 'develope', 'developer', 'developerquot', 'developers', 'developersquot', 'development', 'developmentquot', 'devhda', 'devhdb', 'deviantart', 'deviate', 'deviation', 'device', 'devicequot', 'devices', 'devil', 'devise', 'devmatrix', 'devmd', 'devmem', 'devnull', 'devnullquot', 'devo', 'devolve', 'devs', 'devsda', 'devtools', 'devurandom', 'dew', 'dey', 'df', 'dfa', 'dfcadcabbffa', 'dfccaeeeaebfd', 'dfeafbddcebda', 'dfefdbfcdfaeb', 'dfg', 'dfn', 'dfs', 'dg', 'dglazkov', 'dh', 'dhclient', 'dhcp', 'dhcpcd', 'dhcpd', 'dholbert', 'dhorny', 'dht', 'dhtml', 'dhyatt', 'di', 'dia', 'diablo', 'diagnose', 'diagnostic', 'diagnostics', 'diagonal', 'diagram', 'dial', 'dialect', 'dialer', 'dialog', 'dialogs', 'dialogue', 'dialup', 'diamond', 'diamonds', 'diana', 'diaper', 'diapers', 'diary', 'dic', 'dice', 'dich', 'dick', 'dickhead', 'dickk', 'dicks', 'diconnect', 'dict', 'dictate', 'dictator', 'dictionaries', 'dictionary', 'dident', 'didint', 'didja', 'didnaot', 'didnapost', 'didnt', 'didt', 'die', 'diego', 'diesel', 'diet', 'dieweltistgarnichtso', 'dif', 'diferent', 'diff', 'diffent', 'differ', 'difference', 'differences', 'different', 'differentiate', 'differently', 'differnet', 'differnt', 'difficult', 'difficulties', 'difficulty', 'diffing', 'diffrence', 'diffrent', 'diffs', 'dig', 'digest', 'digg', 'digit', 'digital', 'digits', 'digress', 'digsig', 'dik', 'dildo', 'dilemma', 'dim', 'dimana', 'dime', 'dimension', 'dimensional', 'dimm', 'dimms', 'dimple', 'din', 'dindinx', 'ding', 'dinner', 'dinners', 'dino', 'dinosaur', 'dinosaurs', 'dint', 'dip', 'dipingo', 'diploma', 'dipshit', 'diptables', 'dir', 'dirac', 'dirauto', 'dire', 'direct', 'directd', 'direction', 'directional', 'directionquot', 'directions', 'directive', 'directives', 'directly', 'director', 'directories', 'directory', 'directoryindex', 'directoryquot', 'directx', 'dirname', 'dirs', 'dirt', 'dirty', 'dis', 'disabilities', 'disability', 'disable', 'disadvantage', 'disagree', 'disagreement', 'disallow', 'disambiguate', 'disana', 'disapointed', 'disappear', 'disappoint', 'disappointment', 'disaster', 'disc', 'discard', 'disclaimer', 'disclose', 'disclosure', 'disco', 'disconect', 'disconnect', 'disconnection', 'discontinue', 'discount', 'discourage', 'discover', 'discovery', 'discrepancy', 'discriminate', 'discriminatory', 'discs', 'discuss', 'discussion', 'discussions', 'disease', 'disgrace', 'disguise', 'disgust', 'dish', 'disk', 'disklabel', 'diskquot', 'diskspace', 'dislike', 'dismiss', 'disney', 'disorder', 'dispatch', 'displace', 'display', 'displayblock', 'displayinline', 'displaynone', 'displaytablecell', 'disposal', 'dispose', 'disposition', 'dispute', 'disqualify', 'disqus', 'disregard', 'disrespect', 'disrupt', 'disruptive', 'diss', 'dissapear', 'dissapoint', 'dissapointed', 'dissconnect', 'dissertation', 'dist', 'distance', 'distant', 'distinct', 'distinction', 'distinctions', 'distinctly', 'distinguish', 'distort', 'distract', 'distraction', 'distribute', 'distribution', 'distributions', 'district', 'distro', 'distros', 'disturb', 'dit', 'ditch', 'ditto', 'div', 'dive', 'diveinto', 'diveintohtml', 'diveintomark', 'diverge', 'diverse', 'diversity', 'divide', 'divin', 'divine', 'division', 'divorce', 'divquot', 'divs', 'divx', 'divya', 'diz', 'dizzy', 'dj', 'django', 'dk', 'dkr', 'dl', 'dlc', 'dling', 'dlink', 'dll', 'dllquot', 'dlls', 'dlt', 'dm', 'dma', 'dmesg', 'dmg', 'dmitry', 'dml', 'dmlgt', 'dmoz', 'dmysql', 'dn', 'dna', 'dnat', 'dnd', 'dng', 'dnot', 'dns', 'dnt', 'do', 'doa', 'doable', 'dobra', 'dobre', 'dobro', 'dobugida', 'dobugidhttpbugs', 'doc', 'dock', 'docroot', 'docs', 'doctor', 'doctype', 'doctypequot', 'doctypes', 'docu', 'document', 'documentary', 'documentation', 'documentelement', 'documentfragment', 'documentquot', 'documentroot', 'documentsquot', 'docx', 'dodge', 'dodgy', 'doe', 'doen', 'doenst', 'doent', 'doesent', 'doesnaot', 'doesnapost', 'doesnt', 'doest', 'dog', 'doggie', 'doggy', 'doh', 'doi', 'doign', 'doin', 'doinapos', 'dojo', 'dokey', 'dokie', 'doll', 'dollar', 'dollars', 'dolphin', 'dolske', 'dom', 'domain', 'domainquot', 'domains', 'domas', 'domcontentloaded', 'domcore', 'dome', 'domestic', 'domevents', 'domexception', 'domi', 'dominant', 'dominate', 'domination', 'dominatrix', 'domintro', 'domparser', 'domquot', 'domref', 'doms', 'domstring', 'domstrings', 'domu', 'don', 'donald', 'donaot', 'donapos', 'donapost', 'donate', 'donation', 'donations', 'donde', 'dondelelcaro', 'dong', 'donkey', 'donno', 'dono', 'donot', 'dont', 'dontapos', 'dontbuild', 'dontt', 'donuts', 'doo', 'dood', 'doodle', 'doom', 'dooo', 'door', 'doors', 'dope', 'doquot', 'dork', 'dorks', 'dorky', 'dorm', 'dorward', 'dosbox', 'dose', 'dosent', 'dosnt', 'dot', 'dota', 'dotbot', 'dotn', 'dotnetdotcom', 'dou', 'double', 'doublecheck', 'doubleclick', 'doublep', 'doubt', 'doubtful', 'douche', 'douchebag', 'doug', 'dougie', 'douglas', 'dougs', 'dovecot', 'down', 'downgrade', 'downhill', 'downlevel', 'download', 'downloadable', 'downloadin', 'downplay', 'downquot', 'downside', 'downsides', 'downstairs', 'downstream', 'downtime', 'downtown', 'downward', 'downwards', 'doxygen', 'doyou', 'dozen', 'dozens', 'dp', 'dpi', 'dpkg', 'dpkgreconfigure', 'dport', 'dports', 'dpt', 'dquot', 'dr', 'draco', 'draconian', 'dracula', 'draft', 'draftquot', 'drag', 'draganddrop', 'dragdrop', 'draggable', 'dragon', 'dragonfly', 'dragonheart', 'dragons', 'dragorn', 'dragstart', 'drain', 'drake', 'drama', 'dramatic', 'dramatically', 'drastic', 'drastically', 'draw', 'drawback', 'drawer', 'drawfocusring', 'drawimage', 'drawimageimg', 'drbacchus', 'drchandra', 'drdoug', 'drdt', 'dread', 'dreadful', 'dream', 'dreamer', 'dreamhost', 'dreamweaver', 'drernie', 'dress', 'drfred', 'dri', 'drift', 'drill', 'drink', 'drinkin', 'drip', 'drive', 'driveby', 'driver', 'driverquot', 'drivers', 'driveway', 'drivin', 'drm', 'drmaciver', 'drobo', 'droid', 'drone', 'drool', 'drop', 'dropbox', 'dropdown', 'dropdowns', 'dropin', 'dropquot', 'dropzone', 'drown', 'drug', 'drugo', 'drum', 'drummer', 'drunken', 'drupal', 'drv', 'dry', 'dryer', 'ds', 'dsa', 'dsf', 'dsg', 'dshini', 'dsinger', 'dsk', 'dsl', 'dsmax', 'dsos', 'dsp', 'dst', 'dt', 'dtd', 'dtdd', 'dtdquotgt', 'dtdquotgta', 'dtdquotgthttpwww', 'dtds', 'dtend', 'dtf', 'dtlogin', 'dtm', 'dtrace', 'dts', 'dtstart', 'du', 'dual', 'dualboot', 'dualbooting', 'dualcore', 'dubai', 'dubious', 'dublin', 'dubost', 'dubstep', 'duck', 'duct', 'dud', 'dude', 'dudes', 'dudette', 'due', 'duel', 'duesentrieb', 'duh', 'duhh', 'duhhh', 'duke', 'dull', 'dulu', 'dum', 'dumb', 'dumbass', 'dumbasses', 'dumbed', 'dumbledore', 'dummy', 'dump', 'dun', 'dungeon', 'dunno', 'duno', 'dunt', 'duo', 'dup', 'dupe', 'duplex', 'duplicate', 'duplication', 'dur', 'duration', 'durin', 'durr', 'dus', 'dust', 'dusty', 'dutch', 'duties', 'duty', 'duuude', 'dv', 'dvayanu', 'dvcs', 'dvd', 'dvdrw', 'dvds', 'dveditz', 'dvi', 'dvorak', 'dw', 'dwn', 'dx', 'dxf', 'dy', 'dya', 'dye', 'dyke', 'dylan', 'dynamic', 'dynamically', 'dynamicdrive', 'dynamite', 'dyncompile', 'dyndns', 'dyou', 'eTM', 'ea', 'eaa', 'eaaabaebcdeadfebeec', 'eaabdfcaeaeda', 'eaadaccdbbae', 'eaadeadba', 'eabddafeedfebfaee', 'eabecdaaaeaa', 'eachother', 'eadabc', 'eae', 'eafabcabebbeac', 'eager', 'eagerly', 'eagle', 'eah', 'eai', 'eaiser', 'eally', 'eao', 'ear', 'eariler', 'earlier', 'earliest', 'early', 'earlyer', 'earn', 'ears', 'earth', 'earthling', 'earthquake', 'ease', 'easier', 'easiest', 'easily', 'east', 'easter', 'eastern', 'easy', 'easytouse', 'eat', 'eater', 'eatin', 'eau', 'eaua', 'ebabfedbbfcee', 'ebane', 'ebay', 'ebbbffbcafeaf', 'ebbfaaacaebba', 'ebcdic', 'ebcfbdedbcc', 'ebecfebcadafefaaf', 'ebefeadffddfbc', 'ebfcefccafcb', 'ebfddcadfafbaeb', 'ebfffeabdeafefd', 'ebook', 'ebooks', 'ebuild', 'ebuilds', 'ec', 'ecaafbabfbfe', 'ecacedeeaafebe', 'ecafaabeeffce', 'ecastig', 'ecbfbeededb', 'ecc', 'eccceaefef', 'ecceeceddd', 'ecdecac', 'ecfccfdfad', 'ech', 'echo', 'echt', 'eckie', 'eclass', 'eclipse', 'eclipser', 'ecma', 'ecmascript', 'ecommerce', 'economic', 'economics', 'economy', 'ecosystem', 'ect', 'ed', 'edabedcaccbfbccbadd', 'edaeabcce', 'edbaebebcff', 'edbcadaaacbeeee', 'edbcefbbbcccbfe', 'edbcefbbbcccbfes', 'edbefbdca', 'edffddeebaeweb', 'edge', 'edgy', 'edi', 'edin', 'edit', 'editable', 'edition', 'editionquot', 'editions', 'editmode', 'editor', 'editorial', 'editors', 'editting', 'edna', 'edno', 'edt', 'edu', 'educate', 'education', 'educational', 'edward', 'edwardoconnor', 'edwards', 'ee', 'eebcbcfc', 'eebfaadbbfdb', 'eeceebeccfbe', 'eedaddedffff', 'eee', 'eeejay', 'eeek', 'eei', 'eek', 'een', 'eep', 'eet', 'eeua', 'eey', 'ef', 'efacbdfedbaacce', 'efaeaaaf', 'efbebfafacfcbffaedfe', 'efcedaace', 'efddcacbbdb', 'efeadcfbdbecb', 'efeaedaacbfd', 'eff', 'effbaebafbfcbfee', 'effect', 'effective', 'effectively', 'effectquot', 'effefbfcafae', 'efffcffcae', 'efficiency', 'efficient', 'efficiently', 'effort', 'efforts', 'efnet', 'eg', 'egg', 'eggplant', 'ego', 'egypt', 'egyptianhome', 'egyptianwork', 'eh', 'ehe', 'eheh', 'ehehe', 'eheheh', 'ehh', 'ehhh', 'ehm', 'ehsan', 'ehy', 'ei', 'eich', 'eie', 'eight', 'eighteen', 'eii', 'ein', 'eine', 'eio', 'eit', 'eitan', 'either', 'eithr', 'eiu', 'eiuaiau', 'eject', 'ek', 'ekc', 'ekiga', 'eko', 'el', 'elaborate', 'elazar', 'elbow', 'elder', 'eleaf', 'elect', 'election', 'electric', 'electrical', 'electricity', 'electro', 'electronic', 'electronics', 'elegant', 'elektronkind', 'elem', 'element', 'elementary', 'elementquot', 'elements', 'elementsquot', 'elementtree', 'elena', 'elephant', 'elephants', 'elese', 'elevate', 'eleven', 'elf', 'eli', 'elika', 'eliminate', 'elinks', 'eliot', 'elisp', 'elite', 'elitist', 'elizabeth', 'ell', 'ella', 'eller', 'ellipse', 'ello', 'elm', 'elrond', 'else', 'elsequot', 'elses', 'elsewhere', 'elshaa', 'elves', 'elvis', 'em', 'emacs', 'email', 'emailgtemail', 'emailquot', 'emale', 'embarassed', 'embarassing', 'embarrass', 'embed', 'embeddable', 'embody', 'embrace', 'emc', 'emerge', 'emergency', 'emi', 'emil', 'emily', 'eminem', 'emit', 'emm', 'emma', 'emmm', 'emo', 'emoticon', 'emotion', 'emotional', 'emotions', 'emphasis', 'emphasise', 'emphasize', 'empire', 'employ', 'employee', 'employees', 'employer', 'employers', 'employment', 'empty', 'emre', 'ems', 'emu', 'emuandco', 'emulate', 'emulation', 'emulator', 'emulators', 'en', 'enable', 'enabledisable', 'enabledquot', 'enc', 'encapsulate', 'encapsulation', 'enchant', 'enclaved', 'enclose', 'enclosure', 'encode', 'encoder', 'encodingquot', 'encounter', 'encourage', 'encrypt', 'encryption', 'enctype', 'encyclopedia', 'end', 'endianness', 'endif', 'endless', 'endoffile', 'endorse', 'endpoint', 'endpoints', 'endquot', 'endra', 'enduser', 'endusers', 'enemies', 'enemy', 'energy', 'enforce', 'eng', 'engadget', 'engage', 'engb', 'engbxhixie', 'engg', 'engine', 'engineer', 'engines', 'england', 'englisch', 'english', 'engrish', 'enhance', 'enhancement', 'enhancements', 'eniac', 'eniacpetrov', 'enjoy', 'enjoyable', 'enlarge', 'enlighten', 'enlightenment', 'enogh', 'enormous', 'enouf', 'enough', 'enoughquot', 'enought', 'enquot', 'enrage', 'enrique', 'ensiferum', 'ensue', 'ensure', 'entail', 'enter', 'enterprise', 'entertain', 'entertainment', 'enthusiasm', 'enthusiastic', 'entice', 'entire', 'entirely', 'entirety', 'entities', 'entitle', 'entity', 'entrance', 'entrant', 'entries', 'entriesquot', 'entropy', 'entry', 'entryquot', 'entrys', 'entrytitle', 'enuf', 'enuff', 'enum', 'enumerable', 'enumerate', 'enumeration', 'enums', 'enus', 'env', 'enviroment', 'environment', 'environmental', 'environments', 'envision', 'envy', 'eo', 'eof', 'eoi', 'eoii', 'eol', 'eot', 'ep', 'epic', 'epiphany', 'episode', 'episodes', 'epoch', 'epub', 'equal', 'equality', 'equally', 'equate', 'equation', 'equations', 'equip', 'equipment', 'equiv', 'equivalent', 'equivalents', 'equot', 'er', 'era', 'erase', 'eraser', 'ere', 'erect', 'erection', 'eres', 'erf', 'erg', 'ergh', 'eric', 'ericsson', 'erik', 'erin', 'erm', 'ermm', 'erotic', 'erp', 'err', 'errands', 'errata', 'errm', 'errno', 'erro', 'erroneous', 'error', 'errorhandling', 'errorlog', 'errorprone', 'errorquot', 'errors', 'errorsquot', 'errr', 'errror', 'es', 'esc', 'escalate', 'escalation', 'escape', 'esd', 'esex', 'esl', 'esp', 'espana', 'espanol', 'especially', 'espn', 'espresso', 'esr', 'essay', 'essence', 'essential', 'essentially', 'essid', 'est', 'esta', 'establish', 'establishedrelated', 'estas', 'estate', 'este', 'estimate', 'esto', 'estonia', 'estoy', 'esw', 'et', 'eta', 'etabetapi', 'etag', 'etc', 'etcapachehttpd', 'etcconf', 'etcfstab', 'etch', 'etchosts', 'etcinit', 'etcmodules', 'etcmy', 'etcpam', 'etcpasswd', 'etcportagepackage', 'etcrc', 'etcresolv', 'etcvimvimrc', 'etemad', 'eternal', 'eternity', 'eth', 'ethan', 'ether', 'ethereal', 'ethernet', 'ethiopia', 'ethnicity', 'eto', 'etree', 'etter', 'eu', 'eua', 'eucjp', 'euckr', 'eugene', 'euh', 'euhm', 'eula', 'eur', 'eureka', 'euro', 'europe', 'european', 'europeans', 'euros', 'ev', 'eva', 'evade', 'eval', 'evaluate', 'evaluation', 'evangelism', 'evar', 'eve', 'even', 'evenin', 'event', 'eventhandler', 'eventlistener', 'eventquot', 'events', 'eventsdevcamp', 'eventsmeetup', 'eventsmicroformatsthbday', 'eventsource', 'eventsquot', 'eventsweeklydinnersf', 'eventsweeklymeetupdinner', 'eventtarget', 'eventually', 'ever', 'everone', 'everthing', 'every', 'everybody', 'everybodys', 'everyday', 'everyone', 'everyoneaposs', 'everyonequot', 'everyones', 'everythign', 'everythin', 'everything', 'everythingaposs', 'everythingquot', 'everythings', 'everytime', 'everywhere', 'eveything', 'evidence', 'evident', 'evidently', 'evil', 'evilquot', 'evils', 'evn', 'evolution', 'evolve', 'evr', 'evry', 'evryone', 'evrything', 'ew', 'eww', 'ewww', 'ewwww', 'ewwwww', 'ex', 'exaclty', 'exacly', 'exact', 'exactly', 'exaggerate', 'exam', 'examination', 'examine', 'example', 'examplequot', 'examples', 'exams', 'exatly', 'exbf', 'excanvas', 'exceed', 'excel', 'excelent', 'excellent', 'except', 'exception', 'exceptional', 'exceptionally', 'exceptions', 'excerpt', 'excess', 'excessive', 'excessively', 'exchange', 'excite', 'excitement', 'exclamation', 'exclude', 'exclusion', 'exclusive', 'exclusively', 'excuse', 'exe', 'exec', 'execcommand', 'executable', 'executables', 'execute', 'executesql', 'execution', 'exemple', 'exempt', 'exept', 'exequot', 'exercise', 'exert', 'exes', 'exhaust', 'exhaustive', 'exhibit', 'exist', 'existance', 'existant', 'existence', 'existenz', 'existingrelvalues', 'existquot', 'exit', 'exitquot', 'exotic', 'exp', 'expand', 'expandtab', 'expansion', 'expect', 'expectation', 'expectations', 'expectedquot', 'expencive', 'expense', 'expensive', 'experience', 'experiment', 'experimental', 'experimentation', 'expert', 'expertise', 'experts', 'expertsj', 'expiration', 'expire', 'expiry', 'explain', 'explanation', 'explanations', 'explanatory', 'explicit', 'explicitly', 'explicity', 'explode', 'exploit', 'explore', 'explorer', 'explosion', 'expo', 'exponential', 'export', 'exporter', 'exporthome', 'expose', 'exposure', 'express', 'expression', 'expressions', 'ext', 'extant', 'extend', 'extensibility', 'extensible', 'extension', 'extensions', 'extensive', 'extensively', 'extent', 'extention', 'extentions', 'external', 'externally', 'extra', 'extract', 'extraction', 'extraneous', 'extraordinary', 'extrapolate', 'extras', 'extreme', 'extremely', 'extremly', 'extrude', 'ey', 'eya', 'eye', 'eyeball', 'eyebrow', 'eyebrows', 'eyecandy', 'eyecue', 'eyou', 'eys', 'eyy', 'eyyy', 'ez', 'fa', 'fabaffabab', 'fabaffababs', 'fabric', 'fabricate', 'fabulous', 'faccedecabdc', 'facdfceacd', 'face', 'facebok', 'facebook', 'facebooktruth', 'faceboook', 'facee', 'facepalm', 'facepalms', 'facet', 'facetious', 'facetoface', 'facial', 'facilitate', 'facilities', 'facility', 'fack', 'fact', 'facto', 'factoid', 'factoids', 'factor', 'factory', 'facts', 'factual', 'faculty', 'fad', 'fade', 'faeceafdfbfb', 'fafbbceecfdeb', 'fag', 'fagget', 'faggot', 'fail', 'faileas', 'failedquot', 'failover', 'failsafe', 'failure', 'failures', 'faint', 'fair', 'fairly', 'fairness', 'fairy', 'fait', 'faith', 'fajita', 'fajitas', 'fake', 'fala', 'fall', 'fallback', 'fallbacks', 'fallin', 'fallout', 'false', 'falsequot', 'fam', 'famale', 'fame', 'famele', 'familar', 'familiar', 'familiarity', 'families', 'family', 'familys', 'famous', 'fan', 'fanboy', 'fancier', 'fancy', 'fanny', 'fantasai', 'fantasize', 'fantastic', 'fantasy', 'fap', 'fapping', 'faq', 'faqs', 'far', 'fare', 'farewell', 'fark', 'farm', 'fart', 'farther', 'fas', 'fascinate', 'fashion', 'fashionable', 'fast', 'fastcgi', 'faster', 'fasterquot', 'fastest', 'fat', 'fatal', 'fate', 'father', 'fatheraposs', 'fatty', 'faulkner', 'fault', 'faulty', 'faus', 'faux', 'fav', 'fave', 'favicon', 'favor', 'favorite', 'favorites', 'favour', 'favourite', 'fax', 'faxcebxook', 'fb', 'fbabcfcecca', 'fbbdfdedefdebcbe', 'fbcadcfafb', 'fbcdn', 'fbdffcbdadfbf', 'fbh', 'fbi', 'fbook', 'fbprofiledata', 'fbrazil', 'fbsd', 'fc', 'fca', 'fcacaafbada', 'fcacacefddddcc', 'fcaffabcaccfcfdeda', 'fcal', 'fcali', 'fcanada', 'fcbbffddfcdb', 'fcbfdbfabaacd', 'fcc', 'fcdcbcbcbdd', 'fcecffaeffba', 'fcedafeafedbc', 'fchina', 'fck', 'fckn', 'fcuk', 'fd', 'fdabbdaafa', 'fdabfebae', 'fdaffbcacf', 'fdccefccdb', 'fdd', 'fdeab', 'fdeecdfcccb', 'fdefeebfdef', 'fdfaddfabedbca', 'fdffadbcacbbebc', 'fdffdfbabed', 'fdisk', 'fds', 'fe', 'feamle', 'fear', 'feasible', 'feast', 'feather', 'feature', 'featureset', 'featuresquot', 'feb', 'febeacfbfbd', 'febfdcaaebcb', 'february', 'fecaefeddc', 'fecbceebfbc', 'feccffdfeaccbbd', 'fecfbfffeaf', 'feck', 'federal', 'fedora', 'fee', 'feed', 'feedback', 'feefdbbbf', 'feel', 'feelin', 'feet', 'fefecdeefdcaf', 'feh', 'fel', 'fell', 'fella', 'fellas', 'fellow', 'felt', 'fem', 'femail', 'femal', 'female', 'femalee', 'femalehorny', 'females', 'femaleusa', 'femalw', 'feminine', 'femlae', 'fence', 'fengland', 'fennec', 'fer', 'ferrari', 'ferringb', 'fest', 'festival', 'fetch', 'fetish', 'fetishes', 'fetus', 'fever', 'fewer', 'ff', 'ffafdffa', 'ffbaffacedfdf', 'ffbbedbefeebe', 'ffefeaafe', 'fff', 'fffcfcfeb', 'ffmpeg', 'ffox', 'ffs', 'fg', 'fgh', 'fghj', 'fglrx', 'fh', 'fhorny', 'fhouston', 'fi', 'fiber', 'fibre', 'fick', 'fiction', 'fictional', 'fiddle', 'fiddly', 'fidoctype', 'fie', 'field', 'fieldset', 'fieldsets', 'fifa', 'fifo', 'fifteen', 'fifth', 'fifty', 'fig', 'figcaption', 'fight', 'figuideindex', 'figure', 'figurequot', 'fil', 'file', 'fileapi', 'fileformat', 'filegetcontents', 'filelist', 'filename', 'filenames', 'filequot', 'filer', 'filereader', 'filerip', 'filesapache', 'fileserver', 'filesharing', 'filesquot', 'filesystem', 'filesystems', 'filetype', 'filho', 'filip', 'filipina', 'filipino', 'fill', 'filler', 'fillstyle', 'filltext', 'film', 'filter', 'filthy', 'fin', 'final', 'finalise', 'finalize', 'finally', 'finals', 'finaly', 'finance', 'financial', 'find', 'finder', 'findin', 'findonesia', 'fine', 'finee', 'finequot', 'finer', 'finest', 'fing', 'finger', 'fingerprint', 'finicky', 'finish', 'finite', 'fink', 'finland', 'finn', 'finnish', 'fios', 'fir', 'fire', 'fireball', 'firebot', 'firebug', 'firefox', 'firefoxes', 'firefoxgecko', 'firefoxs', 'firend', 'firequot', 'firewall', 'firewalled', 'firewalling', 'firewalls', 'firewire', 'fireworks', 'firm', 'firmly', 'firmware', 'firmwares', 'first', 'firstchild', 'firstclass', 'firstlast', 'firstline', 'firstly', 'firstname', 'firstquot', 'firstt', 'firt', 'fish', 'fishy', 'fist', 'fists', 'fit', 'fithesishtmlconformancechecker', 'five', 'fives', 'fix', 'fixable', 'fixboot', 'fixedwidth', 'fixmbr', 'fixquot', 'fixup', 'fj', 'fk', 'fl', 'flac', 'flaccid', 'flag', 'flagquot', 'flake', 'flaky', 'flame', 'flameeyes', 'flamewar', 'flamewars', 'flanagan', 'flannel', 'flash', 'flashy', 'flat', 'flatten', 'flatter', 'flavor', 'flavour', 'flaw', 'flawless', 'flee', 'fleet', 'flesh', 'flex', 'flexable', 'flexbox', 'flexboxes', 'flexibility', 'flexible', 'flick', 'flicker', 'flickr', 'flight', 'flip', 'flippin', 'flirt', 'float', 'floatleft', 'floatright', 'flock', 'flood', 'floor', 'flop', 'floppies', 'floppy', 'flordia', 'florence', 'florida', 'flow', 'flowchart', 'flower', 'flowplayer', 'floyd', 'flu', 'fluent', 'fluently', 'fluffy', 'fluid', 'fluids', 'flush', 'flux', 'fluxbox', 'flv', 'fly', 'flyback', 'fm', 'fmale', 'fml', 'fn', 'fne', 'fny', 'fo', 'foaf', 'focus', 'focusable', 'fog', 'foggy', 'foil', 'fold', 'folder', 'folders', 'folk', 'folks', 'follow', 'follower', 'followers', 'followsymlinks', 'followup', 'folx', 'fom', 'fon', 'fond', 'fondle', 'fone', 'font', 'fontface', 'fontfamily', 'fonts', 'fontsize', 'fontweight', 'foo', 'foobar', 'foobarbaz', 'food', 'foods', 'fool', 'foolip', 'foolish', 'foolishly', 'fooquot', 'foos', 'foot', 'football', 'footer', 'footers', 'footnote', 'footprint', 'fopen', 'for', 'fora', 'forbid', 'force', 'forcefully', 'ford', 'foreach', 'foreground', 'forehead', 'foreign', 'foreigner', 'foreignobject', 'foreignquot', 'foremost', 'foreplay', 'foreseeable', 'forest', 'forever', 'forge', 'forget', 'forgive', 'forgiveness', 'forgt', 'fori', 'fork', 'form', 'formaction', 'formal', 'formally', 'format', 'formatter', 'formchange', 'formdata', 'former', 'formerly', 'forminput', 'formquot', 'formspring', 'formula', 'formulas', 'formulate', 'forquot', 'forquotquot', 'forrest', 'forrst', 'forstar', 'fort', 'forth', 'forthcoming', 'fortran', 'fortunately', 'fortune', 'forum', 'forums', 'forward', 'fos', 'foss', 'foster', 'fosterparenting', 'foto', 'foul', 'found', 'foundation', 'foundationapache', 'founder', 'foundquot', 'foundry', 'four', 'fours', 'fourteen', 'fourth', 'foward', 'fox', 'fp', 'fpi', 'fppm', 'fps', 'fpu', 'fpwd', 'fquot', 'fr', 'fra', 'fraction', 'fractional', 'frag', 'fragile', 'fragment', 'fragmentation', 'fraid', 'frame', 'framebuffer', 'framerate', 'frameset', 'framesetok', 'framesets', 'framework', 'frameworks', 'fran', 'francais', 'france', 'francisco', 'frank', 'frankfurt', 'frankie', 'frankly', 'frb', 'frbwork', 'frd', 'freak', 'freakin', 'freaky', 'freckle', 'fred', 'free', 'freebsd', 'freedesktop', 'freedom', 'freedos', 'freelance', 'freeldr', 'freely', 'freenode', 'freenodes', 'freeone', 'freetype', 'freeware', 'freeway', 'freeze', 'freezer', 'freezin', 'freind', 'freinds', 'french', 'frend', 'frends', 'freq', 'frequencies', 'frequency', 'frequent', 'frequently', 'fresh', 'freshman', 'fresnel', 'frex', 'fri', 'frickin', 'fricking', 'friday', 'fridaygram', 'fridays', 'fridge', 'friend', 'friendaposs', 'friendlier', 'friendly', 'friends', 'friendship', 'friendships', 'friggen', 'friggin', 'frighten', 'frik', 'frind', 'frinds', 'frined', 'fringe', 'frisbee', 'frisky', 'frist', 'frm', 'frmo', 'frnd', 'frnds', 'frndship', 'fro', 'frog', 'froma', 'frome', 'fromgt', 'fromm', 'fromorigin', 'front', 'fronteers', 'frontend', 'frontends', 'frontpage', 'frost', 'frosty', 'frown', 'frozentux', 'frst', 'fruit', 'fruity', 'frum', 'frustrate', 'frustration', 'fry', 'fs', 'fsb', 'fsck', 'fscked', 'fscking', 'fsd', 'fsf', 'fstab', 'fstat', 'fsync', 'ft', 'ftaiwan', 'ftp', 'ftpftp', 'ftr', 'ftw', 'ftx', 'fu', 'fubar', 'fuc', 'fuck', 'fucka', 'fucken', 'fucker', 'fuckers', 'fuckign', 'fuckin', 'fuckinapos', 'fuckk', 'fuckkk', 'fucktard', 'fud', 'fudge', 'fuel', 'fugly', 'fujitsu', 'fuk', 'fuked', 'fukin', 'ful', 'fulfil', 'fulfill', 'full', 'fullheight', 'fullscreen', 'fullsize', 'fulltext', 'fulltime', 'fully', 'fun', 'func', 'function', 'functional', 'functionality', 'functionally', 'functione', 'functionquot', 'fund', 'fundamental', 'fundamentally', 'funeral', 'funk', 'funky', 'funkybob', 'funn', 'funnier', 'funniest', 'funny', 'funnyjunk', 'fur', 'furious', 'furniture', 'furry', 'furthermore', 'furthest', 'fus', 'fusa', 'fuse', 'fuss', 'futile', 'futurama', 'future', 'futuristic', 'fuzz', 'fuzzy', 'fvwm', 'fw', 'fwd', 'fwiw', 'fx', 'fxteam', 'fyi', 'fyn', 'ga', 'gaan', 'gaand', 'gaat', 'gabriel', 'gad', 'gadgets', 'gag', 'gaga', 'gah', 'gaim', 'gain', 'gak', 'gal', 'galactica', 'galaxy', 'gallery', 'gallon', 'gals', 'gambia', 'gamble', 'game', 'gameblender', 'gameboy', 'gamedev', 'gameplay', 'gamer', 'gamma', 'gammal', 'gana', 'gand', 'gander', 'gandi', 'gandu', 'gang', 'gangsta', 'gangster', 'ganna', 'ganz', 'gap', 'gaposday', 'gar', 'garage', 'garbage', 'garble', 'garden', 'gareth', 'garethadams', 'garlic', 'gary', 'gas', 'gasoline', 'gasp', 'gata', 'gate', 'gateway', 'gateways', 'gather', 'gatta', 'gattanegra', 'gauge', 'gavin', 'gawd', 'gay', 'gaya', 'gaybi', 'gayi', 'gays', 'gayy', 'gaze', 'gb', 'gba', 'gbc', 'gbit', 'gbp', 'gbs', 'gc', 'gcc', 'gcj', 'gd', 'gday', 'gdb', 'gdi', 'gdm', 'ge', 'gear', 'gecko', 'geckos', 'geckowebkit', 'ged', 'gedit', 'gedmurphy', 'gee', 'geek', 'geeks', 'geeky', 'geen', 'geese', 'geez', 'geeze', 'geforce', 'geht', 'gehts', 'geil', 'gel', 'gen', 'genau', 'gender', 'genders', 'gene', 'general', 'generalise', 'generalizations', 'generalize', 'generally', 'generalpurpose', 'generaly', 'generate', 'generation', 'generations', 'generator', 'generators', 'generic', 'generically', 'generics', 'generous', 'genious', 'genitalia', 'genitals', 'genius', 'genkernel', 'genki', 'genone', 'genre', 'genstef', 'gente', 'gentle', 'gentleman', 'gentlemen', 'gently', 'gentoo', 'gentoor', 'gentoowiki', 'genuine', 'genunix', 'geo', 'geocities', 'geoffrey', 'geographical', 'geography', 'geolocation', 'geology', 'geometry', 'george', 'georgia', 'ger', 'german', 'germans', 'germany', 'geronimo', 'gerv', 'gess', 'gesture', 'get', 'getattribute', 'getcomputedstyle', 'getcontext', 'getcontextd', 'getdata', 'getelementbyid', 'getelementsbyclassname', 'getelementsbytagname', 'getent', 'gether', 'getimagedata', 'getin', 'getitems', 'getopt', 'getter', 'getters', 'gettin', 'getusermedia', 'geuss', 'gewoon', 'gf', 'gfs', 'gfx', 'gg', 'ggg', 'ggv', 'gh', 'ghana', 'ghetto', 'ghost', 'ghpages', 'ghz', 'gi', 'giant', 'gibberish', 'gibson', 'gid', 'gif', 'gifa', 'gifhttpwww', 'gifquot', 'gifs', 'gift', 'gig', 'giga', 'gigabit', 'gigabyte', 'gigabytes', 'gigantic', 'gige', 'giggle', 'gigs', 'gil', 'gila', 'gim', 'gimp', 'gin', 'ginger', 'giow', 'gir', 'girl', 'girlapos', 'girlaposs', 'girlfriend', 'girlfriends', 'girlie', 'girll', 'girlll', 'girlquot', 'girls', 'girly', 'gist', 'git', 'github', 'gits', 'giv', 'give', 'givin', 'gj', 'gk', 'gkrellm', 'gl', 'glad', 'glade', 'gladly', 'glance', 'glandium', 'glare', 'glasgow', 'glass', 'glazman', 'glazou', 'gleam', 'gledam', 'glee', 'glenn', 'glib', 'glibc', 'glimpse', 'glitch', 'glitter', 'global', 'globalcompositeoperation', 'globally', 'globals', 'globe', 'glorious', 'glory', 'gloss', 'glow', 'gltu', 'glue', 'glwkt', 'glx', 'glxgears', 'glyph', 'glyphs', 'gm', 'gma', 'gmail', 'gmails', 'gman', 'gmas', 'gmt', 'gn', 'gna', 'gnight', 'gnite', 'gnome', 'gnomeaccessibility', 'gnomes', 'gnometerminal', 'gnu', 'gnulinux', 'gnusolaris', 'go', 'goal', 'goals', 'goat', 'goatcheez', 'goatse', 'god', 'godaddy', 'goddammit', 'goddamn', 'goddess', 'gods', 'godsinc', 'goflyapig', 'gog', 'goign', 'goin', 'goinapos', 'gold', 'golden', 'goldfish', 'golf', 'golqma', 'gomez', 'gon', 'gona', 'gonan', 'gong', 'gonn', 'gonne', 'goo', 'good', 'goodbye', 'goodd', 'goodies', 'goodluck', 'goodmorning', 'goodness', 'goodnight', 'goodquot', 'goods', 'goody', 'goof', 'goofy', 'goog', 'google', 'googlebot', 'googlecode', 'googler', 'goona', 'gooo', 'goood', 'gooood', 'goooood', 'gooooood', 'goose', 'gor', 'gordon', 'gore', 'gorgeous', 'gosh', 'gosox', 'gossip', 'gota', 'gotcha', 'gotchas', 'gotchya', 'goth', 'goto', 'gots', 'gott', 'gottta', 'gov', 'goverment', 'govern', 'government', 'governments', 'governor', 'govt', 'gp', 'gpa', 'gparted', 'gpg', 'gpl', 'gpled', 'gprs', 'gps', 'gpu', 'gq', 'gqueues', 'gr', 'grab', 'grace', 'graceful', 'gracefully', 'gracias', 'gracious', 'grad', 'grade', 'gradient', 'gradients', 'graduate', 'graduation', 'grah', 'graham', 'grail', 'grain', 'gram', 'gramma', 'grammar', 'grammas', 'grammatically', 'grammer', 'grampa', 'grampas', 'grams', 'gran', 'grand', 'grande', 'grandfather', 'grandma', 'grandmas', 'grandmother', 'grandpa', 'grandparents', 'granny', 'grant', 'granularity', 'grape', 'grapes', 'graph', 'graphic', 'graphical', 'graphics', 'graphviz', 'grasp', 'grass', 'grasshopper', 'grat', 'grate', 'grateful', 'gratis', 'gratuitous', 'gratuitously', 'grave', 'gravitational', 'gravity', 'gravy', 'gray', 'grddl', 'grease', 'greasemonkey', 'great', 'greater', 'greatest', 'greatlord', 'greatlrd', 'greatly', 'greatt', 'greece', 'greed', 'greedy', 'greek', 'green', 'greenblue', 'greenbytes', 'greenday', 'greet', 'greg', 'gregory', 'grep', 'grepping', 'grey', 'greyghost', 'greyscale', 'grid', 'grids', 'grief', 'gril', 'grill', 'grin', 'grind', 'grip', 'gripe', 'grl', 'grls', 'grmbl', 'groan', 'grocery', 'grok', 'groningen', 'groovy', 'gross', 'ground', 'group', 'groupquot', 'grow', 'growl', 'growth', 'grr', 'grrr', 'grrrr', 'grrrrr', 'grrrrrr', 'grt', 'grub', 'grumble', 'grumpy', 'grunt', 'gs', 'gsm', 'gsnedders', 'gsnedderswork', 'gsoc', 'gstreamer', 'gstring', 'gt', 'gta', 'gtalk', 'gtamp', 'gtd', 'gte', 'gtfo', 'gtg', 'gtgt', 'gtgtgt', 'gtimplying', 'gtk', 'gtkrc', 'gtlt', 'gtltdivgt', 'gtltimg', 'gtltscriptgt', 'gto', 'gtp', 'gtquot', 'gts', 'gtx', 'gu', 'gua', 'guarantee', 'guard', 'guardian', 'gud', 'gudy', 'gue', 'gues', 'guess', 'guessin', 'guest', 'guests', 'guh', 'gui', 'guid', 'guidance', 'guide', 'guideline', 'guidelines', 'guido', 'guifont', 'guild', 'guilt', 'guilty', 'guinea', 'guis', 'guitar', 'guitarist', 'guitars', 'gulp', 'gum', 'gun', 'gunna', 'gurl', 'gurls', 'guru', 'gurus', 'gus', 'gusta', 'gusto', 'gut', 'guten', 'gutted', 'gutter', 'guy', 'guyaposs', 'guygirl', 'guynot', 'guyquot', 'guyy', 'guyz', 'gve', 'gvim', 'gvimrc', 'gw', 'gwdg', 'gwt', 'gy', 'gya', 'gym', 'gymnastics', 'gz', 'gza', 'gzip', 'gzipped', 'ha', 'haa', 'haaa', 'haaaai', 'haah', 'haaha', 'haay', 'hab', 'habe', 'habit', 'habla', 'hablas', 'hablo', 'hack', 'hacker', 'hackers', 'hackish', 'hacky', 'hadda', 'hade', 'hadnt', 'hae', 'haev', 'haf', 'hafta', 'hah', 'haha', 'hahaa', 'hahaah', 'hahaaha', 'hahad', 'hahah', 'hahaha', 'hahahaa', 'hahahah', 'hahahaha', 'hahahahah', 'hahahahaha', 'hahahahahah', 'hahahahahaha', 'hahahahahahah', 'hahahahahahaha', 'hahahahahahahaha', 'hahahahha', 'hahahh', 'hahahha', 'hahahhaa', 'hahahhaha', 'hahh', 'hahha', 'hahhaa', 'hahhaha', 'hahhahaha', 'hai', 'haii', 'haiii', 'hail', 'hain', 'hair', 'haircut', 'haired', 'hairs', 'hairy', 'hakon', 'hal', 'half', 'halfway', 'hali', 'hall', 'halley', 'hallo', 'hallow', 'halloween', 'hallvord', 'hallway', 'halo', 'haloo', 'halt', 'ham', 'hamburger', 'hamburgers', 'hammer', 'hampshire', 'hamster', 'hamsters', 'han', 'hand', 'handbook', 'handcuff', 'handful', 'handheld', 'handjob', 'handle', 'handleevent', 'handler', 'handlers', 'handset', 'handshake', 'handsome', 'handwritten', 'handy', 'hang', 'hangin', 'hangout', 'hangover', 'hannah', 'hans', 'hansen', 'hansome', 'hao', 'happen', 'happend', 'happends', 'happenin', 'happier', 'happily', 'happiness', 'happy', 'hapy', 'har', 'harbor', 'hard', 'hardcode', 'hardcoded', 'hardcoding', 'hardcore', 'hardd', 'harddisk', 'harddrive', 'harddrives', 'harden', 'harder', 'hardest', 'hardly', 'hardness', 'hardon', 'hardware', 'hardy', 'hare', 'harley', 'harm', 'harmful', 'harmless', 'harmony', 'harness', 'harpoon', 'harro', 'harry', 'harsh', 'harvard', 'harvest', 'hasfeature', 'hash', 'hashchanged', 'hashmap', 'hashtable', 'haskell', 'hasnapost', 'hasnt', 'hassle', 'hast', 'hat', 'hate', 'hater', 'haters', 'hatin', 'hatom', 'hatred', 'hau', 'haudio', 'haudioissues', 'haunt', 'hav', 'hava', 'have', 'havea', 'havee', 'havenapost', 'havent', 'havequot', 'havin', 'havnapost', 'havnt', 'haw', 'hawaii', 'hawe', 'hawk', 'hawkaloogie', 'hawt', 'hay', 'hayden', 'hayley', 'haywire', 'hayy', 'hayyy', 'haz', 'hazard', 'hazel', 'hb', 'hbp', 'hbu', 'hby', 'hcalendar', 'hcalendarexamplesinwild', 'hcard', 'hcardexamplesinwild', 'hcards', 'hcg', 'hckers', 'hcl', 'hd', 'hda', 'hdd', 'hdds', 'hdparm', 'hdquot', 'hds', 'hdtv', 'hea', 'head', 'headache', 'headaches', 'header', 'headerquot', 'headers', 'headersquotquot', 'headless', 'headline', 'headphones', 'headprofile', 'headquot', 'headshot', 'headsup', 'heal', 'health', 'healthcare', 'healthy', 'heap', 'heaposll', 'heaposs', 'hear', 'hearsay', 'heart', 'heartbeat', 'hearts', 'heat', 'heater', 'heather', 'heatsink', 'heatsinks', 'heaven', 'heavens', 'heavier', 'heavily', 'heavy', 'heb', 'hebrew', 'heck', 'hed', 'hee', 'heee', 'heeeeeeeeeeeey', 'heeeeeeeeeeey', 'heeeeeeeeey', 'heeeeeeeey', 'heeeeeeey', 'heeeeeey', 'heeeeey', 'heeeey', 'heeey', 'heeeyy', 'heeh', 'heehee', 'heel', 'heello', 'heey', 'heeye', 'heeyy', 'heeyyy', 'heh', 'hehe', 'hehee', 'heheh', 'hehehe', 'heheheh', 'hehehehe', 'heheheheh', 'hehehehehe', 'hehhe', 'hei', 'heidi', 'height', 'heightauto', 'heightpx', 'heightquotquot', 'heights', 'heightwidth', 'heii', 'heiii', 'heil', 'heilmann', 'heit', 'hej', 'hel', 'helixgruven', 'hell', 'hella', 'helldragon', 'heller', 'helli', 'helll', 'hellllo', 'helllo', 'hellloo', 'helllooo', 'helllooooo', 'hello', 'helloo', 'hellooo', 'helloooo', 'hellooooo', 'helloooooo', 'hellooooooo', 'helloooooooo', 'hellooooooooo', 'helloooooooooooo', 'hellos', 'hellow', 'hellp', 'hells', 'hellz', 'helmet', 'helo', 'heloo', 'helooo', 'help', 'helper', 'helpers', 'helpful', 'helpin', 'helpme', 'helpquot', 'helsinki', 'hem', 'hemisphere', 'hen', 'hence', 'hendry', 'henri', 'henris', 'henry', 'hentai', 'hentaixp', 'hentry', 'herd', 'herea', 'hereaposs', 'heree', 'hereee', 'heregt', 'herequot', 'heres', 'hermaphrodite', 'hermione', 'hero', 'heroes', 'heroku', 'herp', 'herpes', 'herre', 'herring', 'herro', 'hes', 'heshe', 'hesitant', 'hesitate', 'het', 'heter', 'hetero', 'hety', 'heu', 'heuristic', 'heuristics', 'hewitt', 'hex', 'hey', 'heya', 'heyaa', 'heyaaa', 'heyapos', 'heyasl', 'heycam', 'heycamaway', 'heyd', 'heyh', 'heyhey', 'heyheyhey', 'heyho', 'heylo', 'heyo', 'heys', 'heyu', 'heyy', 'heyya', 'heyyy', 'heyyyy', 'heyyyyy', 'heyyyyyy', 'heyyyyyyy', 'heyyyyyyyyyyy', 'heyyyyyyyyyyyyy', 'heyz', 'hf', 'hfs', 'hg', 'hgroup', 'hgt', 'hh', 'hha', 'hhaa', 'hhaha', 'hhe', 'hhey', 'hheyy', 'hhh', 'hhhi', 'hhi', 'hhii', 'hhiii', 'hhmm', 'hhmmm', 'hi', 'hia', 'hiapos', 'hiasl', 'hibernate', 'hiccup', 'hickson', 'hickups', 'hiddenquot', 'hiddenquotquot', 'hide', 'hideous', 'hie', 'hiee', 'hier', 'hierarchical', 'hierarchies', 'hierarchy', 'high', 'highend', 'higher', 'higherlevel', 'highest', 'highlevel', 'highlight', 'highly', 'highres', 'highs', 'highschool', 'hight', 'highway', 'hih', 'hihi', 'hihih', 'hihihi', 'hihihih', 'hihihihi', 'hiho', 'hii', 'hiii', 'hiiii', 'hiiiii', 'hiiiiii', 'hiiiiiii', 'hiiiiiiii', 'hiiiiiiiii', 'hiiiiiiiiii', 'hiiiiiiiiiii', 'hiiiiiiiiiiii', 'hiiiiiiiiiiiii', 'hiiiiiiiiiiiiii', 'hiiiiiiiiiiiiiii', 'hiiiiiiiiiiiiiiii', 'hiiiiiiiiiiiiiiiii', 'hiiiiiiiiiiiiiiiiii', 'hiiiiiiiiiiiiiiiiiii', 'hiiiiiiiiiiiiiiiiiiii', 'hiiiiiiiiiiiiiiiiiiiii', 'hiiiiiiiiiiiiiiiiiiiiii', 'hiiiiiiiiiiiiiiiiiiiiiii', 'hiiiiiiiiiiiiiiiiiiiiiiii', 'hiiiiiiiiiiiiiiiiiiiiiiiiiiiiii', 'hijack', 'hike', 'hil', 'hilarious', 'hilarity', 'hile', 'hilight', 'hill', 'hilton', 'himher', 'hinder', 'hindi', 'hindsight', 'hindu', 'hint', 'hio', 'hip', 'hiphop', 'hippies', 'hips', 'hipster', 'hire', 'hisher', 'hispanic', 'historic', 'historical', 'historically', 'histories', 'history', 'hit', 'hitler', 'hiu', 'hive', 'hixie', 'hixies', 'hiya', 'hiyaa', 'hj', 'hji', 'hjkl', 'hk', 'hkon', 'hl', 'hlisting', 'hllo', 'hlo', 'hm', 'hme', 'hmedia', 'hmh', 'hmm', 'hmma', 'hmmm', 'hmmma', 'hmmmm', 'hmmmmm', 'hmmmmmm', 'hmmmmmmm', 'hmmph', 'hmpf', 'hmph', 'hmz', 'hn', 'hnng', 'ho', 'hobbies', 'hobby', 'hober', 'hobo', 'hoc', 'hockey', 'hoe', 'hog', 'hogwarts', 'hoho', 'hohoho', 'hoi', 'hoist', 'hol', 'hola', 'holaaa', 'hold', 'holder', 'holders', 'hole', 'holiday', 'holla', 'holland', 'holly', 'hollywood', 'holmes', 'holocaust', 'holy', 'hom', 'home', 'homebrew', 'homedir', 'homeip', 'homeless', 'homelinux', 'homepage', 'homequot', 'homer', 'hometown', 'homeunix', 'homework', 'homie', 'homies', 'homo', 'homosex', 'homosexual', 'hon', 'honda', 'hone', 'honest', 'honestly', 'honesty', 'honey', 'honeycomb', 'hong', 'hongkong', 'honor', 'honour', 'honry', 'hony', 'hoo', 'hood', 'hoodie', 'hook', 'hooker', 'hookup', 'hooo', 'hoop', 'hooray', 'hoot', 'hop', 'hope', 'hopeful', 'hopefully', 'hopeless', 'hopelessly', 'hopelessness', 'hopin', 'hoppipolla', 'hor', 'hora', 'hore', 'horizon', 'horizontal', 'horizontally', 'hormones', 'horn', 'horney', 'horniness', 'hornny', 'horny', 'hornygt', 'hornyy', 'horray', 'horrendous', 'horrible', 'horribly', 'horrid', 'horrific', 'horrify', 'horror', 'horse', 'hose', 'hospital', 'hospitals', 'host', 'hostel', 'hostile', 'hostility', 'hostname', 'hostnames', 'hostquot', 'hot', 'hotdog', 'hotdogs', 'hotel', 'hotels', 'hotkey', 'hotkeys', 'hotmail', 'hotness', 'hotplug', 'hotspot', 'hotspots', 'hott', 'hotter', 'hottest', 'hottie', 'hottt', 'hou', 'hour', 'hourly', 'hours', 'hoursquot', 'hous', 'house', 'houston', 'hover', 'howa', 'howaposd', 'howaposre', 'howaposs', 'howard', 'howcome', 'howd', 'howdy', 'however', 'howl', 'howr', 'howre', 'hows', 'howto', 'howtoplay', 'howtos', 'howw', 'howz', 'hoy', 'hp', 'hparker', 'hpoussin', 'hproduct', 'hps', 'hpux', 'hq', 'hquot', 'hr', 'hrd', 'hre', 'hrecipe', 'href', 'hrefgt', 'hrefhttp', 'hrefhttpapache', 'hrefhttpazureus', 'hrefhttpazureuswiki', 'hrefhttpbash', 'hrefhttpbeta', 'hrefhttpblenderartists', 'hrefhttpblog', 'hrefhttpblogs', 'hrefhttpbugs', 'hrefhttpcgi', 'hrefhttpchannels', 'hrefhttpcpp', 'hrefhttpcss', 'hrefhttpcssdiscuss', 'hrefhttpcvs', 'hrefhttpdeadbeefbabe', 'hrefhttpdev', 'hrefhttpdeveloper', 'hrefhttpdoc', 'hrefhttpdocs', 'hrefhttpdorward', 'hrefhttpdownload', 'hrefhttpen', 'hrefhttperxz', 'hrefhttpforums', 'hrefhttpftp', 'hrefhttpfumle', 'hrefhttpgentoowiki', 'hrefhttphashmysql', 'hrefhttphashphp', 'hrefhttphome', 'hrefhttphotdesign', 'hrefhttphttpa', 'hrefhttphttpd', 'hrefhttpimages', 'hrefhttpimg', 'hrefhttpiownmydvds', 'hrefhttpiownmymusic', 'hrefhttpiptablestutorial', 'hrefhttpjava', 'hrefhttpjigsaw', 'hrefhttplinux', 'hrefhttplists', 'hrefhttplocalhosthttplocalhosta', 'hrefhttpmail', 'hrefhttpmedia', 'hrefhttpmediawiki', 'hrefhttpmsdn', 'hrefhttpnetbsd', 'hrefhttpnews', 'hrefhttpnopaste', 'hrefhttppackages', 'hrefhttppaste', 'hrefhttppastebin', 'hrefhttppastie', 'hrefhttppeople', 'hrefhttpphp', 'hrefhttpphpfi', 'hrefhttpphrogz', 'hrefhttpqtnode', 'hrefhttprafb', 'hrefhttprewrite', 'hrefhttprick', 'hrefhttpsecurity', 'hrefhttpsial', 'hrefhttpsmartpm', 'hrefhttpsoftware', 'hrefhttpsourceforge', 'hrefhttpspinink', 'hrefhttpsupport', 'hrefhttpsusewiki', 'hrefhttpsvn', 'hrefhttptinyurl', 'hrefhttptnx', 'hrefhttptomcat', 'hrefhttptrac', 'hrefhttpuadmin', 'hrefhttpupload', 'hrefhttpus', 'hrefhttpusers', 'hrefhttpvalidator', 'hrefhttpvideo', 'hrefhttpvim', 'hrefhttpw', 'hrefhttpwiki', 'hrefhttpwww', 'hrefhttpyoutube', 'hrefquot', 'hrefquothttpwww', 'hrefquotquot', 'hrefquotquotgt', 'hresume', 'hresumeexamplesinwild', 'hreview', 'hreviewaggregate', 'hreviewexamplesinwild', 'hrhr', 'hrm', 'hrmm', 'hrmmm', 'hrny', 'hrrm', 'hrs', 'hru', 'hry', 'hs', 'hsaliak', 'hsivonen', 'hsivonens', 'hsl', 'hspace', 'ht', 'htaccess', 'htat', 'htc', 'hte', 'htere', 'hth', 'htink', 'htis', 'htlmac', 'htm', 'htma', 'htmhttpwww', 'html', 'htmla', 'htmlall', 'htmlbased', 'htmlboilerplate', 'htmlbp', 'htmlcollection', 'htmlcompliant', 'htmlcss', 'htmlcssjs', 'htmldiff', 'htmldoctor', 'htmldocument', 'htmldog', 'htmledefinputa', 'htmledefinputhttpwww', 'htmlelement', 'htmlentities', 'htmlgt', 'htmlgtquot', 'htmlh', 'htmlhelp', 'htmlhtml', 'htmlhttpdev', 'htmlhttpdoc', 'htmlhttpforums', 'htmlhttphttpd', 'htmlhttpiptablestutorial', 'htmlhttpjava', 'htmlhttplists', 'htmlhttpmail', 'htmlhttpphrogz', 'htmlhttprafb', 'htmlhttptomcat', 'htmlhttpuadmin', 'htmlhttpwww', 'htmlimageelement', 'htmlinputelement', 'htmlitem', 'htmljavascript', 'htmljs', 'htmll', 'htmllib', 'htmllibs', 'htmlmediaelement', 'htmlmsg', 'htmlness', 'htmlnow', 'htmlparser', 'htmlpropdefdisplaya', 'htmlpropdeftextdecorationa', 'htmlpropdefwhitespacea', 'htmlpropdefwhitespacehttpw', 'htmlpropdefwidtha', 'htmlquot', 'htmlquotgt', 'htmlr', 'htmlrdfa', 'htmlrev', 'htmlrocks', 'htmls', 'htmlshiv', 'htmlspec', 'htmltest', 'htmlvideo', 'htmlvideoelement', 'htmlwg', 'htmlwgpm', 'htmlxhtml', 'htmlxml', 'htpasswd', 'http', 'httpa', 'httpabout', 'httpajaxian', 'httpannevankesteren', 'httpanolis', 'httparstechnica', 'httparyeh', 'httpbash', 'httpbis', 'httpbit', 'httpbitbucket', 'httpblog', 'httpblogs', 'httpbugs', 'httpbugzilla', 'httpcamspank', 'httpcaniuse', 'httpcanvex', 'httpcl', 'httpclient', 'httpcode', 'httpd', 'httpdamowmow', 'httpdashiva', 'httpdev', 'httpdeveloper', 'httpdevelopers', 'httpdiveintohtml', 'httpdiveintomark', 'httpdl', 'httpdocs', 'httpdrupal', 'httpdvcs', 'httpedward', 'httpejohn', 'httpen', 'httpequiv', 'httpequivcontenttype', 'httpequivquotcontentlanguagequot', 'httpequivquotcontenttypequot', 'httpequivquotxuacompatiblequot', 'httpes', 'httpesw', 'httpexample', 'httpflickr', 'httpfoolip', 'httpforum', 'httpforums', 'httpfronteers', 'httpftp', 'httpgavinsharp', 'httpgithub', 'httpgolem', 'httpgoo', 'httpgoogle', 'httpgreenbytes', 'httpgroups', 'httpgsnedders', 'httphacks', 'httphelp', 'httphg', 'httphixie', 'httphotimage', 'httphsivonen', 'httphtml', 'httphtmlall', 'httphtmlboilerplate', 'httphtmldemos', 'httphtmldoctor', 'httphtmlhomi', 'httphtmllib', 'httphtmlrocks', 'httpi', 'httpidenti', 'httpihateangels', 'httpihatebella', 'httpihatejade', 'httpimages', 'httpimageshack', 'httpimg', 'httpimgur', 'httpintertwingly', 'httpis', 'httpiupload', 'httpj', 'httpjames', 'httpjsbin', 'httpjsfiddle', 'httpjunkyard', 'httpkrijnhoetmer', 'httplabs', 'httplachy', 'httplastweekinhtml', 'httplists', 'httplivedom', 'httpln', 'httplog', 'httpmaps', 'httpmathiasbynens', 'httpmedia', 'httpmicroformats', 'httpmsdn', 'httpmxr', 'httpmy', 'httpmylocal', 'httpmysweetrevenge', 'httpmzl', 'httpnews', 'httpnl', 'httpoi', 'httpoli', 'httpolistudio', 'httpparsing', 'httppaste', 'httppastebin', 'httppastie', 'httppaulirish', 'httppeople', 'httppeter', 'httpphilip', 'httpplancast', 'httppomax', 'httpprojectcerbera', 'httpqadev', 'httpquot', 'httpquotes', 'httpresearch', 'https', 'httpsaddons', 'httpsandbox', 'httpsbitbucket', 'httpsbugs', 'httpsbugzilla', 'httpsbuild', 'httpschrome', 'httpsconnect', 'httpsdeveloper', 'httpsdvcs', 'httpsgist', 'httpsgithub', 'httpshg', 'httpsimon', 'httpslabs', 'httpslists', 'httpsmail', 'httpsnapshot', 'httpsoftware', 'httpsourceforge', 'httpsphotos', 'httpsplus', 'httpssecure', 'httpssvn', 'httpstackoverflow', 'httpstandardssuck', 'httpstatic', 'httpstbpl', 'httpstuff', 'httpstwitter', 'httpsupport', 'httpsvn', 'httpswiki', 'httpswww', 'httpt', 'httptantek', 'httptc', 'httptech', 'httptessatheslut', 'httptest', 'httptinychat', 'httptinypic', 'httptinyurl', 'httptools', 'httptrac', 'httptwitter', 'httpupcoming', 'httpvalidator', 'httpvideochatsingles', 'httpvimeo', 'httpw', 'httpwctest', 'httpweb', 'httpwebhel', 'httpwebkit', 'httpweblogs', 'httpwhatwg', 'httpwiki', 'httpwww', 'httpxkcd', 'httpxml', 'httpyfrog', 'hu', 'hua', 'hub', 'hubbub', 'hubris', 'hug', 'huge', 'hugely', 'hugh', 'hugo', 'huh', 'huhh', 'huhu', 'hui', 'hullo', 'hum', 'human', 'humanity', 'humanreadable', 'humans', 'humble', 'humbug', 'humid', 'humidity', 'humiliate', 'humm', 'hummm', 'humor', 'humorous', 'humour', 'hump', 'hun', 'hundred', 'hundreds', 'hungarian', 'hungary', 'hunger', 'hungover', 'hungry', 'hunk', 'hunni', 'hunny', 'hunt', 'hunter', 'hup', 'hur', 'hurl', 'hurr', 'hurrah', 'hurray', 'hurry', 'hurt', 'hurtin', 'husband', 'hush', 'hut', 'huu', 'huuuuge', 'hv', 'hva', 'hvae', 'hve', 'hvor', 'hvx', 'hw', 'hwnd', 'hwo', 'hws', 'hwy', 'hwz', 'hx', 'hy', 'hyatt', 'hybi', 'hybrid', 'hyd', 'hydrogen', 'hye', 'hyi', 'hype', 'hyper', 'hyperlink', 'hyperlinks', 'hypertext', 'hyphen', 'hypnotise', 'hypnotist', 'hypothesis', 'hypothetical', 'hypothetically', 'hyves', 'hyy', 'hz', 'ia', 'iaaa', 'iaaii', 'iae', 'iai', 'iaia', 'iaie', 'iaio', 'iam', 'ian', 'iana', 'ianal', 'ianhcdbecbfbfef', 'ians', 'iao', 'iaod', 'iaoe', 'iaoll', 'iaom', 'iaove', 'iapos', 'iaposam', 'iaposd', 'iaposll', 'iaposm', 'iaposma', 'iaposve', 'iau', 'iauo', 'iawebappsdompm', 'ibm', 'ibms', 'ibook', 'ibooks', 'ibot', 'ic', 'ical', 'icalendar', 'ican', 'icant', 'ice', 'icecream', 'iceland', 'icelandic', 'ich', 'ichat', 'icic', 'icio', 'ick', 'icky', 'icmp', 'ico', 'icon', 'iconic', 'iconquot', 'icons', 'iconv', 'icq', 'ics', 'icu', 'icuj', 'id', 'ida', 'idaho', 'idb', 'idc', 'idd', 'ide', 'idea', 'ideal', 'idealistic', 'ideally', 'ideals', 'idealx', 'ideaquot', 'ideas', 'ideea', 'ident', 'identical', 'identically', 'identification', 'identifier', 'identifierquot', 'identifiers', 'identify', 'identity', 'ides', 'idiocy', 'idiom', 'idiomatic', 'idioms', 'idiot', 'idiotic', 'idiots', 'idk', 'idkk', 'idl', 'idle', 'idls', 'idly', 'idn', 'idness', 'ido', 'idol', 'idont', 'idquot', 'idquotquot', 'ids', 'idunno', 'ie', 'iea', 'ieb', 'ieblog', 'iecss', 'iee', 'ieee', 'ieeie', 'iei', 'ieie', 'ieii', 'ieioe', 'ieiuio', 'ielt', 'ieo', 'ieoi', 'ieonly', 'iepp', 'iequot', 'ies', 'ietf', 'ieu', 'ieua', 'ifconfig', 'ifdef', 'ifdevzero', 'ifdown', 'iff', 'iffy', 'ifi', 'iframe', 'iframes', 'iframesandbox', 'ifs', 'ifup', 'ifwhen', 'ig', 'ight', 'ignorance', 'ignorant', 'ignore', 'ignorecase', 'ignoredquot', 'iguess', 'ih', 'ihatekrystal', 'ihateyounatalie', 'ihave', 'ihi', 'ihih', 'ii', 'iia', 'iiae', 'iie', 'iii', 'iiie', 'iiii', 'iiiii', 'iiiiii', 'iiio', 'iin', 'iio', 'iioe', 'iirc', 'iis', 'iit', 'iiuo', 'ijust', 'ik', 'ike', 'ikea', 'iki', 'ikke', 'iknow', 'ikr', 'il', 'ili', 'ilike', 'ilk', 'ill', 'illegal', 'illegally', 'illformed', 'illinois', 'illogical', 'illusion', 'illustrate', 'illustration', 'illustrator', 'ilove', 'ily', 'im', 'ima', 'imac', 'image', 'imagedata', 'imagejpeg', 'imagemagick', 'imagepng', 'imagequot', 'imageshack', 'imagesquot', 'imagesvgxml', 'imagin', 'imaginary', 'imagination', 'imaginative', 'imagine', 'imam', 'imap', 'imash', 'imdb', 'ime', 'imean', 'img', 'imgs', 'imgur', 'imho', 'imi', 'imitate', 'imm', 'imma', 'immaterial', 'immature', 'immediate', 'immediately', 'immediatly', 'immensely', 'immigrants', 'immoral', 'immortal', 'immutable', 'immute', 'imo', 'imp', 'impact', 'impair', 'impatient', 'imperative', 'imperial', 'impl', 'implement', 'implementable', 'implementation', 'implementationdefined', 'implementations', 'implementationsquot', 'implementedquot', 'implementer', 'implementers', 'implementor', 'implementors', 'implication', 'implications', 'implicit', 'implicitly', 'implmentation', 'implode', 'impls', 'imply', 'impolite', 'import', 'importance', 'important', 'importantly', 'importer', 'importnode', 'impose', 'impossible', 'impractical', 'imprecise', 'impregnate', 'impress', 'impression', 'impressions', 'impressive', 'improbable', 'improper', 'improperly', 'improve', 'improvement', 'improvements', 'ina', 'inability', 'inaccessible', 'inaccurate', 'inactive', 'inadequate', 'inadvertently', 'inappropriate', 'inb', 'inband', 'inbetween', 'inbound', 'inbox', 'inc', 'incapable', 'incase', 'incentive', 'inception', 'incest', 'inch', 'incident', 'incidentally', 'incl', 'incline', 'includ', 'include', 'inclusion', 'inclusive', 'income', 'incoming', 'incomming', 'incompatibilities', 'incompatibility', 'incompatible', 'incompetent', 'incomplete', 'inconsistencies', 'inconsistency', 'inconsistent', 'inconvenience', 'inconvenient', 'incorporate', 'incorrect', 'incorrectly', 'increase', 'increasingly', 'incredible', 'incredibly', 'increment', 'incremental', 'incrementally', 'incrementing', 'increments', 'incur', 'incutio', 'ind', 'inda', 'indai', 'indeed', 'indeedy', 'indefinite', 'indent', 'indentation', 'indention', 'independant', 'independence', 'independent', 'independently', 'indeterminate', 'index', 'indexeddb', 'indexquot', 'indexsizeerr', 'india', 'indian', 'indiana', 'indians', 'indicate', 'indication', 'indicator', 'indicators', 'indices', 'indie', 'indifference', 'indigo', 'indirect', 'indirection', 'indirectly', 'indistinguishable', 'individual', 'individually', 'individuals', 'indo', 'indonesia', 'indonesian', 'indoor', 'indoors', 'induce', 'indulge', 'industrial', 'industry', 'indy', 'ineed', 'ineffective', 'inefficient', 'inet', 'inetd', 'inevitable', 'inevitably', 'inexpensive', 'inf', 'infact', 'infallible', 'infamous', 'infect', 'infer', 'infest', 'infi', 'infile', 'infinite', 'infinitely', 'infinity', 'inflict', 'influence', 'info', 'infoau', 'infoaufeature', 'infofilesimg', 'infoid', 'infoindex', 'infoquot', 'inform', 'informal', 'information', 'informational', 'informationquot', 'informations', 'informationschema', 'informative', 'infos', 'infoset', 'infra', 'infrared', 'infrastructure', 'infringe', 'infront', 'ing', 'ingles', 'ingredients', 'inherent', 'inherently', 'inherit', 'inheritance', 'ini', 'inissue', 'init', 'initial', 'initialise', 'initialization', 'initialize', 'initializer', 'initially', 'initiate', 'initiative', 'initrd', 'inject', 'injection', 'injury', 'ink', 'inkedblade', 'inkscape', 'inline', 'inlineblock', 'inlined', 'inlines', 'inlining', 'inlove', 'inn', 'inner', 'innerhtml', 'innertext', 'innocent', 'innodb', 'innovate', 'innovation', 'innovative', 'inoremap', 'inout', 'inpage', 'inplace', 'input', 'inputmode', 'inputoutput', 'inputquot', 'inputstream', 'inquire', 'inquot', 'ins', 'insane', 'insanely', 'insanity', 'insecure', 'insensitive', 'insert', 'insertadjacenthtml', 'insertion', 'inside', 'insider', 'insides', 'insight', 'insightful', 'insignificant', 'insist', 'insmod', 'insofar', 'insomnia', 'insomniac', 'inspect', 'inspection', 'inspector', 'inspiration', 'inspire', 'inst', 'instability', 'instal', 'install', 'installable', 'installation', 'installations', 'installedquot', 'installer', 'installers', 'installquot', 'instance', 'instanceof', 'instant', 'instantiate', 'instantly', 'instead', 'insteadquot', 'insted', 'institute', 'instruct', 'instruction', 'instructions', 'instrument', 'instsource', 'insufficient', 'insufficiently', 'insult', 'insurance', 'insure', 'int', 'intable', 'intact', 'intarwebs', 'inte', 'integer', 'integers', 'integrate', 'integration', 'integrity', 'intel', 'intellectual', 'intelligence', 'intelligent', 'intelligently', 'intellisense', 'intels', 'intend', 'intense', 'intensity', 'intensive', 'intent', 'intention', 'intentional', 'intentionally', 'intentions', 'intents', 'inter', 'interact', 'interaction', 'interactions', 'interactive', 'interactivity', 'intercept', 'interchangeable', 'interconnect', 'intercourse', 'interest', 'interestin', 'interestingly', 'interface', 'interfacequot', 'interfaces', 'interfere', 'interference', 'interim', 'interior', 'interleave', 'intermediate', 'intermittent', 'intern', 'internal', 'internally', 'internals', 'international', 'internationalization', 'internationally', 'internet', 'internetquot', 'internets', 'internship', 'interop', 'interoperability', 'interoperable', 'interoperably', 'interoperate', 'interpolate', 'interpolation', 'interpret', 'interpretation', 'interpretations', 'interpreter', 'interrupt', 'intersect', 'intersection', 'intersted', 'intersting', 'intertwingly', 'interval', 'intervals', 'intervene', 'intervention', 'interview', 'interweb', 'interwebs', 'inthe', 'intimate', 'intimidate', 'intoxicate', 'intranet', 'intranets', 'intrest', 'intrested', 'intresting', 'intrigue', 'intrinsic', 'intro', 'introduce', 'introduction', 'introductory', 'intrusive', 'ints', 'intuition', 'intuitive', 'intuitively', 'invade', 'invalid', 'invalidate', 'invalidstateerr', 'invent', 'invention', 'inventory', 'inverse', 'invert', 'invest', 'investigate', 'investigation', 'investment', 'invis', 'invisible', 'invitation', 'invite', 'invocation', 'invocations', 'invoke', 'involve', 'involvement', 'inz', 'io', 'ioa', 'ioauo', 'ioctl', 'iodine', 'ioe', 'ioea', 'ioeuo', 'ioi', 'ioia', 'ioiaiu', 'ioie', 'ioiio', 'ioio', 'ion', 'iono', 'ioo', 'ios', 'iostat', 'iou', 'iouo', 'iow', 'iowa', 'ip', 'ipa', 'ipad', 'ipaddress', 'ipads', 'ipc', 'ipcaller', 'ipconfig', 'ipconntrack', 'ipf', 'iphone', 'iphones', 'iphoto', 'ipkiss', 'ipnat', 'ipo', 'ipod', 'ipods', 'ipos', 'iproute', 'ips', 'ipsec', 'ipt', 'iptables', 'iptablesrestore', 'iptablessave', 'ipv', 'ipw', 'iq', 'iquot', 'iquotll', 'iquotm', 'ir', 'iran', 'iraq', 'irc', 'ircing', 'ircirc', 'irclogs', 'ircpeople', 'ireland', 'iri', 'iribis', 'iris', 'irish', 'irix', 'irl', 'irmin', 'iron', 'ironfroggy', 'ironic', 'ironically', 'irony', 'irq', 'irregular', 'irrelevant', 'irrelevent', 'irrespective', 'irritate', 'irs', 'irssi', 'isa', 'iscsi', 'isee', 'ish', 'ishida', 'isindex', 'iskam', 'islam', 'island', 'islands', 'isnaot', 'isnapost', 'isnt', 'iso', 'isoiec', 'isojp', 'isolate', 'isolation', 'isos', 'isp', 'isps', 'isquot', 'israel', 'israeli', 'iss', 'issue', 'issuequot', 'issuesquot', 'ist', 'istanbul', 'iswas', 'it', 'ita', 'italia', 'italian', 'italiano', 'italians', 'italic', 'italics', 'italy', 'itaod', 'itaos', 'itaposd', 'itaposll', 'itaposs', 'itch', 'itchy', 'itd', 'ite', 'item', 'itemid', 'itemprop', 'itempropquotquot', 'itemquot', 'itemquotquot', 'itemref', 'items', 'itemscope', 'itemtype', 'iter', 'iterate', 'iteration', 'iterations', 'iterator', 'ith', 'ithink', 'itl', 'itll', 'ito', 'itouch', 'itquot', 'itrebal', 'itselfquot', 'itss', 'itt', 'ittt', 'itu', 'itunes', 'itz', 'iu', 'iua', 'iue', 'iuo', 'iuuiuu', 'iv', 'ivan', 'ivanr', 'ive', 'ivory', 'iw', 'iwant', 'iwconfig', 'iwlist', 'iwth', 'ix', 'iy', 'iya', 'iz', 'ja', 'jabber', 'jack', 'jackass', 'jacket', 'jackfig', 'jackie', 'jackin', 'jackson', 'jacob', 'jacques', 'jade', 'jag', 'jai', 'jail', 'jailbait', 'jaipur', 'jaja', 'jajaja', 'jajajaja', 'jak', 'jakarta', 'jake', 'jakllsch', 'jakub', 'jam', 'jamaica', 'jamesd', 'jamessan', 'jamie', 'jan', 'janderwald', 'jane', 'janeiro', 'janet', 'jani', 'janina', 'january', 'jap', 'japan', 'japanese', 'jar', 'jargon', 'jasmine', 'jason', 'jasonb', 'jasper', 'java', 'javac', 'javadoc', 'javahome', 'javaquot', 'javas', 'javascript', 'javascriptkit', 'javascripts', 'jaw', 'jax', 'jay', 'jaymyers', 'jazz', 'jb', 'jbalint', 'jboss', 'jc', 'jdaggett', 'jdbc', 'jdigital', 'jdk', 'jds', 'je', 'jeah', 'jealous', 'jean', 'jeans', 'jedi', 'jedit', 'jee', 'jeep', 'jeez', 'jeezus', 'jeff', 'jeffrey', 'jeg', 'jeje', 'jeka', 'jello', 'jelly', 'jelous', 'jen', 'jena', 'jengelh', 'jenitennison', 'jenna', 'jennifer', 'jenny', 'jepp', 'jeremy', 'jerk', 'jerry', 'jersey', 'jerub', 'jes', 'jesper', 'jess', 'jesse', 'jessica', 'jessie', 'jessy', 'jest', 'jesus', 'jet', 'jetlag', 'jetpack', 'jetty', 'jetzt', 'jew', 'jewish', 'jews', 'jey', 'jf', 'jforman', 'jg', 'jgraham', 'jgrahams', 'jh', 'jhi', 'ji', 'jigneshhk', 'jij', 'jim', 'jimjjewett', 'jimmey', 'jimmy', 'jimtabor', 'jin', 'jing', 'jink', 'jinx', 'jirka', 'jit', 'jive', 'jizz', 'jj', 'jk', 'jkjk', 'jks', 'jlc', 'jm', 'jmb', 'jmcg', 'jmcp', 'jmcpatsun', 'jndi', 'jni', 'jo', 'joao', 'job', 'joe', 'joel', 'joels', 'joey', 'jog', 'john', 'johnfoliot', 'johnny', 'johnnywork', 'johnresig', 'johns', 'johnson', 'join', 'joint', 'joke', 'joker', 'jokin', 'jon', 'jonas', 'jonathan', 'jonathanneal', 'jones', 'jonny', 'joo', 'joomla', 'jordan', 'jose', 'joseph', 'josh', 'jot', 'jou', 'journal', 'journalism', 'journey', 'joy', 'jp', 'jpeg', 'jpegs', 'jpg', 'jpga', 'jpgampimgrefurlhttpwww', 'jpghttpimg', 'jpghttpwww', 'jpgo', 'jpgquot', 'jpgs', 'jpgt', 'jpgthumb', 'jq', 'jquery', 'jquerys', 'jr', 'jre', 'jrossi', 'js', 'jsa', 'jsapi', 'jsc', 'jscript', 'jseval', 'jsfiddle', 'jshint', 'jslint', 'jsoft', 'json', 'jsonp', 'jsp', 'jspa', 'jsphttpwww', 'jsquot', 'jss', 'jst', 'jsut', 'jt', 'jteo', 'jtrip', 'ju', 'judas', 'judasiscariote', 'jude', 'judge', 'judgement', 'judgment', 'judo', 'jug', 'juga', 'juggle', 'juhe', 'juice', 'juices', 'juicy', 'jul', 'jules', 'julia', 'julian', 'julians', 'julie', 'juliet', 'july', 'jump', 'jumper', 'jumpstart', 'jun', 'june', 'jungle', 'junior', 'junk', 'jup', 'jupiter', 'jus', 'juss', 'juste', 'justice', 'justification', 'justify', 'justin', 'jut', 'juz', 'jvm', 'jw', 'jwalden', 'jwormy', 'jwz', 'jy', 'jymmm', 'jzono', 'ka', 'kaazing', 'kabar', 'kade', 'kaffien', 'kaha', 'kahan', 'kai', 'kaitlyn', 'kak', 'kaka', 'kakvo', 'kalo', 'kamu', 'kan', 'kangaroo', 'kangaroos', 'kanji', 'kann', 'kansas', 'kar', 'kara', 'karate', 'karen', 'karl', 'karlcow', 'karma', 'karrotx', 'karsten', 'kart', 'karte', 'kasbah', 'kasey', 'kat', 'kate', 'katecam', 'katexxx', 'kath', 'katie', 'kato', 'katy', 'kau', 'kay', 'kayla', 'kaylee', 'kayy', 'kb', 'kbd', 'kbit', 'kbps', 'kbrooks', 'kbs', 'kbsec', 'kde', 'kdeapps', 'kdelibs', 'kdes', 'kdevelop', 'kdm', 'ke', 'kebab', 'kedavra', 'keen', 'keep', 'keepalive', 'keepin', 'keio', 'keith', 'keke', 'kelas', 'kelly', 'ken', 'kenny', 'kennyluck', 'kent', 'kentucky', 'kenya', 'kerala', 'kerberos', 'kern', 'kernel', 'kernelimage', 'kernels', 'kesteren', 'ketchup', 'kettle', 'kevin', 'kevinmarks', 'kewl', 'key', 'keybindings', 'keyboard', 'keyboards', 'keycode', 'keydown', 'keyframes', 'keygen', 'keymap', 'keynote', 'keypad', 'keypress', 'keypresses', 'keypressevent', 'keyquot', 'keystroke', 'keystrokes', 'keyup', 'keyvalue', 'keyword', 'keywords', 'kfc', 'kg', 'kgod', 'kh', 'kha', 'khaled', 'khan', 'khronos', 'khtml', 'khuey', 'khueyaway', 'khz', 'ki', 'kick', 'kickass', 'kicken', 'kickin', 'kid', 'kiddie', 'kiddin', 'kiddo', 'kidnap', 'kik', 'kill', 'killall', 'killer', 'killin', 'kim', 'kimc', 'kimmoa', 'kind', 'kinda', 'kindaa', 'kindergarten', 'kindle', 'kindly', 'kindness', 'kindof', 'kinds', 'king', 'kingdom', 'kingryan', 'kings', 'kink', 'kinky', 'kis', 'kismet', 'kiss', 'kisser', 'kissin', 'kit', 'kitaitimakoto', 'kitchen', 'kite', 'kitten', 'kitties', 'kitty', 'kiwi', 'kj', 'kk', 'kkathman', 'kkk', 'kkkk', 'kkkkk', 'kkkkkkkkk', 'kl', 'kleppari', 'klined', 'klkl', 'kludge', 'klumsy', 'km', 'kn', 'knaster', 'knee', 'kneel', 'knees', 'knife', 'knight', 'knit', 'kno', 'knob', 'knock', 'knoe', 'knoppix', 'knot', 'know', 'knowingly', 'knowledge', 'knowledgeable', 'knowquot', 'knoww', 'knowww', 'knw', 'knwo', 'ko', 'koala', 'kog', 'koga', 'koi', 'kojiro', 'kok', 'kokonniemi', 'kolkata', 'kom', 'kommer', 'kommst', 'kon', 'kong', 'konq', 'konqueror', 'konsole', 'konversation', 'konw', 'koo', 'kool', 'koool', 'kopete', 'kor', 'korea', 'korean', 'koreans', 'korn', 'kosher', 'kow', 'kown', 'kpop', 'kr', 'krab', 'krijn', 'krijnh', 'krijnhoetmer', 'kris', 'kristen', 'kristensen', 'kristian', 'kristof', 'krunk', 'krusty', 'ks', 'ksh', 'kthx', 'kthxbai', 'ktorrent', 'ku', 'kubuntu', 'kuch', 'kudos', 'kul', 'kum', 'kung', 'kunnis', 'kurt', 'kurwa', 'kuuluu', 'kvm', 'kvo', 'kw', 'kwl', 'ky', 'kya', 'kyle', 'kylie', 'kyoto', 'kz', 'la', 'lab', 'label', 'labor', 'labour', 'labs', 'lace', 'lachlan', 'lachy', 'lack', 'lacrosse', 'lacy', 'lad', 'lade', 'ladies', 'ladki', 'lady', 'laff', 'lafrance', 'lag', 'laggy', 'lagi', 'lagilwr', 'lagrange', 'lah', 'lair', 'lake', 'lakes', 'lakez', 'lala', 'lalala', 'lalalala', 'lale', 'lam', 'lama', 'lambda', 'lame', 'lamer', 'lamp', 'lamps', 'lan', 'lance', 'land', 'landlord', 'landmark', 'landscape', 'lane', 'lanes', 'lang', 'langauge', 'langauges', 'langquotquot', 'langs', 'language', 'languagequot', 'languages', 'languish', 'lanka', 'lap', 'laposm', 'lappy', 'laptop', 'laptops', 'large', 'largely', 'larger', 'largescale', 'largest', 'larry', 'larrys', 'lars', 'las', 'laser', 'last', 'lastchild', 'lastest', 'lastlog', 'lastmodified', 'lastname', 'lastweek', 'lat', 'late', 'lately', 'latency', 'later', 'laters', 'laterz', 'lates', 'latest', 'latex', 'latexsuite', 'latin', 'latitude', 'latr', 'latter', 'latvia', 'laugh', 'laughable', 'laughin', 'laughter', 'launch', 'launchpad', 'laundry', 'laura', 'lauren', 'law', 'lawl', 'lawlz', 'lawn', 'laws', 'lawson', 'lawsuit', 'lawton', 'lawyer', 'lawyers', 'lax', 'lay', 'layer', 'layin', 'layout', 'layoutquot', 'layouts', 'laytar', 'lazer', 'lazily', 'laziness', 'lazy', 'lazyilluminati', 'lb', 'lbs', 'lc', 'lcd', 'lcds', 'lcwd', 'ld', 'ldap', 'ldapsamldap', 'ldd', 'ldlibrarypath', 'le', 'lea', 'lead', 'leader', 'leaders', 'leadership', 'leaf', 'league', 'leak', 'leakage', 'lean', 'leap', 'learn', 'lease', 'least', 'leather', 'leav', 'leave', 'leavin', 'lebanon', 'lecture', 'lee', 'leeds', 'leet', 'lef', 'leftover', 'leftquot', 'leftright', 'leftwing', 'leg', 'lega', 'legacy', 'legal', 'legalize', 'legally', 'legend', 'legends', 'legion', 'legit', 'legitimate', 'legitimately', 'lego', 'legs', 'leif', 'leifs', 'leisure', 'leka', 'lem', 'lemon', 'lemonade', 'lemonparty', 'len', 'lena', 'lend', 'lenght', 'length', 'lengthquot', 'lengths', 'lengthy', 'lenovo', 'lens', 'leo', 'leon', 'leonardo', 'leonerd', 'leopard', 'ler', 'les', 'lesbian', 'lesbians', 'lesbo', 'less', 'lesser', 'lesson', 'lessons', 'lessthan', 'lest', 'let', 'letaposs', 'letter', 'letterboxing', 'lettin', 'leve', 'level', 'leverage', 'levin', 'lewellyn', 'lewis', 'lex', 'lexi', 'lexical', 'lez', 'lf', 'lfs', 'lg', 'lgan', 'lgpl', 'lh', 'li', 'liability', 'liable', 'liam', 'liar', 'lib', 'libc', 'libdvdcss', 'liberal', 'liberate', 'liberty', 'libmodules', 'libraries', 'library', 'libs', 'libstdc', 'libxml', 'libxul', 'licence', 'license', 'lick', 'licker', 'lid', 'lie', 'liek', 'lier', 'life', 'lifequot', 'liferay', 'lifes', 'lifetime', 'lift', 'ligatures', 'light', 'lighten', 'lighter', 'lightly', 'lightning', 'lighttpd', 'lightweight', 'lik', 'lika', 'like', 'likee', 'likelihood', 'likely', 'liken', 'likequot', 'likewise', 'likey', 'lil', 'lilke', 'lilley', 'lilo', 'lily', 'limbo', 'lime', 'limi', 'limit', 'limitation', 'limitations', 'lin', 'linbsd', 'linda', 'lindsay', 'line', 'linear', 'lineargradient', 'linearly', 'linebreak', 'linebreaking', 'linebreaks', 'lineheight', 'linequot', 'liner', 'lineto', 'linetoxy', 'linewise', 'lingerie', 'lingo', 'link', 'linkage', 'linke', 'linkedin', 'linker', 'linkin', 'linkping', 'linkquot', 'linkrel', 'linksquot', 'linksys', 'lint', 'lintlock', 'linus', 'linux', 'linuxbg', 'linuximage', 'linuxs', 'lion', 'lions', 'lip', 'lips', 'liquid', 'liquidsilence', 'liquor', 'lis', 'lisa', 'lisp', 'list', 'listamatic', 'listbox', 'listen', 'listener', 'listeners', 'listenin', 'listin', 'listitem', 'listquot', 'listview', 'lite', 'literal', 'literally', 'literals', 'literate', 'literature', 'lithuania', 'litle', 'litlle', 'litte', 'littel', 'litter', 'little', 'liv', 'live', 'livecd', 'livecds', 'livedom', 'livejournal', 'lively', 'liver', 'liverpool', 'livin', 'livy', 'liz', 'lizard', 'lk', 'lke', 'lkj', 'llamas', 'llamo', 'llcoolm', 'llll', 'llo', 'llol', 'lm', 'lmao', 'lmaoo', 'lmfao', 'lmfaoo', 'lmr', 'lmsensors', 'ln', 'lng', 'lo', 'load', 'loadedquot', 'loader', 'loadmodule', 'loan', 'loathe', 'loather', 'lob', 'lobby', 'loc', 'local', 'locale', 'locales', 'localespecific', 'localhost', 'locality', 'localization', 'localize', 'locally', 'localname', 'localstorage', 'locate', 'location', 'locations', 'locator', 'lock', 'lockerz', 'lod', 'lode', 'log', 'logan', 'logfile', 'logfiles', 'logger', 'logic', 'logical', 'logically', 'login', 'logins', 'logistics', 'logitech', 'loglevel', 'logo', 'logon', 'logos', 'logout', 'logquot', 'lok', 'loke', 'loking', 'lokus', 'lol', 'lolapos', 'lolita', 'lolk', 'loll', 'lollipop', 'lolll', 'lolo', 'lolol', 'lololol', 'lolololol', 'lolp', 'lols', 'lolwtf', 'lolwut', 'lolz', 'lolzz', 'lom', 'london', 'lone', 'lonely', 'loner', 'long', 'longdesc', 'longdescquotquot', 'longer', 'longest', 'longish', 'longrunning', 'longterm', 'loo', 'look', 'lookahead', 'lookandfeel', 'looke', 'lookin', 'lookup', 'lookups', 'lool', 'loook', 'loooking', 'loool', 'looool', 'loooong', 'loooool', 'looove', 'loop', 'loopback', 'loophole', 'loose', 'loosely', 'loosen', 'looser', 'lord', 'lordsithius', 'lordy', 'los', 'lose', 'loser', 'losers', 'loss', 'losses', 'lossless', 'lossy', 'lot', 'lotion', 'lotsa', 'lotta', 'lottery', 'lotz', 'loud', 'louder', 'loudly', 'louis', 'louisiana', 'lounge', 'lousy', 'lov', 'love', 'lovee', 'lovelexa', 'lovely', 'lover', 'lovers', 'lovin', 'low', 'lowend', 'lower', 'lowercase', 'lowercased', 'lowercasing', 'lowest', 'lowlevel', 'lowres', 'lowsrc', 'loyal', 'lp', 'lpc', 'lquot', 'lr', 'ls', 'lsa', 'lsd', 'lsmith', 'lsmod', 'lsof', 'lspci', 'lst', 'lt', 'lta', 'ltabbr', 'ltabbrgt', 'ltacronymgt', 'ltaddressgt', 'ltagt', 'ltagts', 'ltanglegt', 'ltannotationxmlgt', 'ltappletgt', 'ltareagt', 'ltarticlegt', 'ltarticlegts', 'ltasidegt', 'ltaudio', 'ltaudiogt', 'ltb', 'ltbargt', 'ltbase', 'ltbasegt', 'ltbgt', 'ltblinkgt', 'ltblockquotegt', 'ltbody', 'ltbodygt', 'ltbr', 'ltbrgt', 'ltbutton', 'ltbuttongt', 'ltcanvas', 'ltcanvasgt', 'ltcaptiongt', 'ltcdata', 'ltcentergt', 'ltcitegt', 'ltcodegt', 'ltcolgroupgt', 'ltcolgt', 'ltcommandgt', 'ltcontentgt', 'ltcrgt', 'ltd', 'ltdatagridgt', 'ltdatagt', 'ltdatalistgt', 'ltdatatemplategt', 'ltddgt', 'ltdelgt', 'ltdetailsgt', 'ltdevicegt', 'ltdfngt', 'ltdialoggt', 'ltdirectory', 'ltdirectorygt', 'ltdiv', 'ltdivgt', 'ltdivgtltdivgt', 'ltdivgts', 'ltdlgt', 'ltdoctype', 'ltdtgt', 'ltemailgt', 'ltembed', 'ltembedgt', 'ltemgt', 'ltentergt', 'ltescgt', 'lteventsourcegt', 'ltfgt', 'ltfieldsetgt', 'ltfigcaptiongt', 'ltfiguregt', 'ltfiguregtltlegendgt', 'ltfilegt', 'ltfont', 'ltfontgt', 'ltfoo', 'ltfoobargt', 'ltfoogt', 'ltfootergt', 'ltforeignobjectgt', 'ltform', 'ltformgt', 'ltframe', 'ltframegt', 'ltframesetgt', 'ltggt', 'ltgt', 'lth', 'ltheader', 'ltheadergt', 'ltheadgt', 'lthgroupgt', 'lthgt', 'lthgtlthgt', 'lthr', 'lthrgt', 'ltht', 'lthtml', 'lthtmlgt', 'lthtt', 'lthttp', 'lthttpadactio', 'lthttpannevankesteren', 'lthttpblog', 'lthttpblogs', 'lthttpbluegriffon', 'lthttpcommonspace', 'lthttpdiveintohtml', 'lthttpdoctype', 'lthttpfeedproxy', 'lthttpfeeds', 'lthttphacks', 'lthttphsivonen', 'lthttpintertwingly', 'lthttplabs', 'lthttpli', 'lthttplis', 'lthttplist', 'lthttplists', 'lthttpmozillalabs', 'lthttpmy', 'lthttppeter', 'lthttprealtech', 'lthttpstackoverflow', 'lthttptantek', 'lthttptwitter', 'lthttpvocamus', 'lthttpweblogs', 'lthttpwww', 'lthxgt', 'ltif', 'ltiframe', 'ltiframegt', 'ltiframegts', 'ltigt', 'ltimagegt', 'ltimg', 'ltimggt', 'ltimggts', 'ltinput', 'ltinputgt', 'ltinsert', 'ltinsgt', 'ltisindexgt', 'ltkeygengt', 'ltlabel', 'ltlabelgt', 'ltlegendgt', 'ltli', 'ltligt', 'ltlink', 'ltlinkgt', 'ltlinkgts', 'ltlocationgt', 'ltlt', 'ltltlt', 'ltmap', 'ltmapgt', 'ltmarkgt', 'ltmarqueegt', 'ltmathgt', 'ltmenugt', 'ltmenuitemgt', 'ltmeta', 'ltmetagt', 'ltmetergt', 'ltmigt', 'ltnamegt', 'ltnavgt', 'ltnoscriptgt', 'lto', 'ltobject', 'ltobjectgt', 'ltol', 'ltolgt', 'ltoption', 'ltoptiongt', 'ltoutputgt', 'ltp', 'ltparam', 'ltpgt', 'ltpgtltpgt', 'ltpgtlttablegt', 'ltpgts', 'ltphp', 'ltplaintextgt', 'ltpregt', 'ltprogressgt', 'ltqgt', 'ltquot', 'ltr', 'ltrbgt', 'ltreplygt', 'ltrpgt', 'ltrtgt', 'ltrubygt', 'ltsampgt', 'ltsarcasmgt', 'ltscript', 'ltscriptgt', 'ltscriptgts', 'ltsection', 'ltsectiongt', 'ltsectiongts', 'ltselect', 'ltselectgt', 'ltsgt', 'ltsmallgt', 'ltsource', 'ltsourcegt', 'ltspacergt', 'ltspan', 'ltspangt', 'ltstrikegt', 'ltstronggt', 'ltstyle', 'ltstylegt', 'ltsummarygt', 'ltsvg', 'ltsvggt', 'lttabbrowsergt', 'lttabgt', 'lttable', 'lttablegt', 'lttaggt', 'lttbodygt', 'lttd', 'lttdgt', 'lttextarea', 'lttextareagt', 'ltth', 'lttheadgt', 'ltthgt', 'lttime', 'lttimegt', 'lttitlegt', 'lttrackgt', 'lttrgt', 'ltttgt', 'ltugt', 'ltul', 'ltulgt', 'ltunder', 'ltvideo', 'ltvideogt', 'ltvideogtltaudiogt', 'ltvirtualhost', 'ltvirtualhostgt', 'ltwbrgt', 'ltxml', 'ltxmlstylesheetgt', 'ltxmpgt', 'lu', 'lube', 'lucas', 'luch', 'lucid', 'luck', 'luckily', 'lucknow', 'lucky', 'lucy', 'ludaglawa', 'ludicrous', 'lug', 'luk', 'luke', 'lukin', 'luking', 'lul', 'lulz', 'lump', 'lun', 'lunch', 'lunchtime', 'lund', 'lungs', 'lure', 'lurk', 'lust', 'luv', 'luvs', 'luxury', 'luzero', 'lv', 'lvm', 'lws', 'lxml', 'ly', 'lyav', 'lydia', 'lyfe', 'lyin', 'lyk', 'lyken', 'lynda', 'lynx', 'lyon', 'lyric', 'lywebgirl', 'lz', 'maa', 'maam', 'maan', 'maaposam', 'maar', 'mabey', 'maby', 'mabye', 'mac', 'macbook', 'mace', 'macedonia', 'mach', 'machine', 'machinecheckable', 'machinereadable', 'machinery', 'macho', 'maciej', 'mack', 'macos', 'macosx', 'macports', 'macppc', 'macro', 'macromedia', 'macros', 'macs', 'macscr', 'mad', 'madam', 'madame', 'madar', 'madarchod', 'maddie', 'maderchod', 'madison', 'madly', 'madness', 'madonna', 'madrid', 'madwifi', 'mae', 'mael', 'maemo', 'mag', 'magazine', 'magazines', 'maggie', 'magic', 'magical', 'magically', 'magikarp', 'magnet', 'magnetic', 'magnets', 'magnify', 'magnitude', 'mah', 'maharashtra', 'mai', 'maid', 'maiden', 'mail', 'mailarchive', 'mailbox', 'maildir', 'mailer', 'mailinglist', 'mailinglists', 'mailman', 'mailserver', 'mailto', 'main', 'mainboard', 'maine', 'mainland', 'mainly', 'mainstream', 'maintain', 'maintainability', 'maintainer', 'maintainers', 'maintenance', 'mainwindow', 'mais', 'maito', 'maj', 'major', 'majority', 'majorly', 'mak', 'make', 'makefile', 'makefiles', 'makemestfu', 'makeout', 'maker', 'makers', 'makeup', 'makin', 'mal', 'malay', 'malaysia', 'malaysian', 'male', 'malee', 'malefemale', 'maleindia', 'males', 'maleusa', 'malformed', 'malfoy', 'malfunction', 'malibu', 'malice', 'malicious', 'maligor', 'malko', 'mall', 'malloc', 'malware', 'mam', 'mama', 'mami', 'man', 'mana', 'manage', 'management', 'manager', 'managers', 'managment', 'manchester', 'mandarin', 'mandate', 'mandatory', 'mandelieu', 'mandrake', 'mandriva', 'mane', 'mang', 'manga', 'mangle', 'mango', 'manhattan', 'manifest', 'manila', 'manipulate', 'manipulation', 'manipulations', 'mankind', 'manly', 'mann', 'manner', 'manners', 'mano', 'manowar', 'manpage', 'manpages', 'manpower', 'manquot', 'manu', 'manual', 'manually', 'manuals', 'manualy', 'manufacture', 'manufacturer', 'manufacturers', 'manus', 'many', 'map', 'maple', 'mapos', 'mappings', 'mapquest', 'mar', 'mara', 'marc', 'march', 'marchak', 'marcin', 'marco', 'marcos', 'marcoz', 'marcozehe', 'marcus', 'margin', 'marginal', 'marginally', 'marginbottom', 'marginleft', 'marginright', 'margins', 'margintop', 'mari', 'maria', 'marie', 'marienz', 'marienzmarienzfreenodestaffmarienz', 'marijuana', 'marine', 'marines', 'mario', 'mark', 'markcapella', 'marker', 'markers', 'market', 'marketshare', 'markp', 'markup', 'markupquot', 'marley', 'marloshome', 'marquee', 'marriage', 'marry', 'martha', 'martial', 'martian', 'martijnc', 'martin', 'marvel', 'marvell', 'marvelous', 'mary', 'maryland', 'mas', 'masa', 'mash', 'masih', 'masinter', 'mask', 'masq', 'masquerade', 'mass', 'massachusetts', 'massage', 'massive', 'massively', 'mast', 'master', 'masterbate', 'masterbating', 'masturbate', 'masturbation', 'mat', 'matboy', 'match', 'matchmedia', 'matchparen', 'mate', 'material', 'materialize', 'materials', 'matey', 'math', 'mathematical', 'mathematics', 'mathias', 'mathml', 'maths', 'maticode', 'matrices', 'matrix', 'matroska', 'matrox', 'matt', 'matter', 'matth', 'matthew', 'matthewlevine', 'mattr', 'mature', 'maturity', 'mau', 'mauke', 'maus', 'maustralia', 'maw', 'max', 'maxdesign', 'maxed', 'maximal', 'maximise', 'maximize', 'maximum', 'maxine', 'maxlength', 'maxthon', 'maxtor', 'maxwidth', 'may', 'maya', 'mayb', 'maybe', 'maybee', 'maze', 'mb', 'mba', 'mbit', 'mbits', 'mbp', 'mbps', 'mbr', 'mbrubeck', 'mbs', 'mbsec', 'mc', 'mca', 'mcali', 'mcalifornia', 'mcan', 'mcanada', 'mcdonalds', 'mchina', 'mcr', 'md', 'mda', 'mdb', 'mdc', 'mdi', 'mdn', 'mdsum', 'mea', 'meal', 'meals', 'mean', 'meanie', 'meaningful', 'meaningfull', 'meaningless', 'meantime', 'meanwhile', 'measham', 'measure', 'measurement', 'measurements', 'meat', 'meaty', 'mebbe', 'mebee', 'mech', 'mechanical', 'mechanics', 'mechanism', 'mechanisms', 'med', 'medal', 'media', 'mediacontroller', 'mediaindependent', 'median', 'mediastream', 'mediatype', 'mediawiki', 'medical', 'medication', 'medicine', 'mediterranean', 'medium', 'mee', 'meee', 'meeee', 'meeeee', 'meeeeee', 'meen', 'meep', 'meer', 'meet', 'meetin', 'meetup', 'meetups', 'meg', 'mega', 'megabytes', 'megan', 'megaspaz', 'megs', 'meh', 'mehh', 'mei', 'mein', 'mel', 'melbourne', 'melinda', 'melissa', 'mellow', 'melons', 'melt', 'mem', 'member', 'memberonly', 'members', 'membership', 'meme', 'memes', 'memo', 'memories', 'memorize', 'memory', 'memtest', 'men', 'mena', 'mene', 'mengland', 'mens', 'ment', 'mental', 'mentality', 'mentally', 'mention', 'mentor', 'menu', 'menuconfig', 'menus', 'meow', 'mequot', 'mera', 'mercedes', 'merci', 'mercurial', 'mercury', 'mercy', 'mere', 'merely', 'merge', 'merhaba', 'merit', 'meriwether', 'mermaid', 'merry', 'mes', 'mesa', 'mesage', 'mesh', 'mess', 'message', 'messagebox', 'messageevent', 'messagequot', 'messagesquot', 'messanger', 'messenger', 'messin', 'messina', 'messy', 'meta', 'metacosm', 'metadata', 'metal', 'metalink', 'metallica', 'metaname', 'metaphor', 'metas', 'meteors', 'meter', 'meth', 'methinks', 'method', 'methodology', 'methodquot', 'methodquotpostquot', 'methods', 'meto', 'metoo', 'metric', 'metrics', 'metro', 'meu', 'mex', 'mexican', 'mexicans', 'mexico', 'mf', 'mfc', 'mfl', 'mfrance', 'mg', 'mga', 'mgedmin', 'mgmt', 'mgrimes', 'mh', 'mhere', 'mhh', 'mhhm', 'mhm', 'mhmm', 'mhmmm', 'mholland', 'mhz', 'mi', 'mia', 'miami', 'mib', 'mic', 'micah', 'mice', 'mich', 'michael', 'michaeltm', 'micheal', 'michelle', 'michigan', 'mickey', 'mickmcmack', 'micky', 'micro', 'microdata', 'microformat', 'microformats', 'microformatsdevcamp', 'microphone', 'microsoft', 'microsofts', 'microsyntax', 'microsyntaxes', 'microsystems', 'microwave', 'mid', 'midday', 'middle', 'middleclick', 'midget', 'midnight', 'midnite', 'midwest', 'mig', 'might', 'mightve', 'mighty', 'migrate', 'migration', 'mij', 'mike', 'mikes', 'mikesmith', 'mikesmithx', 'mikey', 'mikrotik', 'mil', 'mild', 'mildly', 'mile', 'miles', 'milestone', 'milestones', 'miley', 'milf', 'milfs', 'military', 'milk', 'milkshake', 'milky', 'mill', 'miller', 'million', 'millions', 'millisecond', 'milliseconds', 'milosn', 'mim', 'mime', 'mimesniff', 'mimetype', 'mimetypes', 'mimic', 'min', 'mina', 'mind', 'minddrive', 'mindia', 'mindless', 'mindonesia', 'mindset', 'mine', 'mineaposs', 'minefield', 'mingw', 'minheight', 'mini', 'minibot', 'minicom', 'minidom', 'minify', 'miniitx', 'minimal', 'minimalist', 'minimise', 'minimize', 'minimum', 'minipci', 'miniroot', 'minister', 'ministry', 'minmax', 'minnesota', 'minor', 'minority', 'mins', 'mint', 'minus', 'minut', 'minute', 'minuted', 'minutes', 'minux', 'minwidth', 'mio', 'mips', 'mir', 'mira', 'miracle', 'miranda', 'mirc', 'mirror', 'mis', 'misalign', 'misbehave', 'misc', 'misconfigured', 'mise', 'miserable', 'miserably', 'misery', 'misguide', 'misinform', 'misinformation', 'misinterpret', 'mislead', 'mislq', 'mismatch', 'misnested', 'misnomer', 'misread', 'misremember', 'misrepresent', 'miss', 'missd', 'missin', 'mission', 'missionary', 'mississippi', 'missouri', 'misspell', 'missy', 'mist', 'mistake', 'mistakenly', 'mister', 'mistress', 'misty', 'mistyped', 'misunderstand', 'misuse', 'mit', 'mita', 'mitch', 'mite', 'mitigate', 'mitm', 'mix', 'mixer', 'mixture', 'miz', 'mj', 'mjs', 'mk', 'mkato', 'mkay', 'mkdir', 'mkhive', 'mkinitrd', 'ml', 'mladeji', 'mlia', 'mm', 'mmcx', 'mme', 'mmh', 'mmhm', 'mmhmm', 'mmk', 'mmkay', 'mmm', 'mmmh', 'mmmm', 'mmmmm', 'mmmmmm', 'mmmmmmm', 'mmmmmmmm', 'mmmmmmmmm', 'mmmmmmmmmm', 'mmmmmmmmmmm', 'mmmmmmmmmmmm', 'mmorpg', 'mmu', 'mmx', 'mn', 'mne', 'mngrif', 'mnogo', 'mnot', 'mns', 'mnt', 'mny', 'mnz', 'mo', 'moan', 'moar', 'mob', 'mobile', 'mobiles', 'mobility', 'mobo', 'mobos', 'moc', 'mochitest', 'mochitestay', 'mochitests', 'mock', 'mockup', 'mod', 'modal', 'modcore', 'modded', 'modding', 'mode', 'model', 'modeline', 'modelquot', 'modem', 'modemanaged', 'modemrouter', 'modems', 'modequot', 'moderate', 'moderately', 'moderation', 'moderator', 'modern', 'modernizr', 'modes', 'modest', 'modification', 'modifications', 'modifier', 'modifiers', 'modify', 'modjk', 'modmodalias', 'modmodrewrite', 'modperl', 'modphp', 'modprobe', 'modproxy', 'modrewrite', 'mods', 'modsecurity', 'modssl', 'modular', 'modularisation', 'modularization', 'module', 'modules', 'modulesinstall', 'modulo', 'moe', 'moet', 'mofo', 'moga', 'moi', 'moin', 'moist', 'moje', 'mojo', 'molly', 'mollys', 'mom', 'momaposs', 'moment', 'momentarily', 'momentary', 'moments', 'momentum', 'momma', 'momment', 'mommy', 'moms', 'momz', 'mon', 'monday', 'mondays', 'money', 'moneyquot', 'monitor', 'monkey', 'mono', 'monolithic', 'monopoly', 'monospace', 'monster', 'monsters', 'montana', 'month', 'monthly', 'months', 'montreal', 'monty', 'moo', 'mood', 'moody', 'mooi', 'moon', 'mooney', 'mooo', 'moore', 'moose', 'moot', 'mootools', 'mor', 'moral', 'morally', 'morea', 'moreeee', 'moreorless', 'moreover', 'morequot', 'moreso', 'morf', 'morgan', 'morgen', 'moridin', 'moring', 'mormon', 'morn', 'mornign', 'mornin', 'morninapos', 'morning', 'mornings', 'moro', 'morocco', 'moron', 'morons', 'morow', 'morph', 'morro', 'morrow', 'morsing', 'mort', 'mortal', 'mortals', 'mosaic', 'moscow', 'moses', 'mosh', 'moslem', 'mostly', 'mot', 'motd', 'motel', 'moth', 'motha', 'mother', 'motherboard', 'motherboards', 'motherfucker', 'motherfucking', 'motion', 'motivate', 'motivation', 'motive', 'moto', 'motor', 'motorcycle', 'motorhome', 'motorola', 'motorsepwork', 'motto', 'mould', 'mounir', 'mount', 'mountain', 'mountains', 'mouse', 'mousea', 'mousedown', 'mousemove', 'mouseout', 'mouseover', 'mousequot', 'mouseup', 'mousewheel', 'moustache', 'mouth', 'mov', 'mova', 'move', 'movement', 'moveto', 'movie', 'movies', 'movin', 'mow', 'moz', 'mozconfig', 'mozilla', 'mozillacentral', 'mozillas', 'mozillazine', 'mp', 'mpa', 'mpcguda', 'mpeg', 'mpegla', 'mpg', 'mph', 'mpilgrim', 'mpl', 'mplayer', 'mpls', 'mpquot', 'mps', 'mpt', 'mq', 'mr', 'mreriksson', 'mroe', 'mrs', 'mryou', 'ms', 'msaa', 'msc', 'msd', 'msdn', 'msdos', 'msft', 'msg', 'msger', 'msgs', 'msi', 'msie', 'msn', 'msnemail', 'mss', 'mssql', 'mst', 'msvc', 'mt', 'mtexas', 'mts', 'mtu', 'mtv', 'mtx', 'mu', 'mua', 'muah', 'much', 'muchh', 'mucho', 'muchquot', 'muck', 'mud', 'muddy', 'mudkip', 'mudkipz', 'muffin', 'muffins', 'mug', 'muggle', 'muh', 'muito', 'muk', 'mukibook', 'multi', 'multibyte', 'multicast', 'multicolumn', 'multiline', 'multilingual', 'multimedia', 'multipage', 'multipart', 'multipartformdata', 'multipath', 'multiplayer', 'multiple', 'multiplegt', 'multiples', 'multiplexing', 'multiply', 'multiport', 'multitasking', 'multithreaded', 'multitrack', 'multiuser', 'mum', 'mumbai', 'mumble', 'mummy', 'mums', 'munged', 'munging', 'munich', 'munter', 'murakamisan', 'murder', 'murray', 'mus', 'musa', 'muscle', 'muscular', 'muse', 'mush', 'mushroom', 'music', 'musical', 'musician', 'musics', 'musik', 'muslim', 'muslims', 'must', 'musta', 'mustache', 'mustang', 'musts', 'mustve', 'mut', 'mutable', 'mutabletexttrack', 'mutate', 'mutation', 'mutations', 'mutch', 'mute', 'mutedgt', 'mutt', 'mutter', 'mutual', 'mutually', 'muy', 'mv', 'mvc', 'mw', 'mwa', 'mwah', 'mwilson', 'mx', 'mxr', 'mxs', 'mybe', 'myclass', 'myers', 'myisam', 'mylocal', 'myria', 'myslef', 'myspace', 'mysql', 'mysqladmin', 'mysqladministrator', 'mysqld', 'mysqldsafe', 'mysqldump', 'mysqlerror', 'mysqlgt', 'mysqli', 'mysqlquery', 'mysqls', 'mysterious', 'mysteriously', 'mystery', 'mytable', 'myth', 'mythical', 'mythtv', 'myu', 'mzbot', 'na', 'naa', 'naaa', 'naaaah', 'naah', 'naam', 'naar', 'naber', 'nachox', 'nacht', 'nacl', 'nad', 'nada', 'nae', 'nag', 'nagios', 'nah', 'nahh', 'nahhh', 'nahi', 'nai', 'naice', 'nail', 'naive', 'naively', 'naked', 'nakedlindsey', 'nali', 'nam', 'nama', 'namaste', 'namastey', 'name', 'nameapos', 'nameaposs', 'nameditem', 'namee', 'namegt', 'namely', 'namequot', 'namequotquot', 'namequotviewportquot', 'nameserver', 'namesids', 'namespace', 'namespaced', 'namespacequot', 'namespaces', 'namespaceuri', 'namespacing', 'namevalue', 'namevirtualhost', 'nan', 'nana', 'nanana', 'nancy', 'nano', 'nanobot', 'nao', 'nap', 'napos', 'narnia', 'narrow', 'narrower', 'narwhal', 'nas', 'nasa', 'nashville', 'nasl', 'nasty', 'nat', 'natalia', 'natalie', 'natasha', 'natd', 'nate', 'nated', 'nathan', 'nating', 'nation', 'national', 'nationality', 'nations', 'native', 'natively', 'natural', 'naturally', 'nature', 'naughty', 'nautilus', 'nav', 'navbar', 'navigate', 'navigation', 'navigator', 'navy', 'naw', 'naww', 'nay', 'nazi', 'nazis', 'nb', 'nba', 'nbc', 'nbd', 'nbody', 'nbr', 'nbs', 'nbsd', 'nc', 'nce', 'ncie', 'ncname', 'ncr', 'ncurses', 'nd', 'ndiswrapper', 'ne', 'near', 'nearby', 'nearer', 'nearest', 'nearly', 'neat', 'neatly', 'neato', 'nebraska', 'neccessarily', 'neccessary', 'necesito', 'necessarily', 'necessary', 'necessitate', 'necessity', 'neck', 'necklace', 'necrosan', 'ned', 'nedd', 'nederland', 'nederlands', 'nee', 'need', 'needa', 'needle', 'needlessly', 'needsinfo', 'neeed', 'neet', 'neg', 'negate', 'negation', 'negative', 'neglect', 'negligible', 'nego', 'negotiate', 'negotiation', 'neh', 'nei', 'neighbor', 'neighborhood', 'neighborlee', 'neighbour', 'neighbourhood', 'neil', 'neilaway', 'nein', 'neither', 'nej', 'nem', 'nemail', 'nemith', 'nemore', 'nemowork', 'neo', 'neominder', 'neon', 'neone', 'neothermic', 'nepal', 'nerd', 'nerds', 'nerdy', 'nero', 'nerve', 'nervous', 'nes', 'neshto', 'nessa', 'nessy', 'nest', 'net', 'neta', 'netapp', 'netbeans', 'netbios', 'netblogwchtmlconformancecheckergt', 'netboot', 'netbrowsersupportcss', 'netbsd', 'netbsds', 'netbsdusers', 'netburst', 'netcat', 'netchunkyhtmlx', 'netcraft', 'netdavepgt', 'netfaq', 'netfilter', 'netfront', 'netgear', 'nethack', 'nether', 'netherland', 'netherlands', 'nethin', 'nething', 'nethphotosakashhs', 'nethphotosakashn', 'nethphotosaksnchs', 'nethphotosaksncn', 'nethttppaste', 'nethttpwww', 'netimg', 'netinfo', 'netinstallingsmartpackagemanagera', 'netinstallingsmartpackagemanagerhttpspinink', 'netmanualenfunction', 'netmanualeninstall', 'netmask', 'netmodules', 'netpastea', 'netpastebina', 'netpastebinhttpqtnode', 'netpastehttpchannels', 'netpastehttprafb', 'netquot', 'netra', 'netrw', 'netscape', 'netsplit', 'netstat', 'netsurfbrowser', 'netware', 'netwolf', 'network', 'networkquot', 'neutral', 'neva', 'nevada', 'never', 'nevermind', 'nevertheless', 'nevr', 'new', 'neway', 'neways', 'newayz', 'newb', 'newbie', 'newbies', 'newcomer', 'newegg', 'newer', 'newest', 'newfag', 'newfs', 'newline', 'newlines', 'newly', 'newquot', 'news', 'newsexyemilie', 'newsgroup', 'newspaper', 'newspapers', 'newyork', 'nex', 'nexenta', 'next', 'nextgeneration', 'nextprevious', 'nextsibling', 'nextstep', 'nexus', 'ney', 'nfc', 'nforce', 'nfs', 'ng', 'nga', 'ngerti', 'nginx', 'ngomong', 'nh', 'nhi', 'ni', 'nibble', 'nic', 'nicce', 'nice', 'nicee', 'niceee', 'niceeee', 'nicely', 'nicequot', 'nicer', 'nicest', 'niche', 'nicholas', 'nicht', 'nick', 'nickname', 'nickserv', 'nico', 'nicolas', 'nicole', 'nics', 'nie', 'niece', 'niet', 'niether', 'nifty', 'niftylettuce', 'nig', 'nigeria', 'nigerian', 'nigga', 'niggas', 'nigger', 'niggers', 'nigh', 'night', 'nightlies', 'nightly', 'nightmare', 'nightmares', 'nights', 'nighty', 'nih', 'nihao', 'nihongoresources', 'niice', 'niiice', 'niiiice', 'nikki', 'nil', 'nilesh', 'nimbu', 'nimbuin', 'nimbupani', 'nina', 'nine', 'nineteen', 'ninja', 'ninjas', 'nintendo', 'ninth', 'nio', 'nip', 'nipple', 'nipples', 'niq', 'nirvana', 'nis', 'nishto', 'nit', 'nite', 'nites', 'nitpick', 'nits', 'nix', 'nj', 'njan', 'nl', 'nla', 'nlirclogs', 'nlirclogscss', 'nlirclogshtmlwgl', 'nlirclogswhatwg', 'nlirclogswhatwgl', 'nm', 'nmap', 'nmbd', 'nmblookup', 'nme', 'nmu', 'nn', 'nntp', 'no', 'noa', 'nob', 'nobody', 'nobodys', 'nobrain', 'nobrainer', 'nocat', 'noch', 'nod', 'node', 'nodeiterator', 'nodejs', 'nodelist', 'nodelists', 'nodename', 'nodequot', 'nodetype', 'nodevalue', 'noe', 'noes', 'nofollow', 'nog', 'nogo', 'noi', 'noice', 'nointerfaceobject', 'noip', 'noise', 'noisy', 'nok', 'nokia', 'nokias', 'nolar', 'nom', 'nominate', 'nomorepasting', 'non', 'noname', 'nonascii', 'nonbreaking', 'nonbrowser', 'noncompliant', 'nonconformance', 'nonconformant', 'nonconforming', 'nondefault', 'nondeterministic', 'nondraconian', 'none', 'noneditable', 'noneditorial', 'nonempty', 'nonetheless', 'nonexistant', 'nonexistent', 'nonfirefox', 'nonfree', 'nonglobal', 'nonhorny', 'nonhtml', 'nonie', 'noninteractive', 'nonintuitive', 'nonissue', 'nonjs', 'nonnative', 'nonnegative', 'nonnormative', 'nonnull', 'nonnullable', 'nono', 'nonobvious', 'nonono', 'nonoss', 'nonpresentational', 'nonprofit', 'nonpublic', 'nonreplaced', 'nonresponders', 'nonroot', 'nonsemantic', 'nonsense', 'nonsensical', 'nonstandard', 'nonstarter', 'nonstop', 'nontechnical', 'nontrivial', 'nonutf', 'nonvisual', 'nonwellformed', 'nonwhitespace', 'nonworking', 'nonxml', 'nonzero', 'noo', 'noob', 'noobs', 'noobsaibot', 'noodl', 'noodle', 'noodles', 'noon', 'noone', 'noones', 'nooo', 'noooo', 'nooooo', 'noooooo', 'nooooooo', 'noooooooo', 'noooooooooo', 'nooooooooooooo', 'nooot', 'noop', 'nop', 'nopaste', 'nope', 'nopee', 'nopeee', 'nopes', 'nops', 'noquot', 'nordic', 'norepeat', 'norge', 'norm', 'normal', 'normalise', 'normalization', 'normalize', 'normally', 'normals', 'normaly', 'normative', 'normatively', 'norris', 'norsk', 'north', 'northeast', 'northern', 'northwest', 'norton', 'norway', 'norwegian', 'nos', 'noscript', 'nose', 'nosey', 'noss', 'nostalgia', 'nosy', 'nota', 'notable', 'notably', 'notation', 'notch', 'note', 'notebook', 'notebooks', 'notepad', 'notetrack', 'nother', 'nothign', 'nothin', 'nothing', 'nothingaposs', 'nothingg', 'nothingquot', 'nothings', 'nothinn', 'nothorny', 'noticable', 'notice', 'noticeable', 'notification', 'notifications', 'notify', 'notin', 'notion', 'notions', 'notorious', 'notquot', 'notsupportederr', 'nott', 'notwithstanding', 'nou', 'noun', 'nouns', 'nov', 'nova', 'novalidate', 'novel', 'novell', 'novels', 'novelty', 'november', 'novice', 'nowadays', 'noway', 'nowhere', 'nowquot', 'nowrap', 'nows', 'noww', 'nowww', 'noy', 'np', 'npapi', 'npe', 'nqkoi', 'nqma', 'nqmam', 'nquot', 'nr', 'nrubsig', 'ns', 'nsaccessible', 'nsfw', 'nslookup', 'nsresolver', 'nsresult', 'nss', 'nsswitch', 'nsw', 'nt', 'ntfs', 'nth', 'nthchild', 'nto', 'ntoskrnl', 'ntp', 'ntsc', 'ntstatus', 'nu', 'nuattachment', 'nub', 'nubuild', 'nuclear', 'nude', 'nudes', 'nudge', 'nudity', 'nudochttpaffwww', 'nuff', 'nuffin', 'nuge', 'nuh', 'nuhtmlparser', 'nuiptables', 'nuke', 'nul', 'null', 'nullable', 'nullquot', 'nulls', 'num', 'numb', 'numbe', 'number', 'numeric', 'numerical', 'numerically', 'numerous', 'numpad', 'nun', 'nup', 'nur', 'nurse', 'nushowbug', 'nusyntax', 'nut', 'nuthin', 'nuthing', 'nutin', 'nutshell', 'nuttin', 'nuvalidator', 'nv', 'nvda', 'nvdas', 'nvidia', 'nvidias', 'nvm', 'nvr', 'nvu', 'nw', 'nwid', 'nwo', 'nx', 'nxt', 'ny', 'nya', 'nyc', 'nye', 'nyman', 'nyoxi', 'nyt', 'nytimes', 'nz', 'oa', 'oaa', 'oae', 'oagreetings', 'oai', 'oaie', 'oak', 'oao', 'oapos', 'oau', 'ob', 'obama', 'ober', 'obese', 'obey', 'obfuscate', 'obfuscation', 'obj', 'objdir', 'object', 'objection', 'objections', 'objective', 'objectively', 'objectquot', 'obligation', 'obligatory', 'oblige', 'obnoxious', 'obp', 'obscure', 'obscurity', 'obsd', 'observable', 'observation', 'observations', 'observe', 'observer', 'observers', 'obsess', 'obsession', 'obsolete', 'obsoleted', 'obsoletequot', 'obstacle', 'obstacles', 'obtain', 'obv', 'obvious', 'obviously', 'oc', 'ocaml', 'occasion', 'occasional', 'occasionally', 'occupation', 'occupy', 'occur', 'occurance', 'occurence', 'occurences', 'occurrence', 'occurrences', 'ocean', 'och', 'ocksa', 'oclock', 'oconnor', 'ocr', 'oct', 'octal', 'octet', 'octets', 'october', 'octopus', 'od', 'odbc', 'odd', 'oddities', 'oddly', 'odds', 'oder', 'odf', 'odin', 'odnt', 'oe', 'oeau', 'oei', 'oeie', 'oem', 'oeu', 'ofc', 'ofcourse', 'offence', 'offend', 'offender', 'offenders', 'offense', 'offensive', 'offer', 'offf', 'offhand', 'offical', 'office', 'officer', 'offices', 'official', 'officially', 'offline', 'offlist', 'offload', 'offquot', 'offscreen', 'offset', 'offsite', 'offtheshelf', 'offtopic', 'ofquot', 'oftc', 'often', 'oftentimes', 'og', 'ogg', 'ogv', 'oh', 'ohai', 'ohh', 'ohhh', 'ohhhh', 'ohhhhh', 'ohhhhhh', 'ohhhhhhhh', 'ohhhhhhhhh', 'ohhhhhhhhhh', 'ohi', 'ohio', 'ohk', 'ohkay', 'ohmygod', 'oho', 'ohoh', 'ohok', 'ohw', 'ohwell', 'oi', 'oia', 'oiaie', 'oiau', 'oic', 'oid', 'oie', 'oii', 'oiio', 'oil', 'oink', 'oio', 'oioe', 'oioee', 'oiu', 'oiuo', 'oj', 'ojan', 'ok', 'oka', 'okaaay', 'okaay', 'okapos', 'okay', 'okayy', 'okayyy', 'okd', 'oke', 'okee', 'okei', 'okej', 'okey', 'oki', 'okie', 'okies', 'okk', 'okkay', 'okkk', 'okkkk', 'okkkkkk', 'oklahoma', 'okok', 'okquot', 'oks', 'oky', 'ol', 'ola', 'olapos', 'old', 'older', 'oldest', 'oldie', 'oldquot', 'olds', 'oldschool', 'oldstyle', 'ole', 'oleacc', 'olgtli', 'oli', 'olive', 'oliver', 'olivia', 'olla', 'olli', 'olliej', 'ollipettay', 'ols', 'olt', 'olympics', 'om', 'omegel', 'omegle', 'omegleTM', 'omegleaposs', 'omfg', 'omg', 'omggg', 'omgggg', 'omission', 'omit', 'omni', 'omnicomplete', 'omnicompletion', 'omnomnom', 'ona', 'onbeforeunload', 'onboard', 'onchange', 'onclick', 'onde', 'one', 'oneaposs', 'onee', 'oneletter', 'oneliner', 'oneoff', 'onequot', 'onerror', 'ones', 'oneself', 'onetime', 'onfocus', 'ongoing', 'oninput', 'onion', 'onkeypress', 'online', 'onlist', 'onload', 'onloadgt', 'onlyquot', 'onmessage', 'onmouseover', 'onn', 'ono', 'onoff', 'onquot', 'onreadystatechange', 'ons', 'onscreen', 'onsite', 'onsubmit', 'ont', 'ontario', 'onthe', 'onthefly', 'onto', 'ontop', 'ontopic', 'ony', 'oo', 'ooa', 'ooai', 'ooaiu', 'ood', 'ooe', 'ooei', 'oof', 'ooh', 'oohh', 'oohhh', 'ooi', 'ooia', 'ooiai', 'ooiaie', 'ooie', 'ooio', 'ook', 'oon', 'ooo', 'oooa', 'oooh', 'ooohh', 'ooohhh', 'oooia', 'oook', 'oooo', 'ooooh', 'oooohh', 'ooooo', 'oooooh', 'oooooo', 'ooooooh', 'ooooooo', 'oooooooh', 'oooooooo', 'ooooooooo', 'oooooooooo', 'ooooooooooo', 'ooops', 'ooouo', 'oop', 'oops', 'oor', 'oot', 'ootko', 'oou', 'ooue', 'oouo', 'oovoo', 'oow', 'ooxml', 'op', 'opa', 'opacity', 'opaque', 'opcode', 'open', 'openboot', 'openbsd', 'opendarwin', 'opener', 'openfirmware', 'opengl', 'openid', 'openin', 'openldap', 'openly', 'openness', 'openoffice', 'openquot', 'opensol', 'opensolaris', 'opensource', 'openssh', 'openssl', 'openstreetmap', 'opensuse', 'opentype', 'openvpn', 'openwrt', 'opera', 'operands', 'operas', 'operate', 'operation', 'operational', 'operations', 'operator', 'operators', 'opinion', 'opinions', 'oplock', 'oplocks', 'opponents', 'opportunity', 'oppose', 'opposite', 'opposition', 'opps', 'oprah', 'ops', 'opt', 'opteron', 'opterons', 'optgroup', 'optical', 'optimal', 'optimally', 'optimisation', 'optimisations', 'optimise', 'optimiser', 'optimism', 'optimist', 'optimistic', 'optimization', 'optimizations', 'optimize', 'optimizer', 'optimus', 'optin', 'option', 'optional', 'optionally', 'options', 'optionsquot', 'optout', 'oquot', 'ora', 'oracle', 'oraclehome', 'oracles', 'oral', 'orang', 'orange', 'oranges', 'orbit', 'orca', 'orchard', 'order', 'orderquot', 'ordinarily', 'ordinary', 'ordinray', 'ore', 'oregon', 'oreilly', 'orf', 'org', 'orga', 'organic', 'organisation', 'organisations', 'organise', 'organization', 'organizational', 'organizations', 'organize', 'organs', 'orgapril', 'orgar', 'orgarc', 'orgarchi', 'orgarchives', 'orgarchivespub', 'orgarchivespubl', 'orgarchivespubli', 'orgarchivespublic', 'orgarchivespublicp', 'orgarchivespublicpu', 'orgarchivespublicpub', 'orgarchivespublicpubl', 'orgarchivespublicpubli', 'orgarchivespublicpublic', 'orgarchivespublicpublich', 'orgarchivespublicpublichtm', 'orgarchivespublicpublichtml', 'orgarchivespublicpublichtmlapr', 'orgarchivespublicpublichtmlaug', 'orgarchivespublicpublichtmlb', 'orgarchivespublicpublichtmlbu', 'orgarchivespublicpublichtmlbugz', 'orgarchivespublicpublichtmlbugzi', 'orgarchivespublicpublichtmlbugzill', 'orgarchivespublicpublichtmlbugzilla', 'orgarchivespublicpublichtmlbugzillaapr', 'orgarchivespublicpublichtmlbugzillaaug', 'orgarchivespublicpublichtmlbugzilladec', 'orgarchivespublicpublichtmlbugzillafeb', 'orgarchivespublicpublichtmlbugzillajan', 'orgarchivespublicpublichtmlbugzillajul', 'orgarchivespublicpublichtmlbugzillajun', 'orgarchivespublicpublichtmlbugzillamar', 'orgarchivespublicpublichtmlbugzillamay', 'orgarchivespublicpublichtmlbugzillanov', 'orgarchivespublicpublichtmlbugzillaoct', 'orgarchivespublicpublichtmlbugzillasep', 'orgarchivespublicpublichtmldec', 'orgarchivespublicpublichtmldiffsapr', 'orgarchivespublicpublichtmldiffsaug', 'orgarchivespublicpublichtmldiffsdec', 'orgarchivespublicpublichtmldiffsfeb', 'orgarchivespublicpublichtmldiffsjan', 'orgarchivespublicpublichtmldiffsjul', 'orgarchivespublicpublichtmldiffsjun', 'orgarchivespublicpublichtmldiffsmar', 'orgarchivespublicpublichtmldiffsmay', 'orgarchivespublicpublichtmldiffsnov', 'orgarchivespublicpublichtmldiffsoct', 'orgarchivespublicpublichtmldiffssep', 'orgarchivespublicpublichtmlfeb', 'orgarchivespublicpublichtmljan', 'orgarchivespublicpublichtmljul', 'orgarchivespublicpublichtmljun', 'orgarchivespublicpublichtmlmar', 'orgarchivespublicpublichtmlmay', 'orgarchivespublicpublichtmlnov', 'orgarchivespublicpublichtmlsep', 'orgarchivespublicpublichtmlwgannounceaprjun', 'orgarchivespublicpublichtmlwgannouncejanmar', 'orgarchivespublicpublichtmlwgannouncejulsep', 'orgarchivespublicpublicwebappsaprjun', 'orgarchivespublicpublicwebappsjanmar', 'orgarchivespublicpublicwebappsjulsep', 'orgarchivespublicwwwarchivefeb', 'orgarchivespublicwwwarchivenov', 'orgarchivespublicwwwstyleapr', 'orgarchivespublicwwwstylenov', 'orgarchivesxmldevmsg', 'orgarticle', 'orgasm', 'orgasms', 'orgattachment', 'orgaugust', 'orgblogcss', 'orgbugdatabaseviewbug', 'orgbugspublicshowbug', 'orgbugzillashowbug', 'orgc', 'orgcgibinbugreport', 'orgcgibinparsetreeparsetree', 'orgchangeset', 'orgcheckurihttpaffwww', 'orgcheckurihttpawww', 'orgcheckurihttphttpvalidator', 'orgcomments', 'orgcontentshow', 'orgcss', 'orgcssirc', 'orgcssirct', 'orgcssvalidatora', 'orgcssvalidatorhttpjigsaw', 'orgcssvalidatorvalidatorurihttpawww', 'orgcssvalidatorvalidatorurihttphttpjigsaw', 'orgdatacharsets', 'orgdbwgdetailsgroupamppublic', 'orgdebiana', 'orgdecember', 'orgdisplaya', 'orgdisplayhttppaste', 'orgdocs', 'orgdocsmodcore', 'orgdocsmodmodrewrite', 'orgdoku', 'orgfaq', 'orgforumshowthread', 'orgforumviewtopic', 'orggettingsmootheranimatedwebcontent', 'orggt', 'orghgdomcorerawfiletipoverview', 'orghgencodingrawfiletipoverview', 'orghgxhrrawfiletipoverview', 'orghtdig', 'orghtml', 'orghtmlcheck', 'orghtmlelements', 'orghtmlrfc', 'orghtmlrfcsection', 'orghtmlspec', 'orghtmlspecauthorview', 'orghtmlspecoverview', 'orghtmlstatusissuestatus', 'orghtmlwg', 'orghtmlwghtml', 'orghtmlwgirc', 'orghtmlwgirct', 'orghtmlwgminutes', 'orghtmlwgtracker', 'orghtmlwgtrackeractions', 'orghtmlwgtrackeragenda', 'orghtmlwgtrackerissues', 'orghtmlwgtrackerissuesedit', 'orghtmlwgwikidiscussionguidelines', 'orghttpbash', 'orghttpbugs', 'orghttpiownmydvds', 'orghttpiownmymusic', 'orghttppaste', 'orghttpsmartpm', 'orghttpvalidator', 'orghttpwww', 'orginal', 'orgindex', 'orgintroduction', 'orgirc', 'orgissues', 'orgissuesdata', 'orgjivethread', 'orgjune', 'orgmailarchivewebhybicurrentmsg', 'orgmarch', 'orgmicrodatajslive', 'orgmidemail', 'orgmidemailgt', 'orgmidop', 'orgnewsitem', 'orgnode', 'orgnovember', 'orgoctober', 'orgoutliner', 'orgpastea', 'orgpastebin', 'orgpastehttpdeadbeefbabe', 'orgpastehttphashmysql', 'orgpasteviewentry', 'orgpbota', 'orgpbothttpsial', 'orgpipermaillisthtmlall', 'orgpipermailwhatwgwhatwg', 'orgpubmozilla', 'orgqaopenwebweekly', 'orgqavaliddtdlist', 'orgquot', 'orgquota', 'orgquothttpiownmydvds', 'orgquothttpiownmymusic', 'orgr', 'orgreleasesmozilla', 'orgrfcrfc', 'orgs', 'orgscriptsscript', 'orgseptember', 'orgshow', 'orgshowbug', 'orgspeccss', 'orgspecs', 'orgspecsdomparsing', 'orgspecswebappscurrentwork', 'orgspecswebappscurrentworkcomplete', 'orgspecswebappscurrentworkmultipage', 'orgspecswebappscurrentworkmultipagebrowsers', 'orgspecswebappscurrentworkmultipagecommonmicrosyntaxes', 'orgspecswebappscurrentworkmultipageforms', 'orgspecswebappscurrentworkmultipageintroduction', 'orgspecswebappscurrentworkmultipagesections', 'orgspecswebappscurrentworkmultipagethecanvaselement', 'orgspecswebappscurrentworkmultipagetokenization', 'orgspecswebappscurrentworkmultipagevideo', 'orgsuitescss', 'orgtagminutes', 'orgthisweekinhtmlepisodegt', 'orgtipstip', 'orgtomcat', 'orgtoolswebappstracker', 'orgtoolswebappstrackerfromampto', 'orgtopichtmlproposeddesignprinciples', 'orgtrackerirc', 'orgtrcssbox', 'orgtrcssfonts', 'orgtrcssmediaqueries', 'orgtrcssselector', 'orgtrcsssyndata', 'orgtrcsstables', 'orgtrcsstext', 'orgtrcssvisudet', 'orgtrcssvisuren', 'orgtrhtml', 'orgtrhtmlinteractforms', 'orgtrhtmlstrict', 'orgtrhtmlstructglobal', 'orgtrhtmlstructlinks', 'orgtrhtmlstructlists', 'orgtrhtmlstructobjects', 'orgtrhtmlstructtables', 'orgtrhtmltypes', 'orgtrwdhtml', 'orgvideo', 'orgviewtopic', 'orgwafaccesscontrol', 'orgwbsissueobjectionpollresults', 'orgwebapidomleveleventshtmldomevents', 'orgwebapixmlhttprequest', 'orgwebapps', 'orgwebappsactions', 'orgwebappsirc', 'orgwebappsirct', 'orgwebappsminutes', 'orgwebappstrackissues', 'orgwebappstrackproducts', 'orgweblogdotclearindex', 'orgwiki', 'orgwikiblenderdhttpen', 'orgwikiimplementationsinwebbrowsers', 'orgwikiindex', 'orgwikiirc', 'orgwikiircpeople', 'orgwikimainpage', 'orgwikimicrosyntaxdescriptions', 'orgwikititleeventsampdiffampoldid', 'orgwikititleeventsweeklymeetupdinnerampdiffampoldid', 'orgwikititlehaudioissuesampdiffampoldid', 'orgwikititlehcardexamplesinwildampdiffampoldid', 'orgwikititleircpeopleampdiffampoldid', 'orgwikititlemainpageampdiffampoldid', 'orgwikititlerecipebrainstormingampdiffampoldid', 'orgwikititlerestjsonampdiffampoldid', 'orgwikititlespeciallogblockampdiffampoldid', 'orgwikititlespeciallogdeleteampdiffampoldid', 'orgwikititlevalueexcerptionpatternbrainstormingampdiffampoldid', 'orgwikivalidator', 'orgxhtml', 'orgxhtmlminutes', 'orgxhtmlquot', 'orgy', 'orient', 'orientation', 'origin', 'original', 'originally', 'originate', 'originquot', 'origins', 'orinoco', 'orissa', 'ork', 'orkut', 'orlando', 'orleans', 'orly', 'orm', 'orphan', 'orry', 'orthogonal', 'os', 'osama', 'oscon', 'osd', 'osdistro', 'oses', 'oshte', 'oslevel', 'oslo', 'ospf', 'osquot', 'oss', 'osx', 'ot', 'otehr', 'otf', 'othe', 'othermaciej', 'otherquot', 'others', 'othersquot', 'otherwise', 'othr', 'otoh', 'ottawa', 'ou', 'oua', 'ouch', 'oue', 'ouei', 'ought', 'oughta', 'ouh', 'oui', 'oukei', 'ould', 'ounce', 'ouo', 'oups', 'out', 'outa', 'outage', 'outages', 'outbound', 'outcome', 'outcomes', 'outdated', 'outdoor', 'outdoors', 'outer', 'outerhtml', 'outfit', 'outgo', 'outline', 'outliner', 'outlook', 'outofband', 'outofdate', 'outofrange', 'outofthebox', 'outperform', 'output', 'outquot', 'outrage', 'outrageous', 'outright', 'outside', 'outsource', 'outstanding', 'outt', 'outta', 'outweigh', 'ouu', 'ouuu', 'ov', 'ova', 'ove', 'oven', 'overall', 'overboard', 'overclock', 'overclocked', 'overclocking', 'overcome', 'overcrowd', 'overdue', 'overflow', 'overflowhidden', 'overflowy', 'overhaul', 'overhead', 'overheat', 'overkill', 'overlap', 'overlay', 'overload', 'overlook', 'overly', 'overnight', 'overquot', 'overrate', 'override', 'overrun', 'overseas', 'oversight', 'overstatement', 'overtime', 'overuse', 'overview', 'overwhelm', 'overwrite', 'ovr', 'ow', 'owe', 'owen', 'owh', 'owl', 'own', 'owner', 'ownerdocument', 'owners', 'ownership', 'owuld', 'oww', 'owww', 'owwww', 'ox', 'oxford', 'oxygen', 'oxygene', 'oxymoron', 'oy', 'oye', 'oyu', 'oz', 'pa', 'pablo', 'pac', 'pace', 'paciellogroup', 'pacific', 'pack', 'package', 'packet', 'packets', 'packin', 'packman', 'pacman', 'pad', 'paddingleft', 'paddings', 'paddingtop', 'page', 'pagequot', 'pager', 'pagerank', 'pagesquot', 'pah', 'paige', 'pain', 'painful', 'painfully', 'painless', 'paint', 'painter', 'pair', 'pajama', 'pak', 'paki', 'pakistan', 'pakistani', 'pal', 'pale', 'palette', 'palm', 'pam', 'pampc', 'pan', 'panama', 'pancake', 'pancakes', 'panda', 'pandora', 'pane', 'panel', 'panic', 'pant', 'panties', 'pantsuits', 'panty', 'paoleelawork', 'papa', 'paper', 'paperwork', 'papi', 'par', 'para', 'parade', 'paradigm', 'paradise', 'paragraph', 'parallel', 'param', 'parameter', 'parameters', 'paramore', 'params', 'paranoia', 'paranoid', 'pardon', 'parens', 'parent', 'parental', 'parentheses', 'parenthesis', 'parentnode', 'paris', 'parity', 'park', 'parker', 'parle', 'parles', 'parrot', 'parse', 'parsefloat', 'parseint', 'parser', 'parserinserted', 'parsers', 'parsetree', 'part', 'partake', 'partial', 'partially', 'participant', 'participants', 'participate', 'participation', 'particle', 'particles', 'particular', 'particularly', 'particulary', 'partion', 'partition', 'partly', 'partner', 'party', 'pas', 'pascal', 'pasha', 'paso', 'pass', 'passage', 'passdb', 'passfail', 'passion', 'passionate', 'passionately', 'passive', 'passphrase', 'passport', 'passwd', 'password', 'passwords', 'past', 'pasta', 'paste', 'pastebin', 'pastie', 'pat', 'pata', 'patch', 'patchset', 'patent', 'path', 'pathetic', 'pathname', 'pathquot', 'paths', 'patience', 'patient', 'patrick', 'pattern', 'patties', 'pattinson', 'patty', 'paul', 'paulc', 'paulirish', 'paulo', 'paulrouget', 'pauls', 'pause', 'pave', 'pavement', 'paw', 'pay', 'paybacknikki', 'paycheck', 'payday', 'payload', 'payment', 'payments', 'paypal', 'pb', 'pbs', 'pc', 'pca', 'pcb', 'pcdata', 'pce', 'pci', 'pcie', 'pcm', 'pcmcia', 'pcquot', 'pcs', 'pctony', 'pd', 'pda', 'pdb', 'pdbedit', 'pdc', 'pdf', 'pdfa', 'pdfhttpwww', 'pdfquot', 'pdfs', 'pdt', 'pe', 'peace', 'peaceful', 'peach', 'peachy', 'peak', 'peanut', 'peanuts', 'pear', 'pearce', 'pearl', 'peas', 'pebkac', 'peculiar', 'pedal', 'pedantic', 'pedo', 'pedobear', 'pedophile', 'pedophiles', 'pedos', 'pedro', 'pee', 'peek', 'peel', 'peep', 'peer', 'peerce', 'peerconnection', 'peertopeer', 'peg', 'peh', 'peice', 'peices', 'pemberton', 'pen', 'penalty', 'pencil', 'pending', 'pendulum', 'penetrate', 'penetration', 'penguin', 'penis', 'penises', 'pennis', 'pennsylvania', 'penny', 'pentium', 'peole', 'peopel', 'people', 'peopleaposs', 'peoplequot', 'pepe', 'pepper', 'pepsi', 'per', 'perceive', 'percent', 'percentage', 'percentages', 'perception', 'perchance', 'perf', 'perfect', 'perfection', 'perfectionist', 'perfectly', 'perfer', 'perfomance', 'perform', 'performance', 'performant', 'perhaps', 'period', 'periodic', 'periodically', 'periods', 'perk', 'perky', 'perl', 'perlquot', 'perls', 'perm', 'permalink', 'permalinks', 'permanent', 'permanently', 'permisions', 'permissible', 'permission', 'permissions', 'permissive', 'permit', 'pero', 'perpendicular', 'perror', 'perry', 'persian', 'persist', 'persistant', 'persistence', 'persistent', 'person', 'persona', 'personal', 'personality', 'personally', 'persons', 'perspective', 'perspectives', 'persuade', 'persuasive', 'pertain', 'perterb', 'perth', 'peru', 'peruser', 'perv', 'perve', 'perverse', 'pervert', 'pervs', 'pervy', 'pesky', 'pessimistic', 'pester', 'pet', 'petaluma', 'pete', 'peter', 'peterhu', 'peters', 'peterv', 'petite', 'petkouzunski', 'petrol', 'pettay', 'peut', 'pew', 'pf', 'pff', 'pfff', 'pffft', 'pfffttttttt', 'pfft', 'pft', 'pfwg', 'pg', 'pgo', 'pgp', 'pgsql', 'ph', 'phadthai', 'phae', 'phantom', 'pharmacy', 'phase', 'phd', 'phenomenon', 'phew', 'phil', 'philadelphia', 'philip', 'philipines', 'philippe', 'philippines', 'philips', 'phillip', 'philly', 'philoraway', 'philosophical', 'philosophy', 'phils', 'phishing', 'phoenix', 'phon', 'phone', 'phonegap', 'phonetic', 'phonetically', 'photo', 'photobucket', 'photograph', 'photographer', 'photography', 'photos', 'photoshop', 'php', 'phpa', 'phpbb', 'phpdidampdfampdflidampca', 'phpfbidampseta', 'phpht', 'phphttpus', 'phphttpwww', 'phpid', 'phpida', 'phpidhttphashmysql', 'phpidhttpwww', 'phpidprofile', 'phpinfo', 'phpistaringwtf', 'phpmyadmin', 'phpmysql', 'phpp', 'phppasteida', 'phppasteidhttpwww', 'phppida', 'phppidampid', 'phpprofile', 'phpquot', 'phprefprofileampid', 'phps', 'phpscriptida', 'phpscriptidhttpwww', 'phpsrcpicture', 'phpt', 'phpta', 'phpthttpblenderartists', 'phpthttpwww', 'phptipida', 'phptipidhttpwww', 'phptitleeventsampdiffampoldidamprcid', 'phptitleeventsmeetupampdiffampoldidamprcid', 'phptitleexistingrelvaluesampdiffampoldidamprcid', 'phptitlehcardexamplesinwildampdiffampoldidamprcid', 'phptitlehresumeexamplesinwildampdiffampoldidamprcid', 'phptitlehreviewaggregateampdiffampoldidamprcid', 'phptitlehreviewexamplesinwildampdiffampoldidamprcid', 'phptitlemainpageampdiffampoldidamprcid', 'phptitlemicroformatsampdiffampoldidamprcid', 'phpviewmap', 'phr', 'phrakture', 'phrase', 'phtml', 'phx', 'phys', 'physical', 'physically', 'physicist', 'physics', 'pi', 'piano', 'pic', 'picc', 'pick', 'picker', 'pickin', 'pickle', 'pickup', 'picky', 'picnic', 'pico', 'pics', 'picsbut', 'pict', 'picts', 'picture', 'pid', 'pidgin', 'pie', 'piece', 'pierce', 'pig', 'pigtail', 'pii', 'piii', 'pikachu', 'pile', 'pilgrim', 'pill', 'pillow', 'pills', 'pilot', 'pimp', 'pimpmyspec', 'pin', 'pinch', 'pine', 'pineapple', 'ping', 'pingback', 'pink', 'pinpoint', 'pioneer', 'pip', 'pipe', 'pipeline', 'pirate', 'pis', 'piss', 'pissy', 'pistol', 'pit', 'pita', 'pitch', 'pitel', 'pitiful', 'pitt', 'pitty', 'pity', 'pivot', 'pix', 'pixar', 'pixel', 'pixelated', 'pixels', 'pixie', 'pixmap', 'pizza', 'pizzas', 'pj', 'pjs', 'pk', 'pkg', 'pkgadd', 'pkgconfig', 'pkgget', 'pkginfo', 'pkgs', 'pkgsrc', 'pki', 'pkill', 'pks', 'pl', 'pla', 'place', 'placeholder', 'placeholderquotquot', 'placeholders', 'placement', 'placequot', 'plague', 'plaid', 'plain', 'plaintext', 'plan', 'plane', 'planequot', 'planet', 'planets', 'plant', 'plase', 'plastic', 'plat', 'plate', 'platform', 'platforms', 'platformspecific', 'plausible', 'play', 'playa', 'playable', 'playback', 'playbackrate', 'playboy', 'player', 'players', 'playful', 'playground', 'playin', 'playingquot', 'playlist', 'playstation', 'playy', 'plead', 'pleas', 'pleasant', 'please', 'pleasee', 'pleaseee', 'pleasurable', 'pleasure', 'plenary', 'plenty', 'plese', 'plethora', 'plh', 'plincludeonefileinanothera', 'plincludeonefileinanotherhttpwww', 'plinss', 'plist', 'pliz', 'plop', 'plot', 'plow', 'pls', 'plse', 'plsid', 'plsidampcid', 'plsql', 'plss', 'plug', 'pluggable', 'plugin', 'plugins', 'plumb', 'plural', 'plus', 'pluto', 'plz', 'plzz', 'plzzz', 'plzzzzzz', 'pm', 'pms', 'png', 'pnga', 'pnghttpimg', 'pnghttpwww', 'pngquot', 'pngquotgt', 'pngs', 'po', 'pocket', 'pocoo', 'pod', 'podcast', 'pode', 'poem', 'poeple', 'poet', 'poetry', 'pogo', 'poika', 'point', 'pointer', 'pointerevents', 'pointers', 'pointless', 'pointlessly', 'pointquot', 'pointy', 'poison', 'poisonr', 'poke', 'pokemon', 'poker', 'pol', 'poland', 'polar', 'pole', 'police', 'policies', 'policy', 'polish', 'polite', 'politely', 'political', 'politically', 'politicians', 'politics', 'poll', 'pollute', 'pollution', 'polo', 'polpak', 'poly', 'polyfill', 'polyfills', 'polyglot', 'polygon', 'polygons', 'polys', 'pom', 'pond', 'ponder', 'pone', 'pong', 'ponies', 'pony', 'poo', 'poof', 'pool', 'poop', 'pooper', 'poopy', 'poor', 'poorly', 'poot', 'pop', 'popcorn', 'pope', 'poppit', 'popsicle', 'popstate', 'popular', 'popularity', 'populate', 'population', 'popup', 'popups', 'por', 'porch', 'pork', 'porn', 'porno', 'pornography', 'pornstar', 'porque', 'port', 'portability', 'portable', 'portage', 'portal', 'portfolio', 'portion', 'portland', 'portrait', 'portugal', 'portugese', 'portugues', 'portuguese', 'pos', 'pose', 'posh', 'posible', 'position', 'positionabsolute', 'positionfixed', 'positioniseverything', 'positionquot', 'positionrelative', 'positive', 'positively', 'positives', 'posix', 'posle', 'possess', 'possibilities', 'possibility', 'possible', 'possiblequot', 'possibly', 'post', 'postal', 'poster', 'posterquot', 'posters', 'postfix', 'postgres', 'postgresql', 'postmessage', 'postmsg', 'postpone', 'postprocessor', 'postrouting', 'postscript', 'pot', 'potato', 'potatoes', 'potential', 'potentially', 'potter', 'potty', 'pound', 'pour', 'pov', 'poverty', 'pow', 'powder', 'power', 'powerbook', 'powerful', 'powerfull', 'powerpc', 'powerpoint', 'pp', 'ppc', 'ppj', 'ppk', 'ppl', 'ppls', 'ppp', 'pppoe', 'pptp', 'pq', 'pquot', 'pr', 'pra', 'practical', 'practically', 'practice', 'practicequot', 'practicesquot', 'practise', 'prada', 'pragma', 'pragmatic', 'prague', 'praise', 'prank', 'pratice', 'pratique', 'pravus', 'pray', 'prayer', 'prblem', 'prblm', 'pre', 'preach', 'prebuilt', 'precede', 'precedence', 'precedent', 'precious', 'precise', 'precisely', 'precision', 'preclude', 'precompiled', 'precx', 'pred', 'predate', 'predator', 'predefined', 'predicate', 'predict', 'predictable', 'prediction', 'predictions', 'preempt', 'preemptively', 'preexist', 'pref', 'prefer', 'preferable', 'preferably', 'preference', 'preferences', 'prefilled', 'prefix', 'preflight', 'prefork', 'preformatted', 'prefs', 'preg', 'preggers', 'pregnant', 'preinstalled', 'prejudice', 'preliminary', 'preload', 'preloaded', 'premade', 'premature', 'prematurely', 'premise', 'premium', 'premultiplied', 'prep', 'preparation', 'prepare', 'prepay', 'prepend', 'prepending', 'preprocessing', 'preprocessor', 'prerelease', 'prerequisite', 'prerouting', 'pres', 'prescribe', 'presence', 'present', 'presentation', 'presentational', 'presentations', 'presently', 'preserve', 'preset', 'president', 'presidential', 'press', 'pressure', 'presto', 'presumably', 'presume', 'presumption', 'pretend', 'prettier', 'pretty', 'prety', 'prev', 'prevalent', 'prevent', 'preventdefault', 'prevention', 'preview', 'previous', 'previously', 'prey', 'prez', 'pri', 'price', 'priceless', 'pricey', 'prick', 'pride', 'priest', 'primarily', 'primary', 'prime', 'primer', 'primitive', 'primitives', 'prince', 'princess', 'principal', 'principle', 'principles', 'print', 'printer', 'printers', 'printf', 'prior', 'priorities', 'prioritise', 'prioritize', 'priority', 'prism', 'prison', 'priv', 'privacy', 'private', 'privately', 'privet', 'privilege', 'privmsg', 'privs', 'prize', 'prn', 'pro', 'prob', 'probability', 'probable', 'probablly', 'probably', 'probally', 'probaly', 'probe', 'problem', 'problema', 'problematic', 'probleme', 'problemo', 'problemquot', 'problems', 'problemsquot', 'probley', 'probly', 'probs', 'proc', 'proccess', 'procedural', 'procedure', 'procedures', 'proceed', 'process', 'processor', 'processors', 'proclaim', 'procnetipconntrack', 'procrastinate', 'procs', 'procsysnetipvipforward', 'prod', 'produce', 'producers', 'product', 'production', 'productions', 'productive', 'productivity', 'products', 'prof', 'profession', 'professional', 'professionally', 'professionals', 'professor', 'profil', 'profile', 'profilequot', 'profilequotquot', 'profiler', 'profit', 'prog', 'program', 'programatically', 'programm', 'programmatically', 'programme', 'programmer', 'programmers', 'programquot', 'progress', 'progressbar', 'progressive', 'progressively', 'progressquot', 'progs', 'prohibit', 'prohibition', 'project', 'projecta', 'projection', 'projector', 'projectquot', 'proliferation', 'prolly', 'prolog', 'prom', 'prominent', 'promis', 'promise', 'promote', 'promotion', 'prompt', 'pron', 'prone', 'pronounce', 'pronounciation', 'pronunciation', 'proof', 'proofofconcept', 'proofread', 'prop', 'propably', 'propaganda', 'propagate', 'propagation', 'proper', 'properly', 'properties', 'propertiesquot', 'property', 'propertyquot', 'proponents', 'proportion', 'proportional', 'proposal', 'proposals', 'propose', 'proposition', 'proprietary', 'pros', 'prose', 'prospect', 'prostitute', 'prostitution', 'prosto', 'protect', 'protection', 'protest', 'proto', 'protocol', 'protocols', 'prototype', 'prototypes', 'proud', 'prove', 'provide', 'provider', 'providers', 'province', 'provision', 'proxies', 'proxy', 'proxying', 'proxypass', 'prstat', 'prtty', 'prudent', 'prune', 'ps', 'pseries', 'pseudo', 'pseudoclass', 'pseudoclasses', 'pseudocode', 'pseudoelement', 'pseudoelements', 'pseudowish', 'psh', 'pssh', 'psst', 'pst', 'psu', 'psus', 'psychic', 'psycho', 'psychologist', 'psychology', 'pt', 'pts', 'pu', 'pub', 'pubdate', 'pubes', 'pubic', 'public', 'publically', 'publication', 'publications', 'publichtml', 'publichtmlbugzilla', 'publichtmlcomments', 'publicity', 'publicly', 'publicscriptcoord', 'publicwebapi', 'publicwebapps', 'publish', 'publisher', 'publishers', 'pubrules', 'pubs', 'puch', 'puddi', 'pudding', 'puddipuddi', 'puddipuddipuddi', 'puddipuddipuddipuddipuddipuddipuddipuddipuddipuddipuddipuddipuddipuddipuddipuddipuddipuddipuddipuddi', 'puerto', 'puff', 'puke', 'pull', 'pulp', 'pulse', 'pump', 'pun', 'punch', 'punctuation', 'pune', 'punish', 'punishment', 'punjab', 'punk', 'punkcut', 'punko', 'punt', 'punya', 'pup', 'puppies', 'puppy', 'purchase', 'pure', 'purely', 'purge', 'purity', 'purple', 'purpose', 'purposely', 'purr', 'pursue', 'pursuit', 'push', 'pushback', 'pushstate', 'pushy', 'puss', 'pussies', 'pusssy', 'pussy', 'pussys', 'put', 'puta', 'putang', 'puter', 'putfilequot', 'putimagedata', 'putin', 'puttin', 'putty', 'puzzle', 'pv', 'pw', 'pwd', 'pwn', 'pwned', 'pwns', 'px', 'pxe', 'pxquot', 'py', 'pyanswer', 'pyk', 'pyqt', 'pyquot', 'pyramid', 'pyt', 'python', 'pythons', 'qa', 'qampa', 'qantourisc', 'qapplication', 'qbytearray', 'qdebug', 'qdialog', 'qemu', 'qfe', 'qframe', 'qglwidget', 'qhttp', 'qi', 'qlabel', 'qld', 'qlineedit', 'qlist', 'qlistview', 'qmainwindow', 'qmake', 'qmario', 'qname', 'qobject', 'qos', 'qpainter', 'qpluginloader', 'qprocess', 'qpush', 'qq', 'qr', 'qregexp', 'qs', 'qsettings', 'qstring', 'qstringlist', 'qt', 'qtableview', 'qtablewidget', 'qtcentre', 'qtdancer', 'qtdesigner', 'qtextedit', 'qtnode', 'qtopia', 'qtreeview', 'qts', 'qtwebkit', 'qu', 'quack', 'quad', 'quadratic', 'quaint', 'quake', 'quakenet', 'qual', 'qualification', 'qualify', 'quality', 'quanta', 'quantify', 'quantities', 'quantity', 'quantum', 'quarter', 'quartey', 'quartz', 'quasi', 'quaziggyziggyzam', 'que', 'quebec', 'queen', 'queensland', 'queer', 'queit', 'quelle', 'query', 'queryselector', 'queryselectorall', 'querystring', 'ques', 'quess', 'quest', 'questin', 'question', 'questiona', 'questionable', 'questionnaire', 'queue', 'qui', 'quick', 'quicker', 'quickest', 'quickie', 'quickly', 'quicktime', 'quiero', 'quiet', 'quieter', 'quietly', 'quik', 'quinn', 'quirk', 'quirksmode', 'quirksonly', 'quirky', 'quit', 'quite', 'quiz', 'quo', 'quorum', 'quot', 'quota', 'quotabout', 'quotabsolute', 'quotaccess', 'quotaccessibleeventstestfocusautocomplete', 'quotaccessiblequot', 'quotactually', 'quotadd', 'quotadded', 'quotadding', 'quotafter', 'quotajaxquot', 'quotalignquot', 'quotall', 'quotallow', 'quotallquot', 'quotalmost', 'quotalready', 'quotalso', 'quotalter', 'quotaltquot', 'quotalways', 'quotampampquot', 'quotampltquot', 'quotampquot', 'quotan', 'quotand', 'quotanother', 'quotanquot', 'quotany', 'quotanyone', 'quotanything', 'quotapache', 'quotapos', 'quotaposapos', 'quotaposquot', 'quotaposquotquot', 'quotapple', 'quotapplication', 'quotaptget', 'quotaquot', 'quotare', 'quotas', 'quotaslquot', 'quotat', 'quotation', 'quotations', 'quotattribute', 'quotattributequot', 'quotattributes', 'quotauthorquot', 'quotauthors', 'quotauto', 'quotautoquot', 'quotayaccessibleeventstestfocusgeneral', 'quotbackground', 'quotbad', 'quotbadquot', 'quotbarquot', 'quotbe', 'quotbecause', 'quotbefore', 'quotbest', 'quotbestquot', 'quotbetterquot', 'quotbig', 'quotbigquot', 'quotblahquot', 'quotblankquot', 'quotblock', 'quotblockquot', 'quotbody', 'quotbodyquot', 'quotboldquot', 'quotboot', 'quotboxquot', 'quotbquot', 'quotbringing', 'quotbrokenquot', 'quotbrowser', 'quotbug', 'quotbugquot', 'quotbuild', 'quotbut', 'quotbuttonquot', 'quotbuy', 'quotby', 'quotc', 'quotcall', 'quotcan', 'quotcannot', 'quotcant', 'quotcanvas', 'quotcat', 'quotchange', 'quotcharacter', 'quotcheckboxquot', 'quotclass', 'quotclassquot', 'quotclean', 'quotclearquot', 'quotclick', 'quotclosedquot', 'quotcode', 'quotcodecsquot', 'quotcodequot', 'quotcommand', 'quotcommandquot', 'quotcommonquot', 'quotcompletequot', 'quotconformance', 'quotconforming', 'quotconnection', 'quotconnectquot', 'quotcontent', 'quotcontenttype', 'quotcontext', 'quotcontexts', 'quotcoolquot', 'quotcopyquot', 'quotcorrectquot', 'quotcould', 'quotcp', 'quotcprogram', 'quotcquot', 'quotcreate', 'quotcss', 'quotcurrent', 'quotcurrentquot', 'quotd', 'quotdata', 'quotdataquot', 'quotdefault', 'quotdefaultquot', 'quotdelete', 'quotdid', 'quotdisk', 'quotdo', 'quotdocument', 'quotdocumentquot', 'quotdoes', 'quotdoesnt', 'quotdom', 'quotdomain', 'quotdont', 'quotdownload', 'quotdpkg', 'quotdquot', 'quotdraftedquot', 'quote', 'quoteach', 'quoteasyquot', 'quotecho', 'quotedit', 'quotelement', 'quotelementquot', 'quotemailquot', 'quotemerge', 'quotemilystarxxxquot', 'quotenable', 'quotend', 'quotequot', 'quoterror', 'quoterrorquot', 'quotesquot', 'quoteven', 'quotevery', 'quoteverything', 'quotexport', 'quotfailed', 'quotfailedquot', 'quotfalsequot', 'quotfatal', 'quotfeature', 'quotfeaturequot', 'quotfile', 'quotfilenamequot', 'quotfilequot', 'quotfinally', 'quotfind', 'quotfinequot', 'quotfirefox', 'quotfirst', 'quotfix', 'quotfixed', 'quotfixedquot', 'quotfixquot', 'quotfnquot', 'quotfollow', 'quotfoo', 'quotfoobarquot', 'quotfooquot', 'quotfor', 'quotform', 'quotfquot', 'quotfree', 'quotfreequot', 'quotfriendquot', 'quotfrom', 'quotfuck', 'quotfull', 'quotfullquot', 'quotfunctionquot', 'quotfunquot', 'quotget', 'quotgetquot', 'quotgetting', 'quotgive', 'quotgiven', 'quotgo', 'quotgood', 'quotgoodquot', 'quotgoogle', 'quotgooglequot', 'quotgquot', 'quotgroup', 'quotgt', 'quotgtquot', 'quothas', 'quothave', 'quothe', 'quotheaderquot', 'quothello', 'quothelloquot', 'quothelpquot', 'quothere', 'quotherequot', 'quothey', 'quothg', 'quothi', 'quothiddenquot', 'quothidequot', 'quothigh', 'quothiquot', 'quothixie', 'quothost', 'quothow', 'quothowever', 'quothquot', 'quothrefquot', 'quothtml', 'quothtmlquot', 'quothttp', 'quothttpquot', 'quothttpwww', 'quoti', 'quotian', 'quotid', 'quotidquot', 'quotie', 'quotif', 'quotifquot', 'quotill', 'quotim', 'quotimage', 'quotimagequot', 'quotimgquot', 'quotimgquotquot', 'quotimport', 'quotin', 'quotindex', 'quotinitial', 'quotinputquot', 'quotinquot', 'quotinsert', 'quotinstall', 'quotinterestingquot', 'quotinternal', 'quotinternet', 'quotinvalid', 'quotinvalidquot', 'quotip', 'quotiptables', 'quotiquot', 'quotis', 'quotisquot', 'quotit', 'quotitquot', 'quotits', 'quotive', 'quotjava', 'quotjs', 'quotjust', 'quotjustquot', 'quotkeep', 'quotkill', 'quotlast', 'quotlater', 'quotlatest', 'quotless', 'quotlet', 'quotlets', 'quotlike', 'quotline', 'quotlink', 'quotlinkquot', 'quotlinux', 'quotlist', 'quotloadquot', 'quotlocal', 'quotlong', 'quotlook', 'quotlow', 'quotlquot', 'quotlsquot', 'quotlt', 'quotltdoctype', 'quotltinput', 'quotltquot', 'quotmade', 'quotmagicquot', 'quotmain', 'quotmainquot', 'quotmake', 'quotmaking', 'quotman', 'quotmap', 'quotmark', 'quotmay', 'quotmaybe', 'quotmaybequot', 'quotmayquot', 'quotme', 'quotmeta', 'quotmicrosoft', 'quotmike', 'quotmore', 'quotmorequot', 'quotmost', 'quotmount', 'quotmove', 'quotmozilla', 'quotmust', 'quotmustquot', 'quotmy', 'quotmysql', 'quotmysqlquot', 'quotnamequot', 'quotnativequot', 'quotneed', 'quotneedquot', 'quotnet', 'quotnetwork', 'quotnever', 'quotnew', 'quotnewquot', 'quotnext', 'quotnextquot', 'quotnice', 'quotnicequot', 'quotno', 'quotnodequot', 'quotnon', 'quotnonequot', 'quotnoquot', 'quotnormal', 'quotnormalquot', 'quotnot', 'quotnote', 'quotnothingquot', 'quotnotquot', 'quotnow', 'quotnowquot', 'quotnquot', 'quotnull', 'quotnullquot', 'quotnumberquot', 'quotobject', 'quotobjectquot', 'quotofficialquot', 'quotoh', 'quotok', 'quotokquot', 'quotold', 'quotoldquot', 'quotomg', 'quoton', 'quotonce', 'quotone', 'quotonly', 'quotonlyquot', 'quotonquot', 'quotoopsquot', 'quotopen', 'quotopenquot', 'quotopera', 'quotor', 'quotoriginquot', 'quotother', 'quototherquot', 'quototherwise', 'quotour', 'quotp', 'quotpage', 'quotpagequot', 'quotparticularly', 'quotpassquot', 'quotpeople', 'quotphp', 'quotplease', 'quotpleasequot', 'quotpost', 'quotpotentially', 'quotpquot', 'quotpress', 'quotproblemquot', 'quotprotocolquot', 'quotpublic', 'quotpurequot', 'quotput', 'quotqt', 'quotquot', 'quotquotaposaposaposapos', 'quotquotquot', 'quotquotquotapos', 'quotquotquotaposaposaposquotaposquotapos', 'quotquotquotquotquot', 'quotre', 'quotread', 'quotreal', 'quotreally', 'quotrealquot', 'quotrecent', 'quotrelquot', 'quotremote', 'quotremove', 'quotreplace', 'quotreport', 'quotrepresentationquot', 'quotreset', 'quotresetquot', 'quotresolve', 'quotresourcequot', 'quotreturn', 'quotright', 'quotrightquot', 'quotrootquot', 'quotrquot', 'quotrun', 'quotrunquot', 'quots', 'quotsafequot', 'quotsame', 'quotsave', 'quotsavequot', 'quotscript', 'quotsearch', 'quotsecurity', 'quotsee', 'quotselect', 'quotsemantic', 'quotsemanticquot', 'quotsend', 'quotserver', 'quotserverquot', 'quotsession', 'quotset', 'quotsetquot', 'quotsexy', 'quotshould', 'quotshouldquot', 'quotshow', 'quotsidebarquot', 'quotsimplequot', 'quotsince', 'quotsizequot', 'quotskip', 'quotso', 'quotsoftware', 'quotsolaris', 'quotsome', 'quotsomeone', 'quotsomething', 'quotsomethingquot', 'quotsoonquot', 'quotsorry', 'quotsourcequot', 'quotspace', 'quotspacequot', 'quotsplit', 'quotsplitquot', 'quotsquot', 'quotstandardquot', 'quotstandards', 'quotstart', 'quotstarting', 'quotstop', 'quotstranger', 'quotstreamsquot', 'quotstrictquot', 'quotstring', 'quotstringquot', 'quotstructured', 'quotsubmit', 'quotsubmitquot', 'quotsupport', 'quotsupportquot', 'quotsvg', 'quotsvgquot', 'quotswitch', 'quotsyntax', 'quotsystem', 'quottable', 'quottabquot', 'quottag', 'quottagquot', 'quottest', 'quottestquot', 'quottext', 'quottextquot', 'quotthank', 'quotthat', 'quotthats', 'quotthe', 'quotthequot', 'quotthere', 'quottherequot', 'quottheres', 'quotthese', 'quotthey', 'quottheyquot', 'quotthings', 'quotthis', 'quotthisquot', 'quotthose', 'quotthrows', 'quottime', 'quottitlequot', 'quotto', 'quottoday', 'quottoo', 'quottopquot', 'quottotal', 'quottquot', 'quottruequot', 'quottry', 'quottwo', 'quottypequot', 'quotunable', 'quotundefinedquot', 'quotunexpected', 'quotunknown', 'quotunknownquot', 'quotunless', 'quotupdate', 'quotupdated', 'quotupdatequot', 'quotuquot', 'quoturlquot', 'quotuse', 'quotused', 'quotuser', 'quotuserquot', 'quotusing', 'quotutfquot', 'quotvalid', 'quotvalidquot', 'quotvalue', 'quotvaluequot', 'quotvaluesquot', 'quotvar', 'quotvery', 'quotvideo', 'quotview', 'quotvquot', 'quotw', 'quotwarning', 'quotwc', 'quotwcdtd', 'quotwe', 'quotweb', 'quotwebquot', 'quotwell', 'quotwequot', 'quotwere', 'quotwhat', 'quotwhatever', 'quotwhats', 'quotwhatwg', 'quotwhatwgquot', 'quotwhen', 'quotwhere', 'quotwherequot', 'quotwhich', 'quotwhile', 'quotwhitespace', 'quotwho', 'quotwhy', 'quotwhyquot', 'quotwidgetquot', 'quotwill', 'quotwindows', 'quotwith', 'quotwithout', 'quotwork', 'quotworkquot', 'quotworks', 'quotworksquot', 'quotworldquot', 'quotwould', 'quotwow', 'quotwquot', 'quotwrite', 'quotwriting', 'quotwrongquot', 'quotwtf', 'quotwtfquot', 'quotwww', 'quotx', 'quotxhtml', 'quotxhtmlquot', 'quotxml', 'quotxquot', 'quotyeah', 'quotyes', 'quotyesquot', 'quotyou', 'quotyouquot', 'quotyour', 'quotyoure', 'quotyouve', 'quotyquot', 'quux', 'qwerty', 'qwidget', 'ra', 'rabbit', 'rac', 'race', 'racer', 'rachel', 'racism', 'racist', 'rack', 'rad', 'radar', 'raden', 'radeon', 'radhikaroy', 'radial', 'radical', 'radically', 'radio', 'radiobutton', 'radiohead', 'radius', 'rae', 'raevel', 'raf', 'rafael', 'rafb', 'rag', 'rage', 'rah', 'raha', 'rahi', 'rahter', 'rahul', 'raid', 'raidz', 'rail', 'railroad', 'railway', 'rain', 'rainbow', 'rainbows', 'rainin', 'rainy', 'raise', 'raj', 'rake', 'ral', 'ralink', 'rally', 'ralph', 'ram', 'raman', 'ramble', 'ramdisk', 'ramen', 'ramirez', 'ramp', 'rampb', 'ranch', 'rand', 'random', 'randomize', 'randomly', 'randomness', 'randrew', 'randy', 'range', 'rank', 'rant', 'rap', 'rape', 'rapid', 'rapidly', 'rapids', 'rapidshare', 'rapist', 'rar', 'rare', 'rarely', 'rash', 'raster', 'rasterizer', 'rat', 'rate', 'rather', 'rathole', 'ratio', 'rational', 'rationale', 'rationales', 'ratios', 'ratty', 'rave', 'raven', 'raw', 'rawkes', 'rawr', 'ray', 'raymond', 'razor', 'rb', 'rbuild', 'rc', 'rcdata', 'rcs', 'rd', 'rdbms', 'rdesktop', 'rdf', 'rdfa', 'rdfxml', 'rdp', 'rdparty', 're', 'reaaally', 'reach', 'reachable', 'react', 'reaction', 'reactions', 'reactos', 'reactosntoskrnl', 'read', 'readability', 'readable', 'readd', 'readding', 'reader', 'readers', 'readily', 'readin', 'readiness', 'readme', 'readonly', 'readquot', 'readwrite', 'ready', 'readyquot', 'readystate', 'real', 'realise', 'realistic', 'realistically', 'realities', 'reality', 'realityquot', 'realization', 'realize', 'reall', 'realllly', 'reallly', 'really', 'realm', 'reals', 'realtek', 'realtime', 'realworld', 'realy', 'realz', 'reappear', 'rear', 'rearrange', 'reason', 'reasonable', 'reasonably', 'reassign', 'reassure', 'rebase', 'rebate', 'rebecca', 'rebel', 'reboot', 'rebranding', 'rebuild', 'rec', 'recalculate', 'recall', 'recap', 'reccomend', 'receipt', 'receive', 'receiver', 'recent', 'recently', 'reception', 'receptive', 'recharter', 'rechartering', 'recheck', 'recieve', 'recieved', 'recipe', 'recipebrainstorming', 'recipes', 'recipient', 'recipients', 'reckon', 'recode', 'recognise', 'recognition', 'recognizable', 'recognize', 'recollection', 'recomend', 'recommand', 'recommend', 'recommendation', 'recommendationquot', 'recommendations', 'recompile', 'recompiled', 'recompiling', 'recon', 'reconcile', 'reconfigure', 'reconnect', 'reconnected', 'reconsider', 'reconstruct', 'record', 'recorder', 'recourse', 'recover', 'recovery', 'recreate', 'recruit', 'recs', 'rect', 'rectangle', 'rectangles', 'rectangular', 'rectrack', 'rects', 'recur', 'recursion', 'recursive', 'recursively', 'recycle', 'red', 'reddit', 'reddy', 'redeem', 'redefine', 'redeploy', 'redesign', 'redhat', 'redhead', 'redir', 'redirect', 'redirection', 'rediscover', 'redistribute', 'redmond', 'redneck', 'rednecks', 'redo', 'redownload', 'redraw', 'redrawing', 'redtube', 'reduce', 'reduction', 'redundancy', 'redundant', 'reel', 'reely', 'reemerge', 'reenable', 'ref', 'refactor', 'refactored', 'refactoring', 'refer', 'reference', 'referencesquot', 'referer', 'referrer', 'referrers', 'refill', 'refine', 'reflect', 'reflection', 'reflections', 'reflex', 'reflow', 'refocus', 'reform', 'reformat', 'reformatted', 'reformatting', 'refrain', 'refresh', 'refs', 'reftest', 'reftests', 'refund', 'refuse', 'refute', 'reg', 'regard', 'regardless', 'regedit', 'regen', 'regenerate', 'regenning', 'regex', 'regexes', 'regexp', 'regexps', 'regexs', 'regime', 'region', 'regional', 'regions', 'register', 'registercontenthandler', 'registerprotocolhandler', 'registration', 'registries', 'registry', 'regress', 'regression', 'regressions', 'regret', 'regular', 'regularly', 'regulars', 'rehab', 'rehash', 'reimplement', 'reimplemented', 'reinstall', 'reintroduce', 'reinvent', 'reiser', 'reiserfs', 'reisio', 'reject', 'rejoin', 'rel', 'relalternate', 'relate', 'relation', 'relations', 'relationship', 'relationships', 'relative', 'relatively', 'relatives', 'relax', 'relaxin', 'relaxng', 'relay', 'rele', 'release', 'releasequot', 'releng', 'relevance', 'relevant', 'reli', 'reliability', 'reliable', 'reliably', 'reliance', 'reliant', 'relic', 'relief', 'relieve', 'religion', 'religious', 'relly', 'relme', 'relnext', 'relnofollow', 'reload', 'relpingback', 'relquotalternatequot', 'relquotmequot', 'relquotquot', 'relquotshortcut', 'relquotstylesheetquot', 'relstylesheet', 'reltag', 'reluctant', 'rely', 'relz', 'rem', 'remain', 'remainder', 'remake', 'remap', 'remark', 'remarkably', 'rember', 'remeber', 'remedy', 'remember', 'remind', 'reminder', 'remix', 'remote', 'remotely', 'remount', 'removal', 'remove', 'removechild', 'removedquot', 'remy', 'rename', 'render', 'renderer', 'renew', 'reno', 'rent', 'rentacoder', 'rental', 'reop', 'reopen', 'reorder', 'reorganize', 'rep', 'repaint', 'repair', 'reparse', 'reparsing', 'repartition', 'repaste', 'repeat', 'repeatedly', 'repeater', 'repetition', 'rephrase', 'replace', 'replaceable', 'replacement', 'replacements', 'replacestate', 'replay', 'replicate', 'replication', 'reply', 'repo', 'repoman', 'report', 'reportedly', 'reporter', 'reporters', 'repos', 'repositories', 'repository', 'repost', 'reposting', 'represent', 'representation', 'representations', 'representative', 'representatives', 'repro', 'reproducable', 'reproduce', 'reproducible', 'reps', 'republic', 'republish', 'repurpose', 'repurposed', 'reputation', 'req', 'reqs', 'request', 'requestanimationframe', 'requestquot', 'requesturi', 'requiem', 'require', 'requiredgt', 'requiredquot', 'requirement', 'requirementquot', 'requirements', 'requirementsquot', 'requirments', 'reread', 'rerun', 'res', 'reschke', 'rescind', 'rescue', 'research', 'researchers', 'reseller', 'resemble', 'resend', 'resent', 'reservation', 'reserve', 'reset', 'reside', 'resident', 'resig', 'resist', 'resistance', 'resizable', 'resize', 'reso', 'resolution', 'resolutionquot', 'resolutions', 'resolv', 'resolve', 'resolver', 'reson', 'resort', 'resource', 'resources', 'respec', 'respect', 'respectable', 'respective', 'respectively', 'respond', 'response', 'responses', 'responsetext', 'responsetype', 'responsexml', 'responsibilities', 'responsibility', 'responsible', 'responsive', 'rest', 'restart', 'restate', 'restatement', 'restaurant', 'restaurants', 'restjson', 'restore', 'restrain', 'restrant', 'restrict', 'restriction', 'restrictions', 'restrictive', 'restroom', 'restructure', 'resubmit', 'result', 'resultsquot', 'resume', 'resurrect', 'resync', 'ret', 'retab', 'retail', 'retain', 'retard', 'retarted', 'retention', 'rethink', 'retire', 'retract', 'retransmit', 'retrieve', 'retroactively', 'retrospect', 'retry', 'return', 'returnquot', 'retweet', 'retweeted', 'reusable', 'reuse', 'rev', 'revamp', 'revdeprebuild', 'reveal', 'revenge', 'revenue', 'reverse', 'reverseengineering', 'revert', 'review', 'reviewer', 'reviewers', 'reviewquot', 'reviewsurkov', 'reviewtrev', 'revise', 'revision', 'revisions', 'revisit', 'revive', 'revoke', 'revolution', 'revolve', 'reward', 'reword', 'rework', 'rewrite', 'rewritecond', 'rewriteengine', 'rewriteguide', 'rewriterule', 'rex', 'rf', 'rfc', 'rfcquot', 'rfcs', 'rfid', 'rg', 'rgb', 'rgba', 'rh', 'rhalff', 'rhel', 'rhetoric', 'rhetorical', 'rhino', 'rhode', 'rhs', 'rhsivonen', 'rhyme', 'rhythm', 'ri', 'ria', 'riaa', 'rib', 'rice', 'ricer', 'rich', 'richard', 'richardlynch', 'richardp', 'richer', 'richlowe', 'rick', 'ricky', 'rico', 'riczho', 'rid', 'riddle', 'ride', 'ridge', 'ridicule', 'ridiculous', 'ridiculously', 'ridin', 'rifle', 'rig', 'righ', 'right', 'rightclick', 'rightclicking', 'righteous', 'rightly', 'rightnow', 'righto', 'rightquot', 'rightt', 'righty', 'rigid', 'rigorous', 'rigth', 'rihanna', 'riht', 'riiight', 'rik', 'rikkus', 'rim', 'rindolf', 'ring', 'rio', 'riot', 'rip', 'ripoff', 'risc', 'rise', 'risk', 'riskquot', 'risky', 'rit', 'rite', 'ritual', 'river', 'rivers', 'riverside', 'rizzo', 'rj', 'rl', 'rlly', 'rly', 'rm', 'rma', 'rman', 'rmeist', 'rms', 'rn', 'rnb', 'rnc', 'rng', 'rnt', 'ro', 'road', 'roadmap', 'roads', 'roam', 'roar', 'roast', 'rob', 'robbie', 'robe', 'robert', 'roberts', 'robin', 'robot', 'robots', 'robust', 'robw', 'roc', 'rock', 'rocket', 'rockin', 'rockstar', 'rocky', 'rod', 'rodrickbrown', 'rofl', 'roflmao', 'roger', 'rogers', 'rogue', 'rohit', 'roland', 'role', 'roleplay', 'roleplayer', 'rolepresentation', 'rolequotpresentationquot', 'rolequotquot', 'roles', 'roll', 'rollback', 'roller', 'rollin', 'rollover', 'rom', 'roman', 'romance', 'romania', 'romantic', 'rome', 'romeo', 'roms', 'ron', 'ronaldo', 'rong', 'roo', 'roof', 'room', 'roomate', 'roommate', 'root', 'rootaccess', 'rootlocalhost', 'rootquot', 'rope', 'ror', 'rorx', 'ros', 'rosa', 'rosbuild', 'roses', 'rosetta', 'rot', 'rotate', 'rotation', 'rotations', 'rotfl', 'rotten', 'rouge', 'rouget', 'rough', 'roughly', 'roulette', 'round', 'roundabout', 'roundtrip', 'roundtripping', 'rout', 'route', 'router', 'routerboard', 'routers', 'routine', 'routines', 'row', 'rowgroup', 'rox', 'roxy', 'roy', 'royal', 'royalties', 'royalty', 'royaltyfree', 'rp', 'rpc', 'rpg', 'rply', 'rpm', 'rpma', 'rpms', 'rquot', 'rr', 'rrr', 'rrsagent', 'rs', 'rsa', 'rss', 'rst', 'rsync', 'rt', 'rtc', 'rte', 'rtf', 'rtfm', 'rtfs', 'rtl', 'rts', 'ru', 'rub', 'rubber', 'rubbin', 'rubbish', 'ruben', 'ruby', 'rubys', 'rude', 'rug', 'rugby', 'ruin', 'rule', 'ruler', 'ruleset', 'rulesquot', 'rulez', 'rum', 'rumor', 'rumour', 'rump', 'run', 'runescape', 'runin', 'runlevel', 'runner', 'runnin', 'runningquot', 'runquot', 'runtests', 'runtime', 'runtimepath', 'rural', 'rus', 'rush', 'russell', 'russia', 'russian', 'russians', 'rust', 'rusty', 'rv', 'rvgate', 'rw', 'rx', 'ry', 'ryan', 'ryt', 'sa', 'saale', 'sab', 'sabbath', 'sabe', 'saber', 'sac', 'sachin', 'sack', 'sacrifice', 'sad', 'sadden', 'sadf', 'sadface', 'sadly', 'sadness', 'saf', 'safari', 'safaris', 'safe', 'safely', 'safer', 'safest', 'safety', 'sag', 'saga', 'sager', 'saggy', 'sai', 'sail', 'sailor', 'saint', 'sais', 'sake', 'sal', 'sala', 'salaam', 'salad', 'salah', 'salam', 'salary', 'sale', 'sales', 'sally', 'salmon', 'salt', 'salty', 'salut', 'salutations', 'salute', 'sam', 'sama', 'samantha', 'samb', 'samba', 'sambaldap', 'sambasamaccount', 'samee', 'sameorigin', 'sami', 'sammich', 'sammy', 'samo', 'samp', 'sample', 'sams', 'samsung', 'samuel', 'samurai', 'san', 'sana', 'sanabriamusic', 'sand', 'sandbox', 'sandboxed', 'sandboxgt', 'sandboxing', 'sandra', 'sandwich', 'sane', 'sanely', 'saner', 'sanitization', 'sanitize', 'sanitizer', 'sanity', 'sanna', 'sans', 'sansserif', 'santa', 'sao', 'sap', 'sara', 'sarah', 'sarahs', 'sarcasm', 'sarcastic', 'sare', 'sarge', 'sas', 'sasl', 'sass', 'sata', 'satan', 'satellite', 'saterday', 'satisfaction', 'satisfactory', 'satisfy', 'saturate', 'saturday', 'saturdays', 'sauce', 'saudi', 'saunders', 'saundersgmail', 'sausage', 'save', 'saver', 'savior', 'savvy', 'saw', 'sax', 'saxon', 'say', 'saya', 'sayd', 'sayin', 'sb', 'sbiniptables', 'sbs', 'sc', 'sca', 'scalable', 'scalar', 'scale', 'scam', 'scan', 'scandal', 'scandinavia', 'scanner', 'scanners', 'scar', 'scard', 'scare', 'scarface', 'scary', 'scatter', 'scenario', 'scenarios', 'scene', 'scenes', 'sceptical', 'sch', 'schedule', 'scheduler', 'schema', 'schemaorg', 'schemas', 'schematron', 'scheme', 'schemequot', 'schepers', 'schillix', 'schol', 'schon', 'school', 'schoolaposs', 'schoool', 'sci', 'science', 'scientific', 'scientists', 'scifi', 'scipt', 'scissor', 'scons', 'scool', 'scope', 'scoped', 'scopedgt', 'scopequot', 'scopes', 'scoping', 'score', 'scotch', 'scotia', 'scotland', 'scott', 'scottish', 'scour', 'scp', 'scramble', 'scrap', 'scrape', 'scratch', 'scream', 'screamin', 'screamo', 'screen', 'screencast', 'screenquot', 'screenreaders', 'screensaver', 'screenshot', 'screenshots', 'screw', 'screwdriver', 'screwy', 'scribe', 'scribenick', 'script', 'scriptaculous', 'scriptinserted', 'scriptquot', 'scroll', 'scrollable', 'scrollback', 'scrollbar', 'scrollbars', 'scrollintoview', 'scrotum', 'scrub', 'scsi', 'scum', 'sd', 'sda', 'sdf', 'sdg', 'sdk', 'sdl', 'sdram', 'se', 'sea', 'seach', 'seagate', 'seal', 'seam', 'seamless', 'seamonkey', 'sean', 'search', 'searchable', 'seas', 'season', 'seat', 'seattle', 'sebastian', 'sec', 'secks', 'second', 'secondary', 'secondly', 'secrecy', 'secret', 'secretary', 'secretly', 'secrets', 'secs', 'section', 'sectionquot', 'sector', 'sectors', 'secure', 'security', 'sed', 'seduce', 'see', 'seed', 'seee', 'seeeee', 'seein', 'seek', 'seekwill', 'seem', 'seemingly', 'seens', 'seeya', 'seg', 'sega', 'segfault', 'segfaults', 'segment', 'segmentation', 'sehr', 'sehttppastie', 'sei', 'sek', 'sekolah', 'selam', 'seldom', 'select', 'selectable', 'selectedindex', 'selection', 'selections', 'selective', 'selectively', 'selector', 'selectors', 'selena', 'self', 'selfclosing', 'selfcontained', 'selfdescribing', 'selfesteem', 'selfish', 'selfsigned', 'selinux', 'sell', 'sem', 'semantic', 'semantically', 'semantics', 'semanticsquot', 'semen', 'semester', 'semi', 'semicolon', 'semicolons', 'seminar', 'seminude', 'semitransparent', 'sempron', 'sems', 'semweb', 'sen', 'senao', 'sence', 'sencha', 'send', 'sender', 'sendin', 'sendmail', 'sengineland', 'seni', 'senior', 'sensation', 'sense', 'senseless', 'sensible', 'sensibly', 'sensitive', 'sensitivity', 'sensor', 'sensors', 'sentence', 'sentient', 'sentiment', 'seo', 'seoul', 'sep', 'separate', 'separately', 'separation', 'separator', 'separators', 'seperate', 'seperated', 'seperately', 'seperation', 'sept', 'september', 'sequel', 'sequence', 'sequential', 'sequentially', 'ser', 'serbia', 'serial', 'serialisation', 'serialise', 'serialiser', 'serialization', 'serializations', 'serialize', 'serializer', 'series', 'serif', 'serious', 'seriously', 'serius', 'serp', 'serps', 'serve', 'server', 'serveral', 'serveralias', 'servername', 'serverquot', 'servers', 'serversent', 'serverside', 'serversquot', 'servertokens', 'service', 'servlet', 'servlets', 'servus', 'session', 'sessions', 'sessionstart', 'sessionstorage', 'set', 'setattribute', 'setenv', 'seth', 'setinterval', 'setquot', 'setter', 'settimeout', 'settings', 'settingsquot', 'settle', 'settransform', 'setuid', 'setup', 'setups', 'seu', 'seven', 'sevenfold', 'seventeen', 'seventh', 'sever', 'several', 'severe', 'severely', 'severity', 'sew', 'sewer', 'sex', 'sexchat', 'sexi', 'sexier', 'sexiest', 'sexist', 'sext', 'sexting', 'sexual', 'sexuality', 'sexually', 'sexx', 'sexxy', 'sexy', 'sexyemilie', 'sexylisa', 'sexyy', 'sez', 'sf', 'sfd', 'sfor', 'sftp', 'sftpserver', 'sfw', 'sg', 'sgautherie', 'sgi', 'sgml', 'sgt', 'sh', 'sha', 'shaba', 'shade', 'shader', 'shaders', 'shadow', 'shadowblur', 'shadowcat', 'shady', 'shaft', 'shag', 'shaggy', 'shake', 'shakespeare', 'shakin', 'shaky', 'shal', 'shall', 'shallow', 'shalom', 'shalt', 'shame', 'shane', 'shanghai', 'shannon', 'shape', 'share', 'shark', 'sharkhat', 'sharp', 'sharpen', 'shatter', 'shave', 'shawn', 'sheaposll', 'sheaposs', 'shebang', 'shed', 'sheep', 'sheer', 'sheesh', 'sheet', 'shelby', 'shelf', 'shell', 'shelley', 'shelleys', 'shelly', 'shelter', 'shelve', 'shemale', 'shemales', 'shepard', 'shepazu', 'shepherd', 'sherlock', 'shes', 'shez', 'shh', 'shhh', 'shhhh', 'shi', 'shield', 'shift', 'shiftd', 'shiftf', 'shiftjis', 'shiftwidth', 'shim', 'shims', 'shin', 'shine', 'shinee', 'shinra', 'shiny', 'ship', 'shirakawasuna', 'shirt', 'shit', 'shite', 'shitload', 'shitquot', 'shitt', 'shitty', 'shity', 'shiv', 'shiver', 'shiz', 'sho', 'shock', 'shoe', 'shold', 'shoot', 'shooter', 'shop', 'shoppin', 'shore', 'short', 'shortage', 'shortcomings', 'shortcut', 'shortcuts', 'shorten', 'shorter', 'shortest', 'shorthand', 'shortish', 'shortly', 'shortname', 'shortterm', 'shortwave', 'shotgun', 'shots', 'shoud', 'shoudl', 'shoudlnt', 'shoudnt', 'shoul', 'shoulda', 'shouldaposve', 'shoulder', 'shouldnapost', 'shouldnt', 'shouldve', 'shout', 'shove', 'shovel', 'show', 'shower', 'showhide', 'showin', 'showstopper', 'shrimp', 'shrink', 'shrug', 'sht', 'shte', 'shtml', 'shtmla', 'shtmlhttpwww', 'shto', 'shud', 'shudder', 'shuffle', 'shuld', 'shun', 'shur', 'shure', 'shut', 'shutdown', 'shuttle', 'shutup', 'shy', 'shyt', 'si', 'siad', 'siapa', 'siberia', 'sibling', 'siblings', 'sic', 'sick', 'sickness', 'sicko', 'sid', 'side', 'sidebar', 'sidebars', 'sidebyside', 'sideeffect', 'sideeffects', 'sidequot', 'sideshowbarker', 'sidestep', 'sidetrack', 'sidewalk', 'sideways', 'sidney', 'sids', 'sie', 'sieg', 'siege', 'sif', 'sig', 'sigh', 'sight', 'sigkill', 'sigma', 'sign', 'signal', 'signature', 'signatures', 'significance', 'significant', 'significantly', 'signify', 'signin', 'signon', 'signup', 'sigsegv', 'sih', 'siimo', 'sil', 'silence', 'silent', 'silently', 'silentpyjamas', 'silicon', 'silk', 'sill', 'silliness', 'silly', 'silver', 'silverlight', 'silvia', 'sim', 'similar', 'similarity', 'similarly', 'similiar', 'simillar', 'simmilar', 'simon', 'simple', 'simpler', 'simplest', 'simplicity', 'simplification', 'simplify', 'simplistic', 'simply', 'simpsons', 'sims', 'simulate', 'simulation', 'simulations', 'simulator', 'simultaneous', 'simultaneously', 'sin', 'since', 'sincerely', 'sing', 'singapore', 'singer', 'singers', 'singh', 'single', 'singleline', 'singlepage', 'singleton', 'singpolyma', 'singular', 'sink', 'sip', 'sir', 'sire', 'sirj', 'sirs', 'sis', 'sissy', 'sista', 'sister', 'sisteraposs', 'sisters', 'sit', 'site', 'sitepoint', 'sitequot', 'sitewide', 'sith', 'sittin', 'situation', 'situations', 'sivonen', 'six', 'sixteen', 'sixth', 'size', 'sizegt', 'sizequot', 'sjamaan', 'sjones', 'sk', 'ska', 'skank', 'skate', 'skateboard', 'skater', 'skeleton', 'skeptical', 'sketch', 'sketchy', 'skew', 'skewl', 'ski', 'skia', 'skill', 'skilled', 'skills', 'skim', 'skin', 'sking', 'skinny', 'skip', 'skipgranttables', 'skirt', 'skool', 'skul', 'skull', 'skunky', 'sky', 'skynet', 'skype', 'sl', 'sla', 'slab', 'slack', 'slacker', 'slackers', 'slackware', 'slag', 'slam', 'slang', 'slap', 'slash', 'slashdot', 'slate', 'slaughter', 'slave', 'slavery', 'slay', 'slayer', 'slc', 'sled', 'sleep', 'sleepin', 'sleepover', 'sleepy', 'sleeve', 'sleeves', 'sles', 'sli', 'slice', 'slick', 'slide', 'slider', 'slideshare', 'slideshow', 'slight', 'slightest', 'slightly', 'slim', 'slimy', 'slip', 'slipknot', 'slippery', 'slit', 'slm', 'slog', 'slogan', 'slope', 'sloppy', 'slot', 'slovak', 'slovakia', 'slovenia', 'slow', 'slower', 'slowest', 'slowly', 'slowness', 'slowquot', 'slt', 'slug', 'sluggish', 'slurp', 'slut', 'sluts', 'slutty', 'sm', 'sma', 'smaba', 'smack', 'smae', 'small', 'smaller', 'smallest', 'smart', 'smartass', 'smarter', 'smartest', 'smarty', 'smash', 'smaug', 'smb', 'smbclient', 'smbd', 'smbfs', 'smbldap', 'smbldaptools', 'smbldapuseradd', 'smbmount', 'smbpasswd', 'smbstatus', 'smbtree', 'smc', 'smd', 'sme', 'smell', 'smelly', 'smellyhippy', 'smf', 'smfr', 'smil', 'smile', 'smiley', 'smileys', 'smilie', 'smirk', 'smite', 'smith', 'smiths', 'smoke', 'smokin', 'smooch', 'smooth', 'smoother', 'smoothly', 'smother', 'smp', 'smpatch', 'sms', 'smth', 'smthing', 'smtp', 'smuggle', 'sn', 'snack', 'snaderlb', 'snag', 'snake', 'snakeuk', 'snakker', 'snap', 'snappy', 'snapshot', 'snapshots', 'snarky', 'snat', 'snatch', 'sncn', 'snd', 'sndpcmoss', 'sneak', 'sneaky', 'sneek', 'sneex', 'sneeze', 'snicker', 'sniff', 'sniffer', 'snippet', 'snippets', 'snmp', 'snoop', 'snort', 'snot', 'snow', 'snowball', 'snowboard', 'snowy', 'snoyes', 'snuggle', 'snv', 'so', 'soak', 'soap', 'sob', 'sober', 'soc', 'socal', 'socalled', 'soccer', 'social', 'socially', 'society', 'sock', 'socket', 'sockets', 'sod', 'soda', 'soem', 'soemthing', 'sof', 'sofa', 'sofar', 'sofia', 'soft', 'softball', 'softer', 'softly', 'software', 'softwares', 'soi', 'sok', 'sol', 'solar', 'solaris', 'solder', 'soldier', 'sole', 'solely', 'solid', 'solidus', 'solitaire', 'solo', 'solution', 'solutionquot', 'solutions', 'solve', 'som', 'sombody', 'somebody', 'someday', 'somehow', 'somehting', 'somehwere', 'someone', 'someoneaposs', 'someones', 'someplace', 'somesuch', 'somethig', 'somethign', 'somethin', 'something', 'somethingquot', 'somethings', 'somethng', 'sometime', 'sometimes', 'someting', 'someway', 'somewere', 'somewhat', 'somewhere', 'somewheres', 'sommerfeld', 'somone', 'somthin', 'somthing', 'somtimes', 'somwhere', 'son', 'sone', 'song', 'songs', 'sons', 'sont', 'sony', 'soo', 'soon', 'sooner', 'soonish', 'sooo', 'soooo', 'sooooo', 'soooooo', 'sooooooo', 'soooooooo', 'soooooooooo', 'sooooooooooo', 'soory', 'sop', 'soph', 'sophie', 'sophisticate', 'sophomore', 'soppose', 'soquot', 'sore', 'sori', 'sorrow', 'sorrry', 'sorry', 'sorryi', 'sorryy', 'sort', 'sorta', 'sortof', 'sory', 'soryy', 'sos', 'soso', 'sotd', 'sou', 'soul', 'sould', 'souls', 'sound', 'soundcard', 'soundtrack', 'soup', 'sour', 'source', 'sourcecode', 'sourceforge', 'sourcequot', 'south', 'southern', 'southpark', 'southwest', 'soviet', 'sow', 'sowwy', 'sox', 'soy', 'soz', 'sp', 'spa', 'space', 'spacebar', 'spacequot', 'spacer', 'spaceseparated', 'spaceslinebreaks', 'spaghetti', 'spain', 'spam', 'spammed', 'spammer', 'spammers', 'spamming', 'spammy', 'span', 'spanish', 'spank', 'spar', 'sparc', 'sparcs', 'spare', 'spark', 'sparkle', 'sparql', 'sparse', 'sparta', 'spatial', 'spawn', 'spcomb', 'spdy', 'speak', 'speaker', 'speakers', 'spec', 'specced', 'speccing', 'specd', 'speced', 'specgen', 'special', 'specialcase', 'specialcasing', 'specialise', 'specialist', 'specialists', 'specialize', 'speciallogblock', 'speciallogdelete', 'specially', 'species', 'specific', 'specifically', 'specification', 'specificationquot', 'specifications', 'specificity', 'specificly', 'specifics', 'specifiedquot', 'specify', 'specing', 'specquot', 'specs', 'specsplitter', 'specsquot', 'spectacular', 'spectrum', 'speculate', 'speculation', 'speculative', 'specwise', 'speech', 'speed', 'speedstep', 'speedup', 'speedy', 'speek', 'spell', 'spellcheck', 'spellchecker', 'spellchecking', 'spencer', 'spend', 'sperm', 'spew', 'sphere', 'sphex', 'sphotos', 'spi', 'spice', 'spicy', 'spider', 'spiderman', 'spidermonkey', 'spiders', 'spiderworm', 'spike', 'spikelite', 'spill', 'spin', 'spine', 'spirit', 'spit', 'spite', 'spj', 'spl', 'splash', 'splendid', 'splice', 'split', 'splitted', 'splitter', 'spoil', 'spongebob', 'sponsor', 'sponsorship', 'spontaneously', 'spoof', 'spool', 'spoon', 'spoonfed', 'sporadic', 'sport', 'sporty', 'spose', 'sposed', 'spot', 'spotify', 'spotlight', 'sprain', 'spray', 'spread', 'spreadsheet', 'sprechen', 'spree', 'spring', 'sprinkle', 'sprint', 'sprintf', 'sprite', 'sprites', 'sprout', 'sps', 'spurious', 'sputnik', 'spy', 'spybot', 'spyderous', 'spyware', 'sq', 'sql', 'sqlgt', 'sqlite', 'sqlldr', 'sqlplus', 'sqlquot', 'squad', 'square', 'squarefree', 'squat', 'squeeze', 'squid', 'squiggly', 'squirrel', 'squirrels', 'squirt', 'squish', 'squot', 'sqweek', 'sr', 'src', 'srccompile', 'srcdoc', 'srcgt', 'srcquot', 'srcquotquot', 'srcquotquotgt', 'sri', 'srry', 'srs', 'srsly', 'srt', 'sry', 'ss', 'ssd', 'sse', 'ssh', 'sshd', 'ssi', 'ssid', 'ssl', 'sso', 'ssup', 'st', 'sta', 'stab', 'stability', 'stabilize', 'stable', 'stack', 'stackexchange', 'stackoverflow', 'staff', 'stag', 'stage', 'stagnate', 'stain', 'stairs', 'stake', 'stale', 'stalk', 'stalker', 'stall', 'stamp', 'stana', 'stance', 'stand', 'standalone', 'standard', 'standardisation', 'standardise', 'standardization', 'standardize', 'standardquot', 'standards', 'standardscompliant', 'standardsquot', 'standardssuck', 'standart', 'standby', 'standpoint', 'stane', 'stanford', 'stange', 'stanger', 'staple', 'star', 'starbucks', 'starcraft', 'stare', 'staroffice', 'start', 'startedquot', 'startend', 'starter', 'starters', 'startin', 'startle', 'startquot', 'startstop', 'starttime', 'startup', 'startx', 'starve', 'starvin', 'stash', 'stat', 'state', 'stateful', 'statement', 'statements', 'statequot', 'static', 'statically', 'station', 'statistic', 'statistical', 'statistically', 'statistics', 'statment', 'stats', 'status', 'statusfirefox', 'statusline', 'statusquot', 'stava', 'stave', 'stay', 'stayin', 'staz', 'stazhome', 'stazwork', 'std', 'stdin', 'stdlib', 'stdout', 'ste', 'stead', 'steadily', 'steady', 'steak', 'steal', 'steam', 'steel', 'steep', 'steer', 'steevlaptop', 'stefan', 'stellar', 'step', 'stepbystep', 'stepdad', 'steph', 'stephanie', 'stephen', 'stereo', 'stereotype', 'stereotypical', 'steve', 'stevef', 'stevefaulkner', 'stevel', 'steven', 'stew', 'stfu', 'sth', 'sthat', 'sthe', 'stick', 'sticker', 'stickers', 'sticky', 'stiff', 'stil', 'still', 'sting', 'stink', 'stinky', 'stir', 'stix', 'stl', 'stm', 'sto', 'stock', 'stockholm', 'stoke', 'stomach', 'stomp', 'stone', 'stonecypher', 'stonenewt', 'stoner', 'stoopid', 'stop', 'stoppropagation', 'stopquot', 'stor', 'storage', 'storages', 'store', 'stories', 'stork', 'storkme', 'storm', 'stormchaser', 'stormy', 'story', 'str', 'strace', 'straigh', 'straight', 'straighten', 'straightforward', 'strain', 'strait', 'strand', 'strange', 'strangely', 'stranger', 'strangers', 'strangest', 'strangle', 'strap', 'strapon', 'strategy', 'straw', 'strawberry', 'strawman', 'stray', 'stream', 'streamline', 'street', 'streets', 'strength', 'stress', 'stressful', 'stretch', 'streuner', 'stric', 'strict', 'stricter', 'strictly', 'strictquot', 'stright', 'strike', 'string', 'stringification', 'stringquot', 'strip', 'stripe', 'stripper', 'strippers', 'strive', 'stroke', 'strokestyle', 'strokin', 'strong', 'stronger', 'strongest', 'strongly', 'strreplace', 'struct', 'structural', 'structure', 'struggle', 'strut', 'stu', 'stuart', 'stub', 'stubborn', 'stud', 'student', 'students', 'studio', 'study', 'studyin', 'stuf', 'stuff', 'stuffquot', 'stumble', 'stump', 'stun', 'stunt', 'stupid', 'stupidest', 'stupidity', 'stupidly', 'stupids', 'style', 'stylecss', 'stylequot', 'stylequotquot', 'stylequotwidth', 'stylesheet', 'stylesheets', 'stylistic', 'su', 'sub', 'subclass', 'subclasses', 'subclassing', 'subdir', 'subdirectories', 'subdirs', 'subdivide', 'subdomain', 'subdomains', 'subject', 'subjective', 'sublime', 'submarine', 'submenu', 'submission', 'submissions', 'submissive', 'submit', 'submitdir', 'subnet', 'subnets', 'suboptimal', 'subpixel', 'subprocess', 'subprotocol', 'subqueries', 'subquery', 'subscribe', 'subscriber', 'subscribers', 'subscription', 'subscriptions', 'subsection', 'subsections', 'subselect', 'subsequent', 'subsequently', 'subset', 'subsets', 'subsetting', 'substance', 'substantial', 'substantially', 'substantive', 'substitute', 'substitution', 'substitutions', 'substring', 'subsurf', 'subsurfed', 'subsystem', 'subtitle', 'subtle', 'subtly', 'subtract', 'subtree', 'subtrees', 'subtype', 'suburbs', 'subversion', 'subway', 'succeed', 'succesfully', 'success', 'successful', 'successfull', 'successfully', 'successfullyquot', 'succession', 'successor', 'suck', 'sucka', 'sucker', 'suckers', 'suckin', 'sucksquot', 'sucky', 'sud', 'sudden', 'suddenly', 'sudo', 'sue', 'suexec', 'suffer', 'suffice', 'sufficient', 'sufficiently', 'suffix', 'sugar', 'suggest', 'suggestion', 'suggestions', 'sugoi', 'suicide', 'suis', 'suit', 'suitable', 'suite', 'suk', 'suka', 'suks', 'sul', 'sum', 'summaries', 'summarise', 'summarize', 'summary', 'summaryquotquot', 'summer', 'summin', 'summit', 'summon', 'sumo', 'sumone', 'sumthin', 'sumthing', 'sumtime', 'sumtimes', 'sumwhere', 'sun', 'sunday', 'sunfreeware', 'sunny', 'sunos', 'sunray', 'sunset', 'sunsets', 'sunshine', 'sunsolve', 'sunw', 'suo', 'suomesta', 'suomi', 'sup', 'super', 'superb', 'superbowl', 'supercede', 'superclass', 'superficial', 'superfluous', 'superior', 'superiority', 'superman', 'supermarket', 'supernatural', 'supersede', 'superset', 'supervisor', 'suport', 'supose', 'suposed', 'supp', 'supper', 'supplement', 'supply', 'support', 'supportedquot', 'supportive', 'supportquot', 'suppose', 'supposedly', 'suppp', 'suppress', 'supreme', 'suprise', 'suprised', 'suprising', 'sur', 'sure', 'suree', 'sureee', 'surely', 'surf', 'surface', 'surfer', 'surfin', 'surge', 'surgeon', 'surgery', 'surkov', 'surly', 'surname', 'surphaze', 'surprise', 'surprisee', 'surprisingly', 'surreal', 'surrogate', 'surrogates', 'surround', 'survey', 'survive', 'sus', 'susan', 'suse', 'susehelp', 'sushi', 'susie', 'suspect', 'suspend', 'suspense', 'suspicion', 'suspicious', 'sustain', 'suure', 'suv', 'suvx', 'sux', 'suxs', 'suxx', 'suzan', 'sv', 'svc', 'svcadm', 'svcs', 'svensk', 'svenska', 'sverige', 'svg', 'svginhtml', 'svgintexthtml', 'svgmathml', 'svgquot', 'svgs', 'svgwg', 'svideo', 'svm', 'svn', 'svnsvn', 'sw', 'swag', 'swagg', 'swallow', 'swamp', 'swap', 'sware', 'swarm', 'swat', 'swe', 'swear', 'sweat', 'sweater', 'sweatshirt', 'sweaty', 'sweden', 'swedes', 'swedish', 'sweeden', 'sweeet', 'sweep', 'sweet', 'sweetheart', 'sweetie', 'sweetness', 'sweets', 'sweety', 'swell', 'swente', 'swf', 'swfa', 'swift', 'swim', 'swimmin', 'swimrr', 'swing', 'swirl', 'swiss', 'switch', 'switcher', 'swith', 'switzerland', 'sword', 'swt', 'sx', 'sxcr', 'sxsw', 'sxy', 'sy', 'sybase', 'sydney', 'sylvain', 'sym', 'symantec', 'symbian', 'symbol', 'symbolic', 'symbols', 'symlink', 'symlinks', 'sympathy', 'symptoms', 'syn', 'synack', 'synaptic', 'sync', 'synchronization', 'synchronize', 'synchronous', 'synchronously', 'synd', 'syndication', 'syndrome', 'synergy', 'synonym', 'synonyms', 'syntactic', 'syntactically', 'syntax', 'syntaxerr', 'syntaxerror', 'syntaxes', 'syntaxquot', 'syntaxrelaxng', 'synthesize', 'synthetic', 'syria', 'syrup', 'sys', 'sysadmin', 'sysadmins', 'sysctl', 'sysdba', 'sysinternals', 'syslog', 'syslogng', 'sysreq', 'systeam', 'system', 'systematically', 'systemquot', 'systems', 'systemwide', 'systray', 'sytes', 'szilles', 'ta', 'tab', 'tabatkins', 'tabbed', 'tabbing', 'tabindex', 'table', 'tablecell', 'tableless', 'tablename', 'tablequot', 'tablespace', 'tablespaces', 'tablesquot', 'tablet', 'tablets', 'taboo', 'tabs', 'tabstop', 'tabular', 'tabulation', 'tack', 'tackle', 'taco', 'tacos', 'tactic', 'tad', 'tadpole', 'tae', 'tag', 'tagname', 'tagquot', 'tagsoup', 'tagsquot', 'tah', 'tahiti', 'taht', 'tahts', 'tail', 'tailor', 'taing', 'taint', 'taipei', 'taiwan', 'taiwanese', 'tak', 'taka', 'take', 'takers', 'takin', 'takk', 'takkaria', 'tal', 'tale', 'talent', 'talented', 'tales', 'talisman', 'talk', 'talkative', 'talkd', 'talkin', 'talkk', 'tall', 'taller', 'tallu', 'tally', 'talos', 'tam', 'tambem', 'tambien', 'tame', 'tamil', 'tamlin', 'tampa', 'tamper', 'tan', 'tang', 'tangentially', 'tangible', 'tangle', 'tango', 'tank', 'tanktop', 'tantek', 'tanteks', 'tap', 'tape', 'taq', 'tar', 'taras', 'tarball', 'tarballs', 'tard', 'target', 'targetgt', 'targetquot', 'targetquotblankquot', 'targetquotquot', 'targetted', 'targetting', 'tarzeau', 'tas', 'task', 'taskbar', 'taste', 'tasty', 'tat', 'tattoo', 'tau', 'taube', 'taubert', 'taunt', 'tax', 'taxi', 'taylor', 'tb', 'tbg', 'tbh', 'tbird', 'tbl', 'tbm', 'tbody', 'tbpl', 'tbray', 'tbsaunde', 'tbsaundeafk', 'tbscope', 'tc', 'tcl', 'tcp', 'tcpconnection', 'tcpdump', 'tcpip', 'tcpudp', 'tcs', 'td', 'tdb', 'tdbsam', 'tdd', 'tds', 'te', 'tea', 'teach', 'teacher', 'teachers', 'team', 'tear', 'tease', 'teaser', 'tech', 'techcrunch', 'techiner', 'technical', 'technically', 'technician', 'technique', 'techniques', 'techno', 'technologies', 'technology', 'technologyquot', 'technorati', 'techsalvager', 'ted', 'teddy', 'tedious', 'tee', 'teehee', 'teen', 'teenage', 'teenager', 'teenagers', 'teens', 'teeth', 'teh', 'tehe', 'tehn', 'tehre', 'tehy', 'tek', 'tel', 'telco', 'telcon', 'telcons', 'telecon', 'teleconference', 'telecons', 'telemetry', 'telephone', 'teleport', 'television', 'tell', 'tellin', 'telll', 'tellme', 'telnet', 'tem', 'temme', 'temp', 'temper', 'temperature', 'temperatures', 'template', 'templates', 'templating', 'temporal', 'temporarily', 'temporary', 'temps', 'tempt', 'temptation', 'ten', 'tend', 'tendency', 'tender', 'tengo', 'tenkawa', 'tennessee', 'tennis', 'tens', 'tense', 'tension', 'tent', 'tentative', 'tequila', 'ter', 'tera', 'tere', 'teri', 'term', 'terminal', 'terminals', 'terminate', 'termination', 'terminator', 'terminology', 'terminus', 'terrible', 'terribly', 'terrific', 'terrify', 'territory', 'terror', 'terrorist', 'terrorists', 'terry', 'terse', 'tessa', 'test', 'testable', 'testcase', 'testcases', 'tester', 'testers', 'testharness', 'testicles', 'testingunstable', 'testparm', 'testquot', 'testsquot', 'testsuite', 'testsuites', 'tetris', 'tex', 'texan', 'texas', 'text', 'textalign', 'textaligncenter', 'textarea', 'textareas', 'textbased', 'textbook', 'textbox', 'textboxes', 'textcontent', 'textdecoration', 'textedit', 'textfile', 'texthtml', 'texthtmlquot', 'texthtmlsandboxed', 'textindent', 'texting', 'textinput', 'textjavascript', 'textmate', 'textmetrics', 'textnode', 'textnodes', 'textplain', 'textquot', 'texts', 'textshadow', 'texttrack', 'textual', 'texture', 'textured', 'textures', 'texturing', 'textwidth', 'textxml', 'tf', 'tfkyle', 'tfoot', 'tftp', 'tg', 'tgz', 'th', 'tha', 'thaat', 'thai', 'thailand', 'thang', 'thank', 'thankaposs', 'thankful', 'thankfully', 'thanksd', 'thanksgiving', 'thanksquot', 'thankx', 'thankyou', 'thans', 'thansk', 'thanx', 'thar', 'thas', 'that', 'thata', 'thataos', 'thataposd', 'thataposll', 'thataposs', 'thatd', 'thatll', 'thatn', 'thatquot', 'thats', 'thatt', 'thatz', 'thax', 'thay', 'thead', 'theater', 'theatre', 'thedude', 'thee', 'theere', 'theft', 'theme', 'themquot', 'themself', 'thenn', 'theora', 'theoretical', 'theoretically', 'theory', 'ther', 'therapy', 'thereafter', 'thereaos', 'thereaposs', 'thereby', 'thered', 'theree', 'therefor', 'therefore', 'theregister', 'theregt', 'therein', 'therell', 'thereof', 'therequot', 'therer', 'therere', 'theres', 'therion', 'thermal', 'therre', 'thers', 'thes', 'thesis', 'thet', 'thewikies', 'theyaore', 'theyaposll', 'theyaposre', 'theyaposve', 'theyd', 'theyll', 'theyr', 'theyre', 'theyve', 'thi', 'thick', 'thicker', 'thickness', 'thief', 'thier', 'thigh', 'thighs', 'thik', 'thikn', 'thin', 'thine', 'thing', 'thingg', 'thingie', 'thingies', 'thingquot', 'things', 'thingsquot', 'thingy', 'think', 'thinkin', 'thinkpad', 'thinkpads', 'third', 'thirdparty', 'thirsty', 'thirteen', 'thirty', 'thisll', 'thisquot', 'thiss', 'thks', 'thn', 'thnk', 'thnks', 'thnx', 'thnxs', 'tho', 'thoght', 'thoguh', 'thomas', 'thomasloertsch', 'thompson', 'thong', 'thongs', 'thoo', 'thorough', 'thoroughly', 'thos', 'thot', 'thou', 'thoug', 'though', 'thougha', 'thoughts', 'thougt', 'thousand', 'thousands', 'thow', 'thr', 'thrash', 'thre', 'thread', 'threadquot', 'threadsafe', 'threat', 'threaten', 'three', 'threesome', 'threnody', 'threshold', 'thrice', 'thrill', 'throat', 'throb', 'throttle', 'throughout', 'throughput', 'throught', 'throuhg', 'throw', 'thru', 'thrust', 'ths', 'tht', 'thta', 'thts', 'thu', 'thug', 'thumb', 'thumbnail', 'thumbnails', 'thumper', 'thunder', 'thunderbird', 'thunk', 'thur', 'thurs', 'thursday', 'thus', 'thx', 'thxs', 'thy', 'ti', 'tia', 'tias', 'tick', 'ticket', 'tickle', 'ticklish', 'tid', 'tidy', 'tie', 'tiem', 'tiene', 'tienes', 'tierd', 'tietyt', 'tiff', 'tiger', 'tigerdirect', 'tigers', 'tight', 'tighten', 'tighter', 'tightly', 'til', 'tile', 'till', 'tilt', 'tim', 'timbl', 'time', 'timeconsuming', 'timeframe', 'timeless', 'timeline', 'timely', 'timeout', 'timeouts', 'timequot', 'timer', 'timers', 'timestamp', 'timestamps', 'timetable', 'timeupdate', 'timezone', 'timezones', 'timmeh', 'timmy', 'tin', 'tina', 'tinderbox', 'ting', 'tinggal', 'tink', 'tinker', 'tint', 'tinxxy', 'tiny', 'tinychat', 'tinyint', 'tinymce', 'tinypic', 'tinyurl', 'tip', 'tipsy', 'tircd', 'tire', 'tis', 'tissue', 'tit', 'titan', 'titanic', 'titanium', 'tities', 'title', 'titlebar', 'titlequot', 'titlequotquot', 'tits', 'titties', 'titts', 'titty', 'tj', 'tjej', 'tk', 'tks', 'tkup', 'tl', 'tlaking', 'tld', 'tldr', 'tlk', 'tlr', 'tls', 'tm', 'tmbg', 'tmi', 'tml', 'tmobile', 'tmp', 'tmpfs', 'tn', 'tns', 'tnsnames', 'tnt', 'tnx', 'toad', 'toally', 'toast', 'toaster', 'tobacco', 'tobe', 'toby', 'tobyink', 'toc', 'todataurl', 'today', 'todayquot', 'todays', 'todd', 'todestination', 'todo', 'todos', 'toe', 'tofrom', 'together', 'toggle', 'toh', 'tohla', 'toi', 'toilet', 'toint', 'tok', 'token', 'tokenisation', 'tokeniser', 'tokenisers', 'tokenization', 'tokenize', 'tokenizer', 'tokenquot', 'tokens', 'tokyo', 'tole', 'tolerance', 'tolerate', 'toll', 'tolowercase', 'tom', 'tomarrow', 'tomato', 'tomcat', 'tomcats', 'tomcatusers', 'tomm', 'tommorow', 'tommorrow', 'tommrow', 'tommroww', 'tommy', 'tomorow', 'tomorro', 'tomorrow', 'tomorrows', 'tomshardware', 'ton', 'tone', 'tongue', 'tonight', 'tonights', 'tonite', 'tonopah', 'tons', 'tony', 'toodles', 'tool', 'toolbar', 'toolbox', 'toolchain', 'toolkit', 'toolkits', 'toolquot', 'toolsquot', 'tooltip', 'tooltips', 'tooo', 'toooo', 'tooooo', 'toooooo', 'tooquot', 'tooth', 'toothbrush', 'top', 'topbottom', 'topic', 'topics', 'topless', 'toplevel', 'topmost', 'topology', 'toquot', 'tor', 'torch', 'tori', 'torment', 'toronto', 'torrent', 'torrents', 'tortoise', 'tortoisesvn', 'torture', 'torvalds', 'tos', 'toshiba', 'tosource', 'toss', 'tostring', 'tot', 'total', 'totally', 'totaly', 'totem', 'tou', 'touch', 'touche', 'touchin', 'touchpad', 'touchy', 'tough', 'tought', 'tounge', 'toungue', 'touqen', 'tour', 'tourism', 'tourist', 'tourists', 'tournament', 'tout', 'tova', 'towa', 'toward', 'towards', 'towel', 'tower', 'town', 'towns', 'toy', 'toyota', 'tp', 'tpac', 'tpenta', 'tpope', 'tquot', 'tr', 'trac', 'trace', 'traceback', 'tracer', 'traceroute', 'track', 'trackbot', 'tracker', 'trackerrequest', 'trackers', 'tracklist', 'traction', 'trade', 'trademark', 'tradeoff', 'tradeoffs', 'tradition', 'traditional', 'traditionally', 'traffic', 'tragic', 'trail', 'trailer', 'train', 'trainer', 'tralala', 'tranny', 'trans', 'transaction', 'transactions', 'transcript', 'transcripts', 'transexual', 'transfer', 'transferencoding', 'transform', 'transformation', 'transformations', 'transformer', 'transformers', 'transgender', 'transition', 'transitional', 'transitionalenquot', 'transitive', 'translatability', 'translate', 'translation', 'translations', 'translator', 'translators', 'transmission', 'transmit', 'transparency', 'transparent', 'transparently', 'transport', 'transvestite', 'trap', 'trappist', 'trash', 'travel', 'traversal', 'traverse', 'travis', 'trawl', 'tray', 'trbl', 'treasure', 'treat', 'treatin', 'treatment', 'treatnullasemptystring', 'tree', 'treebuilder', 'treequot', 'treeview', 'treewalker', 'trek', 'tremendous', 'trend', 'trendy', 'tres', 'trev', 'treval', 'tri', 'trial', 'triangle', 'triangles', 'trick', 'trickery', 'trickier', 'tricky', 'trident', 'triffidhunter', 'trigger', 'trim', 'tring', 'trip', 'triple', 'trippy', 'triskelios', 'tristate', 'triumph', 'trivia', 'trivial', 'trivially', 'trojan', 'troll', 'trollin', 'trolltech', 'trololol', 'trolololol', 'tropics', 'trouble', 'troubleshoot', 'troublesome', 'trough', 'trousers', 'trout', 'trqbva', 'trqbwa', 'trs', 'tru', 'trubble', 'truble', 'truck', 'true', 'truee', 'trueee', 'truely', 'truequot', 'truetype', 'truly', 'trump', 'trumpet', 'truncate', 'trunk', 'trunkbuild', 'trunking', 'trunks', 'trust', 'truth', 'truthful', 'truthfully', 'try', 'trygvis', 'tryin', 'tryna', 'tryng', 'tryserver', 'ts', 'tshirt', 'tshirts', 'tsk', 'tsunami', 'tt', 'ttf', 'tthat', 'ttl', 'tto', 'tts', 'ttus', 'ttuttle', 'tty', 'ttyl', 'ttys', 'tu', 'tua', 'tub', 'tube', 'tuck', 'tudo', 'tue', 'tues', 'tuesday', 'tuff', 'tug', 'tuh', 'tui', 'tuk', 'tum', 'tumblr', 'tumblrphotographyxox', 'tummy', 'tun', 'tune', 'tunisia', 'tunnel', 'tuple', 'tuples', 'turbo', 'turd', 'turin', 'turing', 'turk', 'turkey', 'turkish', 'turkiye', 'turkmusun', 'turn', 'turnin', 'turtle', 'tut', 'tutor', 'tutorial', 'tutorials', 'tutti', 'tux', 'tv', 'tva', 'tvs', 'tw', 'twas', 'twat', 'tweak', 'tweet', 'twelve', 'twenty', 'twey', 'twice', 'twiddle', 'twilight', 'twin', 'twincest', 'twinkle', 'twinview', 'twist', 'twit', 'twitch', 'twitt', 'twitter', 'twittr', 'twkm', 'two', 'twocolumn', 'twoway', 'twter', 'tx', 'txt', 'txta', 'txthttpwww', 'txtquot', 'ty', 'tyler', 'tym', 'typ', 'type', 'typecheckbox', 'typecolor', 'typedategt', 'typedef', 'typeemail', 'typeerror', 'typefile', 'typefilegt', 'typegt', 'typehidden', 'typehiddengt', 'typeimage', 'typemustmatch', 'typenumber', 'typenumbergt', 'typenumeric', 'typeof', 'typequot', 'typequotcheckboxquot', 'typequotdatequotgt', 'typequotfilequot', 'typequotimagequot', 'typequotnumberquot', 'typequotquot', 'typequotquotgt', 'typequotrangequot', 'typequotsearchquotgt', 'typequotsubmitquot', 'typequottextcssquot', 'typequottextcssquotgt', 'typequottextjavascriptquot', 'typequottextjavascriptquotgt', 'typequottextquot', 'typer', 'typerange', 'typesquot', 'typesubmit', 'typetext', 'typical', 'typically', 'typin', 'typo', 'typoed', 'typographic', 'typographical', 'typography', 'typoquot', 'typos', 'tyvm', 'tz', 'ua', 'uae', 'uai', 'uao', 'uapos', 'uaposd', 'uaposll', 'uaposr', 'uaposre', 'uaposve', 'uas', 'ub', 'uber', 'ubi', 'ubiquiti', 'ubiquitous', 'ubiquity', 'ubnt', 'ubuntu', 'ubuntunl', 'ubuntus', 'uc', 'ucla', 'ucs', 'ud', 'udah', 'udev', 'udom', 'udp', 'ue', 'uea', 'uei', 'ueii', 'ueo', 'uf', 'uff', 'ufffd', 'uffff', 'ufs', 'ug', 'ugh', 'ughh', 'ughhh', 'uglier', 'ugliness', 'ugly', 'ugt', 'uh', 'uhci', 'uhh', 'uhhh', 'uhhhh', 'uhhuh', 'uhm', 'uhmm', 'uhmmm', 'uhoh', 'uhuh', 'ui', 'uic', 'uid', 'uidgid', 'uie', 'uint', 'uio', 'uis', 'uit', 'uiuc', 'uj', 'uk', 'ukraine', 'ukwwwcentrea', 'ukwwwcentrehttpdorward', 'ul', 'ulimit', 'ull', 'ultimate', 'ultimately', 'ultra', 'ultrasparc', 'um', 'uma', 'umask', 'umbrella', 'umh', 'uml', 'umlauts', 'umm', 'ummm', 'ummmm', 'ummmmm', 'ummmmmmm', 'umount', 'umur', 'un', 'una', 'unable', 'unacceptable', 'unaffected', 'unambiguous', 'unambiguously', 'uname', 'unanimous', 'unattended', 'unattractive', 'unavailable', 'unavoidable', 'unaware', 'unbalance', 'unbelievable', 'unbelievably', 'unblock', 'unbutton', 'uncategorized', 'uncaught', 'uncertain', 'unchanged', 'uncheck', 'unchecked', 'uncle', 'unclear', 'uncles', 'unclosed', 'unco', 'uncomfortable', 'uncomment', 'uncommented', 'uncommon', 'uncompress', 'unconditionally', 'unconfirmed', 'uncontroversial', 'uncool', 'und', 'undead', 'undeclared', 'undefined', 'underage', 'underestimate', 'underground', 'underlie', 'underline', 'undermine', 'underneath', 'undernet', 'underpants', 'underscore', 'underspecified', 'understand', 'understandable', 'understatement', 'undertand', 'underwater', 'underwear', 'undesirable', 'undies', 'undo', 'undocumented', 'undomanager', 'undoredo', 'undoubtedly', 'undress', 'une', 'unemployed', 'unemployment', 'unencrypted', 'unescaped', 'unexpected', 'unexpectedly', 'unfair', 'unfamiliar', 'unfinished', 'unforgettable', 'unfortunate', 'unfortunately', 'unfortunatly', 'unfriendly', 'ungodly', 'unhandled', 'unhappy', 'unhealthy', 'unhelpful', 'unhide', 'unhook', 'uni', 'unicode', 'unicorn', 'unicorns', 'uniform', 'uniformity', 'uniformly', 'unify', 'unimaginable', 'unimplemented', 'unimportant', 'unimpressed', 'uninformed', 'uninitialized', 'uninstall', 'uninstalled', 'uninstalling', 'unintended', 'unintentional', 'unintentionally', 'uninteresting', 'unintuitive', 'union', 'uniq', 'unique', 'uniquely', 'uniqueness', 'unis', 'unit', 'unite', 'unitless', 'units', 'unity', 'univ', 'universal', 'universally', 'universe', 'universes', 'universities', 'university', 'unix', 'unixinfidel', 'unixlike', 'unjustified', 'unknown', 'unleash', 'unles', 'unless', 'unlike', 'unlikely', 'unlimited', 'unlink', 'unload', 'unlock', 'unlucky', 'unmanaged', 'unmask', 'unmet', 'unmodified', 'unmount', 'unmounted', 'unmute', 'unnamed', 'unnecessarily', 'unnecessary', 'unneeded', 'unofficial', 'unordered', 'unpack', 'unpaired', 'unparalleled', 'unpleasant', 'unplug', 'unpredictable', 'unprefixed', 'unproductive', 'unquoted', 'unreachable', 'unread', 'unreadable', 'unreal', 'unrealistic', 'unreasonable', 'unreasonably', 'unrecognised', 'unrecognized', 'unregistered', 'unrelated', 'unreliable', 'unresolved', 'unresponsive', 'unsafe', 'unsatisfied', 'unset', 'unsigned', 'unspecified', 'unstable', 'unsubscribe', 'unsuitable', 'unsupported', 'unsure', 'unsurprising', 'unsurprisingly', 'untar', 'untested', 'untill', 'untitled', 'unto', 'untrue', 'untrusted', 'unusable', 'unused', 'unusual', 'unusually', 'unversioned', 'unwanted', 'unwilling', 'unwind', 'unwise', 'unwrap', 'unwritten', 'unzip', 'uo', 'uoae', 'uoe', 'uoi', 'uoiio', 'uoo', 'uou', 'up', 'upcoming', 'update', 'updatequot', 'updater', 'updown', 'upfront', 'upgrade', 'uphill', 'upi', 'uplift', 'uplink', 'upload', 'uploader', 'upnp', 'upon', 'upp', 'upper', 'uppercase', 'uppercased', 'uppercasing', 'uppp', 'upquot', 'upright', 'upset', 'upside', 'upsidedown', 'upstairs', 'upstate', 'upstream', 'uptime', 'upto', 'uptodate', 'upwards', 'uquot', 'ur', 'uraposs', 'urban', 'urbandictionary', 'ure', 'urge', 'urgency', 'urgent', 'urgh', 'uri', 'urine', 'uriquot', 'uris', 'urisquot', 'url', 'urlquot', 'urls', 'urlsquot', 'urm', 'urns', 'urs', 'urself', 'urz', 'us', 'usa', 'usaa', 'usability', 'usable', 'usage', 'usages', 'usally', 'usascii', 'usb', 'usd', 'use', 'useable', 'usecase', 'usecases', 'usedquot', 'useful', 'usefull', 'usefully', 'usefulness', 'usefulquot', 'useless', 'usemap', 'usemapgt', 'usenet', 'usequot', 'user', 'useradd', 'useragent', 'userbase', 'userdefined', 'userdel', 'userdir', 'userfriendly', 'usergroup', 'userid', 'userjs', 'userland', 'usermode', 'username', 'usernamepassword', 'usernames', 'userpass', 'userpassword', 'userquot', 'users', 'userspace', 'usersquot', 'usertantektantek', 'usi', 'usimg', 'usin', 'usmy', 'usquot', 'usr', 'usrbin', 'usrlib', 'usrlocal', 'usrlocalapachelogserrorlog', 'usrsbin', 'usrsfw', 'usrsrclinux', 'ust', 'usual', 'usually', 'usualy', 'usurp', 'ut', 'utah', 'utc', 'utexas', 'utf', 'utfbe', 'utfle', 'utfquot', 'uthere', 'util', 'utilities', 'utility', 'utilize', 'utils', 'utopia', 'utorrent', 'utro', 'utter', 'utterly', 'uu', 'uua', 'uuh', 'uui', 'uuid', 'uuo', 'uuu', 'uuuh', 'uuuu', 'uuuuu', 'uuuuuu', 'uuuuuuuuu', 'uv', 'uve', 'uviz', 'ux', 'uy', 'va', 'vaca', 'vacation', 'vacuum', 'vad', 'vader', 'vaejor', 'vag', 'vagina', 'vaginal', 'vaginas', 'vague', 'vaguely', 'vagueness', 'vai', 'vain', 'val', 'valentine', 'valentines', 'valgrind', 'valid', 'validate', 'validation', 'validationquot', 'validator', 'validators', 'validity', 'validquot', 'valign', 'valley', 'valuable', 'value', 'valueasnumber', 'valueclasspattern', 'valueexcerptionpatternbrainstorming', 'valuegt', 'valuequot', 'valuequotquot', 'valuequotquotgt', 'valuesquot', 'valve', 'vampire', 'vampires', 'vampyre', 'van', 'vancouver', 'vandalism', 'vanessa', 'vanilla', 'vanish', 'vapier', 'var', 'varchar', 'variable', 'variableoffice', 'variables', 'variant', 'variants', 'variation', 'variations', 'variety', 'various', 'varlibmysql', 'varlogapacheerrorlog', 'varloghttpderrorlog', 'varnish', 'varrunmysqldmysqld', 'varrunmysqlmysql', 'vars', 'varsendaggr', 'varsity', 'varwww', 'vary', 'vas', 'vast', 'vastly', 'vb', 'vba', 'vbscript', 'vc', 'vcard', 'vcards', 'vcf', 'vcs', 'vd', 'vector', 'vectors', 'veer', 'vegas', 'vegetarian', 'vehicle', 'vein', 'veiw', 'velocity', 'vendor', 'vendors', 'vendorspecific', 'venezuela', 'venice', 'vent', 'venture', 'venue', 'venues', 'venus', 'ver', 'verb', 'verbatim', 'verbose', 'verbosity', 'verbs', 'verdana', 'verge', 'veri', 'verification', 'verify', 'veritas', 'verizon', 'vermillion', 'vermont', 'verry', 'vers', 'versa', 'verse', 'version', 'versioning', 'versionquot', 'versions', 'versus', 'vert', 'vertex', 'vertexes', 'vertical', 'verticalalign', 'vertically', 'vertices', 'verts', 'veryy', 'veryyy', 'vesa', 'vessel', 'vest', 'vet', 'veto', 'vevent', 'vfat', 'vfs', 'vg', 'vga', 'vh', 'vhost', 'vhosts', 'vi', 'via', 'viable', 'viagra', 'vibrate', 'vibrator', 'vice', 'viceversa', 'vicious', 'vick', 'victim', 'victor', 'victoria', 'victory', 'vid', 'video', 'videoaudio', 'videochat', 'videogames', 'videos', 'vids', 'vie', 'vienna', 'vietnam', 'vietnamese', 'view', 'viewable', 'viewer', 'viewers', 'viewpoint', 'viewport', 'viewquot', 'viimproved', 'viking', 'vikings', 'village', 'vim', 'vimdiff', 'vimgor', 'viminfo', 'vimquot', 'vimrc', 'vims', 'vimscript', 'vimtutor', 'vince', 'vincent', 'vinegar', 'vintage', 'violate', 'violation', 'violations', 'violence', 'violent', 'violet', 'violin', 'vip', 'viral', 'virgin', 'virginia', 'virginity', 'virgins', 'virtual', 'virtualbox', 'virtualenv', 'virtualhost', 'virtualhosts', 'virtualization', 'virtually', 'virtue', 'virus', 'virusdotnet', 'viruses', 'vis', 'visa', 'vise', 'visibility', 'visible', 'vision', 'visit', 'visitor', 'visitors', 'vista', 'visual', 'visualise', 'visualization', 'visualize', 'visually', 'vital', 'viva', 'vivo', 'vlad', 'vlan', 'vlans', 'vlc', 'vm', 'vml', 'vmm', 'vms', 'vmware', 'vn', 'vnc', 'vncserver', 'vo', 'vocab', 'vocabs', 'vocabularies', 'vocabulary', 'vocabularyquot', 'vocal', 'voce', 'vodafone', 'vodka', 'voice', 'voiceover', 'void', 'voila', 'voip', 'vol', 'volcano', 'vold', 'voldemort', 'volleyball', 'volt', 'voltage', 'voltages', 'volume', 'volumes', 'voluntarily', 'volunteer', 'vomit', 'von', 'voodoo', 'voor', 'vorbis', 'vote', 'votelinks', 'vouch', 'vous', 'vowel', 'vowels', 'voy', 'vp', 'vpn', 'vps', 'vreme', 'vrml', 'vry', 'vs', 'vse', 'vsftpd', 'vsichki', 'vspace', 'vt', 'vtt', 'vu', 'vulnerabilities', 'vulnerability', 'vulnerable', 'vv', 'vw', 'vxvm', 'vxworks', 'vz', 'wa', 'waaaay', 'waaay', 'waar', 'waarom', 'wach', 'wacha', 'wack', 'wacky', 'wad', 'waddup', 'wade', 'waf', 'waffle', 'wag', 'wage', 'wah', 'wahi', 'waht', 'wahts', 'wai', 'waiaria', 'waist', 'wait', 'waiter', 'waitin', 'waive', 'wake', 'waldo', 'wale', 'wales', 'walk', 'walkin', 'walkthrough', 'wall', 'wallet', 'wallpaper', 'walmart', 'walrus', 'walters', 'wam', 'wan', 'wana', 'wanan', 'wand', 'wander', 'wang', 'wank', 'wanker', 'wankers', 'wann', 'wannabe', 'wannna', 'wannt', 'want', 'wanta', 'wantd', 'wantin', 'wantquot', 'wap', 'wapp', 'war', 'warcraft', 'ward', 'ware', 'warez', 'warfare', 'warkin', 'warm', 'warmer', 'warn', 'warner', 'warp', 'warrant', 'warranty', 'warrior', 'warts', 'warum', 'wary', 'wash', 'washin', 'washington', 'wasnapost', 'wasnt', 'wasp', 'wass', 'wassap', 'wasssup', 'wassup', 'wast', 'waste', 'wasup', 'wat', 'wataposs', 'watch', 'watcha', 'watchin', 'wate', 'water', 'watermelon', 'waterproof', 'watever', 'watevr', 'wating', 'wats', 'watson', 'watsup', 'watt', 'watts', 'watz', 'wav', 'wave', 'wavelength', 'wavez', 'wavy', 'waw', 'wax', 'waxdragon', 'way', 'wayne', 'wayquot', 'ways', 'waysquot', 'waz', 'wazup', 'wazzup', 'wb', 'wbinfo', 'wbr', 'wbu', 'wbuu', 'wby', 'wc', 'wcag', 'wcs', 'wctest', 'wd', 'wds', 'weak', 'weaker', 'weakness', 'wealthy', 'weaore', 'weaove', 'weapon', 'weapons', 'weaposd', 'weaposll', 'weaposre', 'weaposve', 'wear', 'wearin', 'weasel', 'weather', 'web', 'webapi', 'webapp', 'webapps', 'webappstracker', 'webbased', 'webben', 'webbrowser', 'webbrowsers', 'webby', 'webcam', 'webcams', 'webchat', 'webcompatible', 'webdav', 'webdb', 'webdesign', 'webdev', 'webdeveloper', 'webdevout', 'webfont', 'webfonts', 'webforms', 'webgl', 'webhost', 'webidl', 'webinfclasses', 'webinflib', 'webkit', 'webkitbased', 'webkitdev', 'webkitquot', 'webkits', 'weblog', 'webm', 'webmail', 'webmaster', 'webmin', 'weborganics', 'webos', 'webp', 'webpage', 'webpages', 'webquot', 'webreq', 'webrtc', 'webserver', 'webservers', 'webservice', 'website', 'websitequot', 'websites', 'websocket', 'websockets', 'websql', 'websrt', 'webstandards', 'webstorage', 'webvtt', 'webworkers', 'wed', 'wedge', 'wednesday', 'wee', 'weed', 'weee', 'weeee', 'week', 'weekend', 'weekly', 'weeknd', 'weekquot', 'weeks', 'weep', 'weet', 'weezy', 'weg', 'wehn', 'wei', 'weigh', 'weight', 'weil', 'weird', 'weirder', 'weirdest', 'weirdly', 'weirdness', 'weirdo', 'weirdos', 'wel', 'welcome', 'welcomee', 'weld', 'well', 'wella', 'welldefined', 'wellformed', 'wellformedness', 'welli', 'wellknown', 'welll', 'wellll', 'wellquot', 'wellunderstood', 'welp', 'wen', 'wendy', 'wenn', 'wep', 'wer', 'werd', 'wered', 'werenapost', 'werent', 'wernt', 'wesley', 'west', 'western', 'wet', 'wether', 'wetness', 'wett', 'wetter', 'weve', 'wew', 'wf', 'wfm', 'wg', 'wget', 'wgquot', 'wgs', 'wh', 'wha', 'whaa', 'whaaa', 'whaaaa', 'whaaat', 'whaat', 'whack', 'whaddup', 'whale', 'whant', 'whare', 'whas', 'whassup', 'what', 'whata', 'whataos', 'whatapos', 'whataposd', 'whataposre', 'whataposs', 'whatcha', 'whatd', 'whatev', 'whateva', 'whatever', 'whatevers', 'whatevr', 'whatevs', 'whatgt', 'whatnot', 'whatre', 'whats', 'whatsoever', 'whatss', 'whatsup', 'whatt', 'whattf', 'whatup', 'whatwg', 'whatwgs', 'whatz', 'whay', 'whch', 'whcih', 'whe', 'whee', 'wheee', 'wheel', 'whenever', 'wheni', 'whens', 'wher', 'whereabouts', 'whereaposre', 'whereaposs', 'whereas', 'whereby', 'whered', 'whereever', 'whereis', 'wheres', 'wherever', 'whether', 'whew', 'whichever', 'whilst', 'whim', 'whine', 'whiny', 'whip', 'whirl', 'whiskey', 'whisper', 'whistle', 'whit', 'white', 'whiteboard', 'whitelist', 'whitelisted', 'whitelists', 'whitespace', 'whitespaceonly', 'whitespacequot', 'whitey', 'whith', 'whn', 'whoa', 'whoah', 'whoaposs', 'whod', 'whoever', 'whois', 'whole', 'wholesale', 'wholl', 'wholly', 'whomever', 'whoo', 'whoop', 'whore', 'whos', 'whose', 'whould', 'whove', 'whr', 'whre', 'wht', 'whta', 'whtaposs', 'whts', 'whut', 'whyaposd', 'whyaposs', 'whyd', 'whygt', 'whys', 'whyy', 'whyyy', 'wi', 'wiat', 'wic', 'wich', 'wicked', 'wid', 'wide', 'widely', 'widen', 'wider', 'widescreen', 'widespread', 'widget', 'widgets', 'widow', 'width', 'widthheight', 'widthpx', 'widthquot', 'widthquotquot', 'widths', 'wie', 'wierd', 'wif', 'wife', 'wifes', 'wifi', 'wig', 'wih', 'wiht', 'wii', 'wiil', 'wiki', 'wikibooks', 'wikimedia', 'wiking', 'wikipedia', 'wikipedias', 'wikis', 'wil', 'wild', 'wildcard', 'wildcards', 'wildly', 'wile', 'wilhelm', 'will', 'willful', 'william', 'williams', 'willingly', 'willl', 'willwerk', 'willy', 'wilson', 'win', 'winamp', 'winapi', 'winbind', 'wince', 'winchester', 'wind', 'winders', 'window', 'windowing', 'windows', 'windowsquot', 'windowsxp', 'windoze', 'windy', 'wine', 'winehq', 'winerror', 'winforms', 'wing', 'wink', 'winlogon', 'winner', 'winners', 'winnin', 'winter', 'winxp', 'wip', 'wipe', 'wir', 'wird', 'wire', 'wireframe', 'wireless', 'wireshark', 'wisconsin', 'wisdom', 'wise', 'wiser', 'wish', 'wishful', 'wisp', 'wisprouter', 'wit', 'witch', 'wite', 'witha', 'withcredentials', 'withdraw', 'within', 'withing', 'without', 'withquot', 'witht', 'witness', 'witout', 'witty', 'wiv', 'wizard', 'wizards', 'wk', 'wl', 'wlan', 'wll', 'wm', 'wma', 'wmp', 'wmv', 'wn', 'wna', 'wnat', 'wnet', 'wnna', 'wnt', 'wo', 'woa', 'woah', 'wobble', 'wobbly', 'woefully', 'woff', 'woh', 'wohoo', 'wold', 'wolf', 'wolfpaws', 'woman', 'womb', 'women', 'womens', 'wonaot', 'wonapost', 'wonder', 'wonderful', 'wonderfull', 'wonderfully', 'wonderin', 'wonderland', 'wong', 'wonknu', 'wonky', 'wonna', 'wont', 'wontfix', 'woo', 'wood', 'wooden', 'woods', 'woody', 'woof', 'wooh', 'woohoo', 'woon', 'wooo', 'woooo', 'wooooo', 'wooot', 'wooow', 'woop', 'woops', 'woosta', 'woot', 'woow', 'wooww', 'word', 'wordpress', 'wordquot', 'wordspacing', 'work', 'workable', 'workaround', 'workarounds', 'workbench', 'worker', 'workers', 'workflow', 'workgroup', 'workgroups', 'workign', 'workin', 'workload', 'workout', 'workquot', 'worksforme', 'workshop', 'workspace', 'worksquot', 'workstation', 'workstations', 'worl', 'world', 'worldcup', 'worldquot', 'worlds', 'worldwide', 'worm', 'worng', 'worrie', 'worry', 'worse', 'worship', 'worst', 'worth', 'worthless', 'worthwhile', 'worthy', 'wot', 'woth', 'wots', 'woud', 'woudl', 'woudlnt', 'woul', 'would', 'woulda', 'wouldaposve', 'wouldbe', 'wouldnaot', 'wouldnapost', 'wouldnt', 'wouldve', 'wouls', 'wout', 'wow', 'wowo', 'woww', 'wowww', 'woy', 'wp', 'wpa', 'wpasupplicant', 'wpf', 'wq', 'wr', 'wrangle', 'wrap', 'wrapper', 'wrappers', 'wre', 'wreck', 'wreme', 'wrench', 'wrestle', 'wright', 'wrinkle', 'wrist', 'wrists', 'writ', 'writable', 'write', 'writeable', 'writen', 'writer', 'writers', 'writeup', 'writin', 'writingmode', 'writting', 'wrok', 'wrong', 'wrongly', 'wrongquot', 'wrt', 'wrtg', 'wrtgs', 'wru', 'ws', 'wschools', 'wseek', 'wsp', 'wss', 'wt', 'wtf', 'wth', 'wtp', 'wts', 'wu', 'wud', 'wudnt', 'wuld', 'wuldnt', 'wuold', 'wus', 'wussup', 'wut', 'wutcha', 'wutever', 'wuts', 'wuu', 'wuz', 'wv', 'ww', 'wwdc', 'wwii', 'www', 'wwwarchive', 'wwwdom', 'wwwhtml', 'wwwstyle', 'wwwsvg', 'wwwtag', 'wx', 'wy', 'wycats', 'wysiwyg', 'wzup', 'xa', 'xalan', 'xampp', 'xanthir', 'xaposs', 'xauth', 'xavier', 'xb', 'xbitmtx', 'xbl', 'xbox', 'xc', 'xccxva', 'xchat', 'xcode', 'xd', 'xdd', 'xddd', 'xdm', 'xe', 'xen', 'xeon', 'xerces', 'xf', 'xfce', 'xff', 'xfn', 'xforms', 'xfree', 'xfs', 'xgb', 'xgc', 'xgl', 'xhmtl', 'xhr', 'xht', 'xhtml', 'xhtmlquot', 'xhtmlrdfa', 'xhtmls', 'xhtmlxml', 'xine', 'xinerama', 'xinitrc', 'xiph', 'xkcd', 'xl', 'xlc', 'xlink', 'xlinkhref', 'xlordt', 'xls', 'xmas', 'xmb', 'xmen', 'xml', 'xmla', 'xmlbase', 'xmldev', 'xmlhtml', 'xmlhttp', 'xmlhttprequest', 'xmlhttpwww', 'xmlid', 'xmllang', 'xmlns', 'xmlnshttpwww', 'xmlnsquot', 'xmlnsquothttpwww', 'xmlnsquotquot', 'xmlquot', 'xmlrpc', 'xmlspace', 'xmlstylesheet', 'xmlvalid', 'xmms', 'xmp', 'xmpp', 'xo', 'xod', 'xom', 'xor', 'xorg', 'xorgx', 'xorlev', 'xoxo', 'xp', 'xpath', 'xpathquot', 'xpathwg', 'xpcom', 'xpcshell', 'xps', 'xquot', 'xray', 'xref', 'xreffed', 'xrefs', 'xs', 'xsall', 'xsd', 'xserver', 'xserverxfree', 'xserverxorg', 'xset', 'xsl', 'xslfo', 'xslt', 'xsltprocessor', 'xsmurf', 'xss', 'xtech', 'xterm', 'xtraeme', 'xuacompatible', 'xul', 'xulrunner', 'xv', 'xvid', 'xvnc', 'xvr', 'xx', 'xxx', 'xxxx', 'xxxxx', 'xxxxxx', 'xy', 'xyz', 'xz', 'ya', 'yaa', 'yaaa', 'yaaaa', 'yaaaaaaaa', 'yaaay', 'yaah', 'yaar', 'yaay', 'yacc', 'yada', 'yaeh', 'yafray', 'yagi', 'yah', 'yaha', 'yahh', 'yahoo', 'yal', 'yall', 'yaloki', 'yamaraj', 'yaml', 'yammer', 'yan', 'yang', 'yango', 'yank', 'yap', 'yaposall', 'yar', 'yard', 'yards', 'yarrak', 'yas', 'yassine', 'yassinework', 'yast', 'yawn', 'yay', 'yaya', 'yayy', 'yayyy', 'yayyyy', 'yazzy', 'ycombinator', 'ye', 'yea', 'yeaa', 'yeaaa', 'yeaaaah', 'yeaaah', 'yeaah', 'yeaahh', 'yeaahhh', 'yeah', 'yeahh', 'yeahhh', 'yeahhhh', 'yeahhhhh', 'yeahi', 'yeap', 'year', 'yearold', 'years', 'yearsquot', 'yeas', 'yee', 'yeea', 'yeeaah', 'yeeah', 'yeee', 'yeeeah', 'yeees', 'yeep', 'yees', 'yeh', 'yeha', 'yehh', 'yell', 'yellin', 'yello', 'yellow', 'yep', 'yepp', 'yeppp', 'yepppp', 'yeps', 'yer', 'yerp', 'yerr', 'yers', 'yes', 'yesa', 'yesd', 'yesh', 'yesi', 'yesno', 'yesquot', 'yess', 'yessir', 'yesss', 'yessss', 'yesssss', 'yesssssss', 'yesterday', 'yesterdays', 'yesyes', 'yet', 'yetquot', 'yew', 'yey', 'yg', 'yh', 'yhh', 'yhu', 'yield', 'yikes', 'yip', 'yiu', 'yj', 'yknow', 'yl', 'ym', 'ymmv', 'yn', 'yo', 'yoast', 'yoda', 'yoga', 'yoiu', 'yoo', 'yooo', 'yoooooo', 'yoou', 'yor', 'york', 'yoru', 'you', 'youa', 'youaod', 'youaoll', 'youaore', 'youapos', 'youaposd', 'youaposll', 'youaposr', 'youaposre', 'youaposve', 'youd', 'youe', 'yougt', 'youi', 'youl', 'youll', 'young', 'younger', 'youngest', 'youporn', 'youquot', 'youraposs', 'youre', 'yourr', 'yous', 'yout', 'youth', 'youtube', 'youtubes', 'youu', 'youuu', 'youuuu', 'youuuuu', 'youve', 'youy', 'yoy', 'yoyo', 'yoyoyo', 'ypu', 'yql', 'yquot', 'yr', 'yrs', 'ys', 'ysod', 'yt', 'yu', 'yuck', 'yucky', 'yudai', 'yuh', 'yui', 'yuk', 'yukonbob', 'yum', 'yumm', 'yummm', 'yummmm', 'yummy', 'yung', 'yuo', 'yuor', 'yuou', 'yup', 'yupp', 'yuppers', 'yuppp', 'yur', 'yurs', 'yus', 'yuu', 'yw', 'yy', 'yyou', 'yyy', 'yyyymmdd', 'za', 'zach', 'zakim', 'zao', 'zap', 'zathrus', 'zaurus', 'zbrush', 'zcorpan', 'zcorpans', 'zdnet', 'zdr', 'zdrasti', 'ze', 'zealand', 'zeldman', 'zen', 'zend', 'zeppelin', 'zerc', 'zero', 'zerochaos', 'zeroflag', 'zeroquot', 'zerowidth', 'zewt', 'zfs', 'zhejiang', 'zijn', 'zillion', 'zillions', 'zindex', 'zing', 'zip', 'zipa', 'ziphttpwww', 'zipper', 'zircu', 'zit', 'zithowa', 'zmd', 'znam', 'zoe', 'zoffix', 'zombie', 'zombies', 'zomg', 'zone', 'zoom', 'zope', 'zou', 'zpool', 'zquot', 'zs', 'zsh', 'zu', 'zuchat', 'zup', 'zwsp', 'zypp', 'zz', 'zzz', 'zzzz']\n"
     ]
    }
   ],
   "source": [
    "print(DicC)"
   ]
  },
  {
   "cell_type": "code",
   "execution_count": 27,
   "metadata": {},
   "outputs": [
    {
     "name": "stdout",
     "output_type": "stream",
     "text": [
      "                       X_train: 10.4 GiB\n",
      "                documents_test:  1.3 MiB\n",
      "                      doc_test:  1.3 MiB\n",
      "                 Y_test_reduce:  1.2 MiB\n",
      "                        Y_test:  1.2 MiB\n",
      "               documents_train: 565.4 KiB\n",
      "                     doc_train: 565.4 KiB\n",
      "                       Y_train: 521.6 KiB\n",
      "                          DicC: 173.9 KiB\n",
      "                    stop_words:  8.2 KiB\n"
     ]
    }
   ],
   "source": [
    "for name, size in sorted(((name, sys.getsizeof(value)) for name, value in locals().items()),\n",
    "                         key= lambda x: -x[1])[:10]:\n",
    "    print(\"{:>30}: {:>8}\".format(name, sizeof_fmt(size))) "
   ]
  },
  {
   "cell_type": "code",
   "execution_count": 28,
   "metadata": {},
   "outputs": [],
   "source": [
    "#del vocabulary_python,v,vectorizer,X\n",
    "#gc.collect()"
   ]
  },
  {
   "cell_type": "code",
   "execution_count": 31,
   "metadata": {},
   "outputs": [
    {
     "name": "stdout",
     "output_type": "stream",
     "text": [
      "(154823, 20975)\n",
      "Time is:  7.341437578201294\n"
     ]
    }
   ],
   "source": [
    "start = time.time()\n",
    "#vectorizer = CountVectorizer(analyzer='char',vocabulary=DicC,dtype=np.int64,ngram_range=(word_gram, word_gram)) \n",
    "vectorizer = CountVectorizer(vocabulary=DicC,dtype=np.int64,strip_accents=\"ascii\") \n",
    "X = vectorizer.fit_transform(doc_test)\n",
    "print(X.shape)\n",
    "end = time.time()\n",
    "print(\"Time is: \",end - start)\n",
    "X_test = X.toarray()"
   ]
  },
  {
   "cell_type": "code",
   "execution_count": null,
   "metadata": {},
   "outputs": [],
   "source": [
    "\"\"\"\n",
    "cadena = [\" hi i am dani yet seem\"]\n",
    "vectorizer = CountVectorizer(vocabulary=DicC,dtype=np.int64,ngram_range=(word_gram, word_gram)) \n",
    "X = vectorizer.fit_transform(cadena)\n",
    "print(X)\n",
    "\"\"\""
   ]
  },
  {
   "cell_type": "code",
   "execution_count": null,
   "metadata": {},
   "outputs": [],
   "source": []
  },
  {
   "cell_type": "code",
   "execution_count": null,
   "metadata": {},
   "outputs": [],
   "source": []
  },
  {
   "cell_type": "code",
   "execution_count": null,
   "metadata": {},
   "outputs": [],
   "source": []
  },
  {
   "cell_type": "code",
   "execution_count": null,
   "metadata": {},
   "outputs": [],
   "source": []
  },
  {
   "cell_type": "code",
   "execution_count": null,
   "metadata": {},
   "outputs": [],
   "source": []
  },
  {
   "cell_type": "code",
   "execution_count": null,
   "metadata": {},
   "outputs": [],
   "source": []
  },
  {
   "cell_type": "code",
   "execution_count": null,
   "metadata": {},
   "outputs": [],
   "source": []
  },
  {
   "cell_type": "code",
   "execution_count": null,
   "metadata": {},
   "outputs": [],
   "source": [
    "for name, size in sorted(((name, sys.getsizeof(value)) for name, value in locals().items()),\n",
    "                         key= lambda x: -x[1])[:10]:\n",
    "    print(\"{:>30}: {:>8}\".format(name, sizeof_fmt(size))) "
   ]
  },
  {
   "cell_type": "code",
   "execution_count": null,
   "metadata": {},
   "outputs": [],
   "source": [
    "#del documents_train,documents_test\n",
    "#gc.collect()"
   ]
  },
  {
   "cell_type": "code",
   "execution_count": 32,
   "metadata": {},
   "outputs": [],
   "source": [
    "def sklearn_mesures(Y_pred,Y_test,mesure):\n",
    "    a  = accuracy_score(Y_test, Y_pred, normalize=True)\n",
    "    p  = precision_score(Y_test, Y_pred , average=mesure)\n",
    "    r  = recall_score(Y_test, Y_pred , average=mesure)\n",
    "    f1_c1 = f1_score(Y_test, Y_pred , average=mesure,pos_label=0)\n",
    "    f1_c2 = f1_score(Y_test, Y_pred , average=mesure,pos_label=1)\n",
    "    return [f1_c1,f1_c2]#[a,p,r,f1_c1,f1_c2]\n",
    "\n"
   ]
  },
  {
   "cell_type": "code",
   "execution_count": 33,
   "metadata": {},
   "outputs": [],
   "source": [
    "def f1_matlab(predict,true,c):\n",
    "    # This function outputs the F1 per class , this from Matlab\n",
    "    erx = np.sign(predict) - np.sign(true)\n",
    "    ofc = np.argwhere(np.sign(true)==c) \n",
    "    pfc = np.argwhere(np.sign(predict)==c)\n",
    "\n",
    "    p = (len(np.argwhere(erx[pfc]==0))/len(pfc))\n",
    "    r = (len(np.argwhere(erx[ofc]==0))/len(ofc))\n",
    "    \n",
    "    tmp = (r + p)\n",
    "\n",
    "    f = ((2 * p * r) / tmp) * 100\n",
    "    return [f]"
   ]
  },
  {
   "cell_type": "code",
   "execution_count": 34,
   "metadata": {},
   "outputs": [],
   "source": [
    "# Making the predicction, and setting threshold to 0.5\n",
    "def predicction(Y_pred, Y_test):\n",
    "    Y_pred_bool = []\n",
    "    Y_pred = np.where(Y_pred > 0.5, 1, 0) \n",
    "    for i in Y_pred:\n",
    "        Y_pred_bool.append(i[0]) \n",
    "    Y_pred_bool = np.asarray(Y_pred_bool) \n",
    "\n",
    "    non_predadors  = 0\n",
    "    predadors      = 0\n",
    "    for v in Y_pred_bool:\n",
    "        if v == 0:\n",
    "            non_predadors += 1\n",
    "        else:\n",
    "            predadors += 1\n",
    "        \n",
    "    if (non_predadors == 0 or predadors == 0):\n",
    "        print(\"Empty Label!!!\")\n",
    "        print(\"Predicctions with sklearn\")\n",
    "        print(sklearn_mesures(Y_pred,Y_test,\"binary\"))\n",
    "        return [1,0]\n",
    "    else:\n",
    "        \n",
    "        # Predictions con sklearn mesures and matlab function\n",
    "        c1_f1 = f1_matlab(Y_pred_bool,Y_test,0)\n",
    "        c2_f1 = f1_matlab(Y_pred_bool,Y_test,1)\n",
    "        print(\"Predicctions with sklearn\")\n",
    "        print(sklearn_mesures(Y_pred,Y_test,\"binary\"))\n",
    "        print(\"Predicctions with Matlab\")\n",
    "        print(c1_f1,\" \",c2_f1)\n",
    "        print(\"Confusion Matrix\")\n",
    "        print(confusion_matrix(Y_pred_bool, Y_test))\n",
    "    return [c1_f1[0],c2_f1[0]]"
   ]
  },
  {
   "cell_type": "code",
   "execution_count": null,
   "metadata": {},
   "outputs": [],
   "source": []
  },
  {
   "cell_type": "code",
   "execution_count": 35,
   "metadata": {},
   "outputs": [],
   "source": [
    "def csa (X,Y):\n",
    "    num_docs = X.shape[0] # number of trainning docs\n",
    "    num_terms = X.shape[1]# number of termos\n",
    "    num_class = 2\n",
    "    TR = np.zeros((num_terms, num_class))\n",
    "    DL = np.sum(X, axis=1) # sum each elemet row, wich is each df element of a document\n",
    "    DL[DL <1 ] = 1 # Those documents with not terms in dicc, are empty . We put one for avoid div / 0.\n",
    "    \n",
    "   \n",
    "    # Non - Normalization 0'\n",
    "    for j in range (0,num_class): # j = [0;1]\n",
    "        docs = np.where(Y == j)[0] \n",
    "        for i in range(0,num_terms):\n",
    "            tf_v = X[docs,i] # tf_v is tern frecuency of each term\n",
    "            TR[i][j] = sum(np.log2(1 + tf_v / DL [docs]))        \n",
    "            \n",
    "            if np.isnan(TR[i][j]):\n",
    "                TR[i][j] = 0\n",
    "    #TR = np.nan_to_num(TR)\n",
    "    print(\"PRB: (\",TR.shape[0],\",\",TR.shape[1],\")\")\n",
    "\n",
    "    # Normalization 1' Sum all the weights vectors \n",
    "    n1 = np.sum(TR, axis = 0) #Sum by colum\n",
    "    n1[n1 < 1] = 1\n",
    "    Tik = TR / n1\n",
    "    #Tik = np.nan_to_num(Tik)\n",
    "\n",
    "    # Normalization 2' Each componet of tik [ti1,ti2]/ [ti1+ti2;ti1+ti2]\n",
    "    for i in range(0,num_terms):\n",
    "        suma = sum(Tik[i])\n",
    "        if suma == 0:\n",
    "            suma = 1\n",
    "        Tik[i] = Tik[i] / suma # Tik[i] = Tik[i] / sum(TR[i])\n",
    "\n",
    "    print(\"Tik: (\",Tik.shape[0],\",\",Tik.shape[1],\")\")\n",
    "    \n",
    "    # Document Representation\n",
    "    DR = np.zeros((num_docs, num_class))\n",
    "    for i in range(0,num_docs):\n",
    "        termos = np.where(X[i] != 0)[0] # extrac idxs =! 0\n",
    "        a = X[i][termos] / DL[i]# acces idxs content / len\n",
    "        a = np.expand_dims(a, axis=1)\n",
    "        DR[i] = sum(np.multiply(a,Tik[termos])) # alpha (a)* tik; alpha is the df of each term\n",
    "    # Some of then are empy sentence_vectors[i]  examp 8825 \"Nadie se salva de la regla 34 xd\"    return Tik\n",
    "    \n",
    "    \n",
    "\n",
    "    return DR,Tik"
   ]
  },
  {
   "cell_type": "code",
   "execution_count": 36,
   "metadata": {},
   "outputs": [
    {
     "name": "stdout",
     "output_type": "stream",
     "text": [
      "PRB: ( 20975 , 2 )\n",
      "Tik: ( 20975 , 2 )\n",
      "DR: ( 66753 , 2 )\n",
      "Time:  393.4167182445526\n"
     ]
    }
   ],
   "source": [
    "start = time.time()\n",
    "DR,Tik = csa (X_train,Y_train)\n",
    "end = time.time()\n",
    "print(\"DR: (\",DR.shape[0],\",\",DR.shape[1],\")\")\n",
    "print(\"Time: \",end-start)"
   ]
  },
  {
   "cell_type": "code",
   "execution_count": 37,
   "metadata": {},
   "outputs": [],
   "source": [
    "def csa_test (XT,Tik): \n",
    "    # Document Test Representation\n",
    "    num_class = 2\n",
    "    DLT = np.sum(XT, axis=1)\n",
    "    DLT[DLT <1 ] = 1\n",
    "    num_docs = XT.shape[0]\n",
    "    DRT = np.zeros((num_docs, num_class))\n",
    "    for i in range(0,num_docs):\n",
    "        termos = np.where(XT[i] != 0)[0] # extrac idxs =! 0\n",
    "        a = XT[i][termos] / DLT[i]# acces idxs content / len\n",
    "        a = np.expand_dims(a, axis=1)\n",
    "        DRT[i] = sum(np.multiply(a,Tik[termos]))\n",
    "    return DRT"
   ]
  },
  {
   "cell_type": "code",
   "execution_count": 38,
   "metadata": {},
   "outputs": [
    {
     "name": "stdout",
     "output_type": "stream",
     "text": [
      "DRT: ( 154823 , 2 )\n",
      "Time:  14.989444732666016\n"
     ]
    }
   ],
   "source": [
    "start = time.time()\n",
    "DRT = csa_test (X_test,Tik)\n",
    "end = time.time()\n",
    "print(\"DRT: (\",DRT.shape[0],\",\",DRT.shape[1],\")\")\n",
    "print(\"Time: \",end-start)"
   ]
  },
  {
   "cell_type": "code",
   "execution_count": null,
   "metadata": {},
   "outputs": [],
   "source": []
  },
  {
   "cell_type": "code",
   "execution_count": null,
   "metadata": {},
   "outputs": [],
   "source": [
    "for name, size in sorted(((name, sys.getsizeof(value)) for name, value in locals().items()),\n",
    "                         key= lambda x: -x[1])[:10]:\n",
    "    print(\"{:>30}: {:>8}\".format(name, sizeof_fmt(size))) "
   ]
  },
  {
   "cell_type": "code",
   "execution_count": null,
   "metadata": {},
   "outputs": [],
   "source": [
    "del X_train,X_test\n",
    "gc.collect()"
   ]
  },
  {
   "cell_type": "code",
   "execution_count": null,
   "metadata": {},
   "outputs": [],
   "source": [
    "del model\n",
    "gc.collect()\n",
    "K.clear_session()"
   ]
  },
  {
   "cell_type": "code",
   "execution_count": 39,
   "metadata": {},
   "outputs": [],
   "source": [
    "from keras.layers import Dense, Dropout, Embedding, LSTM, Bidirectional"
   ]
  },
  {
   "cell_type": "code",
   "execution_count": 40,
   "metadata": {},
   "outputs": [
    {
     "name": "stdout",
     "output_type": "stream",
     "text": [
      "WARNING:tensorflow:From /home/daniela/anaconda3/envs/Predador/lib/python3.6/site-packages/keras/backend/tensorflow_backend.py:74: The name tf.get_default_graph is deprecated. Please use tf.compat.v1.get_default_graph instead.\n",
      "\n",
      "WARNING:tensorflow:From /home/daniela/anaconda3/envs/Predador/lib/python3.6/site-packages/keras/backend/tensorflow_backend.py:517: The name tf.placeholder is deprecated. Please use tf.compat.v1.placeholder instead.\n",
      "\n",
      "WARNING:tensorflow:From /home/daniela/anaconda3/envs/Predador/lib/python3.6/site-packages/keras/backend/tensorflow_backend.py:4138: The name tf.random_uniform is deprecated. Please use tf.random.uniform instead.\n",
      "\n"
     ]
    }
   ],
   "source": [
    "#Create NN model\n",
    "num_class = 2\n",
    "model = Sequential()\n",
    "model.add(LSTM(256, input_shape=(num_class, 1)))\n",
    "#model.add(Bidirectional(LSTM(64, input_shape=(num_class, 1))))\n",
    "model.add(Dense(1, activation='sigmoid'))\n",
    "#print(model.summary())"
   ]
  },
  {
   "cell_type": "code",
   "execution_count": 41,
   "metadata": {},
   "outputs": [
    {
     "name": "stdout",
     "output_type": "stream",
     "text": [
      "WARNING:tensorflow:From /home/daniela/anaconda3/envs/Predador/lib/python3.6/site-packages/keras/optimizers.py:790: The name tf.train.Optimizer is deprecated. Please use tf.compat.v1.train.Optimizer instead.\n",
      "\n",
      "WARNING:tensorflow:From /home/daniela/anaconda3/envs/Predador/lib/python3.6/site-packages/keras/backend/tensorflow_backend.py:3376: The name tf.log is deprecated. Please use tf.math.log instead.\n",
      "\n",
      "WARNING:tensorflow:From /home/daniela/anaconda3/envs/Predador/lib/python3.6/site-packages/tensorflow_core/python/ops/nn_impl.py:183: where (from tensorflow.python.ops.array_ops) is deprecated and will be removed in a future version.\n",
      "Instructions for updating:\n",
      "Use tf.where in 2.0, which has the same broadcast rule as np.where\n"
     ]
    }
   ],
   "source": [
    "#opt = keras.optimizers.Adam(lr=0.001, beta_1=0.9, beta_2=0.999, amsgrad=False,decay=1e-14)#adam(decay=1e-14)\n",
    "opt = keras.optimizers.Adam(decay=1e-14)#adam(decay=1e-14)\n",
    "#opt = keras.optimizers.SGD(decay=1e-14)\n",
    "model.compile(loss='binary_crossentropy', optimizer=opt, metrics=['accuracy'])\n",
    "\n"
   ]
  },
  {
   "cell_type": "code",
   "execution_count": 42,
   "metadata": {},
   "outputs": [
    {
     "name": "stdout",
     "output_type": "stream",
     "text": [
      "WARNING:tensorflow:From /home/daniela/anaconda3/envs/Predador/lib/python3.6/site-packages/keras/backend/tensorflow_backend.py:986: The name tf.assign_add is deprecated. Please use tf.compat.v1.assign_add instead.\n",
      "\n",
      "WARNING:tensorflow:From /home/daniela/anaconda3/envs/Predador/lib/python3.6/site-packages/keras/backend/tensorflow_backend.py:973: The name tf.assign is deprecated. Please use tf.compat.v1.assign instead.\n",
      "\n",
      "WARNING:tensorflow:From /home/daniela/anaconda3/envs/Predador/lib/python3.6/site-packages/keras/backend/tensorflow_backend.py:2741: The name tf.Session is deprecated. Please use tf.compat.v1.Session instead.\n",
      "\n",
      "Train on 66753 samples, validate on 154823 samples\n",
      "Epoch 1/30\n",
      "WARNING:tensorflow:From /home/daniela/anaconda3/envs/Predador/lib/python3.6/site-packages/keras/backend/tensorflow_backend.py:174: The name tf.get_default_session is deprecated. Please use tf.compat.v1.get_default_session instead.\n",
      "\n",
      "WARNING:tensorflow:From /home/daniela/anaconda3/envs/Predador/lib/python3.6/site-packages/keras/backend/tensorflow_backend.py:181: The name tf.ConfigProto is deprecated. Please use tf.compat.v1.ConfigProto instead.\n",
      "\n",
      "WARNING:tensorflow:From /home/daniela/anaconda3/envs/Predador/lib/python3.6/site-packages/keras/backend/tensorflow_backend.py:190: The name tf.global_variables is deprecated. Please use tf.compat.v1.global_variables instead.\n",
      "\n",
      "WARNING:tensorflow:From /home/daniela/anaconda3/envs/Predador/lib/python3.6/site-packages/keras/backend/tensorflow_backend.py:199: The name tf.is_variable_initialized is deprecated. Please use tf.compat.v1.is_variable_initialized instead.\n",
      "\n",
      "WARNING:tensorflow:From /home/daniela/anaconda3/envs/Predador/lib/python3.6/site-packages/keras/backend/tensorflow_backend.py:206: The name tf.variables_initializer is deprecated. Please use tf.compat.v1.variables_initializer instead.\n",
      "\n",
      "66753/66753 [==============================] - 123s 2ms/step - loss: 0.0525 - acc: 0.9800 - val_loss: 0.0498 - val_acc: 0.9810\n",
      "Epoch 2/30\n",
      "66753/66753 [==============================] - 119s 2ms/step - loss: 0.0434 - acc: 0.9831 - val_loss: 0.0538 - val_acc: 0.9806\n",
      "Epoch 3/30\n",
      "66753/66753 [==============================] - 123s 2ms/step - loss: 0.0433 - acc: 0.9834 - val_loss: 0.0503 - val_acc: 0.9805\n",
      "Epoch 4/30\n",
      "66753/66753 [==============================] - 126s 2ms/step - loss: 0.0431 - acc: 0.9831 - val_loss: 0.0491 - val_acc: 0.9810\n",
      "Epoch 5/30\n",
      "66753/66753 [==============================] - 123s 2ms/step - loss: 0.0431 - acc: 0.9832 - val_loss: 0.0503 - val_acc: 0.9813\n",
      "Epoch 6/30\n",
      "66753/66753 [==============================] - 123s 2ms/step - loss: 0.0430 - acc: 0.9833 - val_loss: 0.0479 - val_acc: 0.9822\n",
      "Epoch 7/30\n",
      "66753/66753 [==============================] - 125s 2ms/step - loss: 0.0429 - acc: 0.9832 - val_loss: 0.0507 - val_acc: 0.9815\n",
      "Epoch 8/30\n",
      "66753/66753 [==============================] - 123s 2ms/step - loss: 0.0430 - acc: 0.9832 - val_loss: 0.0487 - val_acc: 0.9817\n",
      "Epoch 9/30\n",
      "66753/66753 [==============================] - 122s 2ms/step - loss: 0.0429 - acc: 0.9832 - val_loss: 0.0495 - val_acc: 0.9818\n",
      "Epoch 10/30\n",
      "66753/66753 [==============================] - 91s 1ms/step - loss: 0.0429 - acc: 0.9834 - val_loss: 0.0504 - val_acc: 0.9814\n",
      "Epoch 11/30\n",
      "66753/66753 [==============================] - 73s 1ms/step - loss: 0.0429 - acc: 0.9833 - val_loss: 0.0480 - val_acc: 0.9815\n",
      "Epoch 12/30\n",
      "66753/66753 [==============================] - 73s 1ms/step - loss: 0.0428 - acc: 0.9834 - val_loss: 0.0489 - val_acc: 0.9816\n",
      "Epoch 13/30\n",
      "66753/66753 [==============================] - 73s 1ms/step - loss: 0.0428 - acc: 0.9835 - val_loss: 0.0482 - val_acc: 0.9815\n",
      "Epoch 14/30\n",
      "66753/66753 [==============================] - 73s 1ms/step - loss: 0.0428 - acc: 0.9837 - val_loss: 0.0489 - val_acc: 0.9815\n",
      "Epoch 15/30\n",
      "66753/66753 [==============================] - 73s 1ms/step - loss: 0.0426 - acc: 0.9836 - val_loss: 0.0504 - val_acc: 0.9813\n",
      "Epoch 16/30\n",
      "66753/66753 [==============================] - 73s 1ms/step - loss: 0.0427 - acc: 0.9836 - val_loss: 0.0488 - val_acc: 0.9809\n",
      "Epoch 17/30\n",
      "66753/66753 [==============================] - 74s 1ms/step - loss: 0.0427 - acc: 0.9836 - val_loss: 0.0494 - val_acc: 0.9815\n",
      "Epoch 18/30\n",
      "66753/66753 [==============================] - 73s 1ms/step - loss: 0.0425 - acc: 0.9835 - val_loss: 0.0501 - val_acc: 0.9816\n",
      "Epoch 19/30\n",
      "66753/66753 [==============================] - 73s 1ms/step - loss: 0.0425 - acc: 0.9836 - val_loss: 0.0478 - val_acc: 0.9816\n",
      "Epoch 20/30\n",
      "66753/66753 [==============================] - 74s 1ms/step - loss: 0.0423 - acc: 0.9837 - val_loss: 0.0501 - val_acc: 0.9816\n",
      "Epoch 21/30\n",
      "66753/66753 [==============================] - 74s 1ms/step - loss: 0.0422 - acc: 0.9837 - val_loss: 0.0483 - val_acc: 0.9816\n",
      "Epoch 22/30\n",
      "66753/66753 [==============================] - 73s 1ms/step - loss: 0.0421 - acc: 0.9836 - val_loss: 0.0521 - val_acc: 0.9813\n",
      "Epoch 23/30\n",
      "66753/66753 [==============================] - 73s 1ms/step - loss: 0.0420 - acc: 0.9836 - val_loss: 0.0507 - val_acc: 0.9813\n",
      "Epoch 24/30\n",
      "66753/66753 [==============================] - 73s 1ms/step - loss: 0.0421 - acc: 0.9836 - val_loss: 0.0485 - val_acc: 0.9816\n",
      "Epoch 25/30\n",
      "66753/66753 [==============================] - 83s 1ms/step - loss: 0.0418 - acc: 0.9839 - val_loss: 0.0486 - val_acc: 0.9810\n",
      "Epoch 26/30\n",
      "66753/66753 [==============================] - 80s 1ms/step - loss: 0.0417 - acc: 0.9836 - val_loss: 0.0489 - val_acc: 0.9814\n",
      "Epoch 27/30\n",
      "66753/66753 [==============================] - 84s 1ms/step - loss: 0.0418 - acc: 0.9838 - val_loss: 0.0485 - val_acc: 0.9816\n",
      "Epoch 28/30\n",
      "66753/66753 [==============================] - 72s 1ms/step - loss: 0.0418 - acc: 0.9833 - val_loss: 0.0493 - val_acc: 0.9813\n",
      "Epoch 29/30\n",
      "66753/66753 [==============================] - 72s 1ms/step - loss: 0.0416 - acc: 0.9837 - val_loss: 0.0486 - val_acc: 0.9816\n",
      "Epoch 30/30\n",
      "66753/66753 [==============================] - 71s 1ms/step - loss: 0.0416 - acc: 0.9838 - val_loss: 0.0475 - val_acc: 0.9821\n"
     ]
    },
    {
     "data": {
      "text/plain": [
       "<keras.callbacks.History at 0x7fd432302780>"
      ]
     },
     "execution_count": 42,
     "metadata": {},
     "output_type": "execute_result"
    }
   ],
   "source": [
    "A = np.reshape(DR, (DR.shape[0],  DR.shape[1],1))\n",
    "B = np.reshape(DRT, (DRT.shape[0],DRT.shape[1],1))\n",
    "model.fit(A, Y_train, epochs=30, batch_size=10, validation_data=(B, Y_test),verbose=1)"
   ]
  },
  {
   "cell_type": "code",
   "execution_count": 43,
   "metadata": {},
   "outputs": [
    {
     "name": "stdout",
     "output_type": "stream",
     "text": [
      "154823/154823 [==============================] - 7s 45us/step\n",
      "Predicctions with sklearn\n",
      "[0.9908306096700807, 0.6386532689547175]\n",
      "Predicctions with Matlab\n",
      "[99.08306096700808]   [63.86532689547175]\n",
      "Confusion Matrix\n",
      "[[149607   1219]\n",
      " [  1550   2447]]\n"
     ]
    },
    {
     "data": {
      "text/plain": [
       "[99.08306096700808, 63.86532689547175]"
      ]
     },
     "execution_count": 43,
     "metadata": {},
     "output_type": "execute_result"
    }
   ],
   "source": [
    "model.evaluate(B, Y_test)\n",
    "Y_pred = model.predict(B, batch_size=10, verbose=0)\n",
    "predicction(Y_pred, Y_test)"
   ]
  },
  {
   "cell_type": "markdown",
   "metadata": {},
   "source": [
    "Calculando el error de los predadores ."
   ]
  },
  {
   "cell_type": "code",
   "execution_count": 44,
   "metadata": {},
   "outputs": [
    {
     "name": "stdout",
     "output_type": "stream",
     "text": [
      "posi_test  3666\n",
      "posi_test  4068\n",
      "after: \n",
      "Predicctions with sklearn\n",
      "[0.9908385914656963, 0.6327902767002845]\n",
      "Predicctions with Matlab\n",
      "[99.08385914656964]   [63.279027670028455]\n",
      "Confusion Matrix\n",
      "[[153578   1219]\n",
      " [  1621   2447]]\n"
     ]
    },
    {
     "data": {
      "text/plain": [
       "[99.08385914656964, 63.279027670028455]"
      ]
     },
     "execution_count": 44,
     "metadata": {},
     "output_type": "execute_result"
    }
   ],
   "source": [
    "######\n",
    "# This is the real f1 mesure , taking into account the error\n",
    "#\n",
    "#\n",
    "#\n",
    "# \n",
    "Y_test_fake = Y_test\n",
    "lost_predadors = np.zeros(3737-3666)\n",
    "lost_no_predadors = np.zeros(155128-151157)\n",
    "Y_test_fake_lost_predadors = np.concatenate((Y_test_fake, lost_predadors))\n",
    "Y_test_fake_lost_predadors = np.concatenate((Y_test_fake_lost_predadors, lost_no_predadors))\n",
    "posi_test  = np.argwhere(Y_test_fake_lost_predadors==1)\n",
    "print(\"posi_test \",len(posi_test))\n",
    "\n",
    "Y_pred_fake = Y_pred\n",
    "\n",
    "miss_predadors = np.ones((3737-3666,1))\n",
    "Y_pred_fake_miss_predadors = np.concatenate((Y_pred_fake, miss_predadors))\n",
    "loss_no_pr = np.zeros((155128-151157,1))\n",
    "Y_pred_fake_miss_predadors = np.concatenate((Y_pred_fake_miss_predadors, loss_no_pr))\n",
    "Y_pred_fake_miss_predadors = np.where(Y_pred_fake_miss_predadors > 0.5, 1, 0) \n",
    "\n",
    "posi_test  = np.argwhere(Y_pred_fake_miss_predadors==1)\n",
    "print(\"posi_test \",len(posi_test))\n",
    "\n",
    "\n",
    "\n",
    "print(\"after: \")\n",
    "predicction(Y_pred_fake_miss_predadors, Y_test_fake_lost_predadors)\n",
    "\n",
    "#\n",
    "#\n",
    "#\n",
    "################################################\n"
   ]
  },
  {
   "cell_type": "code",
   "execution_count": null,
   "metadata": {},
   "outputs": [],
   "source": [
    "Predicctions with sklearn\n",
    "[0.9908306096700807, 0.6386532689547175]\n",
    "Predicctions with Matlab\n",
    "[99.08306096700808]   [63.86532689547175]\n",
    "Confusion Matrix\n",
    "[[149607   1219]\n",
    " [  1550   2447]]\n",
    "\n",
    "[99.08306096700808, 63.86532689547175]\n",
    "\n",
    "\n",
    "error\n",
    "154822/154822 [==============================] - 7s 42us/step\n",
    "Predicctions with sklearn\n",
    "[0.9905896635564239, 0.6526264234112894]\n",
    "Predicctions with Matlab\n",
    "[99.05896635564238]   [65.26264234112894]\n",
    "Confusion Matrix\n",
    "[[149320   1001]\n",
    " [  1836   2665]]\n",
    "\n",
    "[99.05896635564238, 65.26264234112894]"
   ]
  },
  {
   "cell_type": "markdown",
   "metadata": {},
   "source": [
    "We predict 20 different .xml files containing [0.01%,0.06%,0.11%,0.16%,0.21%,0.26%,0.31%,0.36%,0.41%,0.46%,0.51%,0.56%,0.61%,0.66%,0.71%,0.76%,0.81%,0.86%,0.91%,1%] of tha information."
   ]
  },
  {
   "cell_type": "code",
   "execution_count": null,
   "metadata": {},
   "outputs": [],
   "source": [
    "# The order of the Labels are others, remeber Matlab re order the data\n",
    "Y_test  = 'pan12_test/predadors.txt'\n",
    "f = open(Y_test, \"r\") # Switch from Train to Test \n",
    "predadors = []\n",
    "\n",
    "for x in f:\n",
    "    x = x.strip()\n",
    "    predadors.append(x)\n",
    "    #print(x)\n",
    "predadors = np.unique(predadors)\n",
    "print(\"Unique predadors: \",len(predadors))"
   ]
  },
  {
   "cell_type": "code",
   "execution_count": null,
   "metadata": {},
   "outputs": [],
   "source": [
    "import xml.etree.ElementTree as ET\n",
    "from collections import Counter"
   ]
  },
  {
   "cell_type": "code",
   "execution_count": null,
   "metadata": {},
   "outputs": [],
   "source": [
    "# Check witch file pass the filter, return (filter_docuemnts,labels)\n",
    "def filtering(file_name):\n",
    "    #\n",
    "    Y_test  = 'pan12_test/predadors.txt'\n",
    "    f = open(Y_test, \"r\") # Switch from Train to Test \n",
    "    predadors = []\n",
    "\n",
    "    for x in f:\n",
    "        x = x.strip()\n",
    "        predadors.append(x)\n",
    "        #print(x)\n",
    "    predadors = np.unique(predadors)\n",
    "    #\n",
    "\n",
    "    print(\"Arrive: \",file_name)\n",
    "    tree = ET.parse(file_name ) \n",
    "    root = tree.getroot()\n",
    "    \n",
    "    start = time.time()\n",
    "    i = 0\n",
    "    id = 0\n",
    "    j = 1\n",
    "    labels = []\n",
    "    conversations_dicc = {}\n",
    "    all_unique_authors = []\n",
    "    predadors_in_conve = 0\n",
    "    for conversation in root.iter('conversation'):\n",
    "        authors = []\n",
    "        # For each conversation we count the number of authors and their interactions\n",
    "        for author in conversation.iter('author'):\n",
    "            authors.append(author.text)\n",
    "        filtering = Counter(authors)\n",
    "        # Flag: True conversations pass the filter\n",
    "        taken = True\n",
    "        \n",
    "        #Just one author\n",
    "        if len(filtering) < 2: \n",
    "            taken = False\n",
    "        else:\n",
    "            # Less of 6 interaction per author\n",
    "            for f in filtering:\n",
    "                if filtering[f] < 6: \n",
    "                    taken = False # Basta que uno interactue menos de 6 veces para invalidar la conversa\n",
    "                    break\n",
    "        # Conversations pass the filetering\n",
    "        if taken == True:\n",
    "            #print(Counter(authors))\n",
    "            i += 1\n",
    "            tmp = np.unique(authors)\n",
    "            # Counting the number of unique authors, just to know (not usefull)\n",
    "            for t in tmp:\n",
    "                all_unique_authors.append(t)\n",
    "            # Making new Labels: if some author is in Predador, then 1\n",
    "            if len(np.intersect1d(predadors,tmp)) > 0:\n",
    "                labels.append(1)   \n",
    "                predadors_in_conve += 1\n",
    "            else:\n",
    "                labels.append(0)  \n",
    "                \n",
    "            # Only if the conversations pass the filtering, we save it \n",
    "            ##\n",
    "            text = ''\n",
    "            for message in conversation.iter('message'):\n",
    "                if message[2].text: \n",
    "                    # message[0] is author, message[1] is time, message[2] is text\n",
    "                    msg =  message[2].text + ' '\n",
    "                else:\n",
    "                     msg = ' ' #Somo message are empty\n",
    "                text += msg\n",
    "            # Saving each conversation in a diccionary\n",
    "            conversations_dicc[id] = text\n",
    "            ##\n",
    "            id += 1\n",
    "            #print(j)\n",
    "            #print(text)\n",
    "            #print(\"-------------------------------\")\n",
    "        j += 1 # Num of cove with out filter\n",
    "        \n",
    "    all_unique_authors = np.unique(all_unique_authors)\n",
    "    labels = np.asarray(labels)\n",
    "    end = time.time()\n",
    "    print(\"Total time: \",end-start)\n",
    "    print(\"Number of Conver: \",i)\n",
    "    print(\"Number of Users: \",len(all_unique_authors))\n",
    "    print(\"Predadors in Conversations: \",predadors_in_conve)\n",
    "    print(\"Number of Predadors: \",len(np.intersect1d(predadors,all_unique_authors)))\n",
    "    print(\"Number of Saved Conver: \",len(conversations_dicc))\n",
    "    return conversations_dicc,labels\n",
    "\n",
    "\n",
    "\n"
   ]
  },
  {
   "cell_type": "code",
   "execution_count": null,
   "metadata": {},
   "outputs": [],
   "source": [
    "#file_name = \"OficialData/xml/0.11.xml\"\n",
    "#_c,_l = filtering(file_name)"
   ]
  },
  {
   "cell_type": "code",
   "execution_count": null,
   "metadata": {},
   "outputs": [],
   "source": [
    "retains = [0.01,0.06,0.11,0.16,0.21,0.26,0.31,0.36,0.41,0.46,0.51,0.56,0.61,0.66,0.71,0.76,0.81,0.86,0.91,1]\n",
    "directory = \"OficialData/xml\"\n",
    "doc_predictions = []\n",
    "times = []\n",
    "for r in retains:\n",
    "\n",
    "    start = time.time() \n",
    "    \n",
    "    print(directory+\"/\"+str(r)+\".xml\")\n",
    "    file_name = directory+\"/\"+str(r)+\".xml\"\n",
    "    #_c,_l = filtering(file_name)\n",
    "    # Collecting the data that pass the filtering process\n",
    "    non_process_doc, labels = filtering(file_name)\n",
    "    predadors = np.argwhere(labels==1)\n",
    "    non_predadors  = np.argwhere(labels==0)\n",
    "    print(\"Predadors: \",len(predadors),\" No Predadors: \", len(non_predadors))\n",
    "    # Converting text into n-grams\n",
    "    #sd_grams = n_grams_filtering(non_process_doc)\n",
    "    #\n",
    "    \n",
    "    # Processing the set of documents\n",
    "    empty_docs = 0\n",
    "    doc_test = []\n",
    "    new_Y_test = []\n",
    "    for id,conversation in enumerate(non_process_doc):\n",
    "        clean = pre_processing(non_process_doc[conversation])\n",
    "        if len (clean) == 0:\n",
    "            # We do not add the empty doc, and we delete that label\n",
    "            empty_docs += 1\n",
    "        else:\n",
    "            doc_test.append(clean)\n",
    "            new_Y_test.append(labels[id])\n",
    "    print(\"Empty docs: \",empty_docs)\n",
    "    new_Y_test = np.asarray(new_Y_test)\n",
    "    print(\"Docs: \",len(doc_test),\" Labels: \",new_Y_test.shape)\n",
    "    #\n",
    "    \n",
    "    \n",
    "    # Transforming the documents to a matrix\n",
    "    #\"\"\"\n",
    "    X = vectorizer.fit_transform(doc_test)\n",
    "    X_test = X.toarray()\n",
    "    print(X_test.shape)  \n",
    "    #\"\"\"\n",
    "\n",
    "    # Applying the algorithm\n",
    "    DRTS = csa_test (X_test,Tik)\n",
    "    print(\"DRT: (\",DRTS.shape[0],\",\",DRTS.shape[1],\")\")\n",
    "\n",
    "    # Testing the test examples in the NN.\n",
    "    model.evaluate(DRTS, new_Y_test)\n",
    "    Y_pred = model.predict(DRTS, batch_size=10, verbose=0)    \n",
    "    end = time.time() \n",
    "    # Making predictions\n",
    "    p = predicction(Y_pred, new_Y_test)\n",
    "    doc_predictions.append(p)\n",
    "    times.append(end - start)\n",
    "    print(\"Time is: \",end - start)\n",
    "    \n",
    "    del X_test,DRTS,non_process_doc,labels\n",
    "    gc.collect()\n",
    "    print(\"-\"*50)\n",
    "    \n",
    "    \n",
    "\n"
   ]
  },
  {
   "cell_type": "code",
   "execution_count": null,
   "metadata": {},
   "outputs": [],
   "source": [
    "# F1\n",
    "for id,d in enumerate(doc_predictions):\n",
    "    #print(id+1,\" \",d[1])\n",
    "    print(d[1])"
   ]
  },
  {
   "cell_type": "code",
   "execution_count": null,
   "metadata": {},
   "outputs": [],
   "source": [
    "# Times\n",
    "for t in enumerate(times):\n",
    "    print(t[1])"
   ]
  },
  {
   "cell_type": "code",
   "execution_count": null,
   "metadata": {},
   "outputs": [],
   "source": []
  },
  {
   "cell_type": "code",
   "execution_count": null,
   "metadata": {},
   "outputs": [],
   "source": [
    "import matplotlib.pyplot as plt\n",
    "\n",
    "def pie_plot(predador,no_predador,word,labels):\n",
    "    sizes = [predador,no_predador]\n",
    "    colors = ['lightskyblue', 'lightcoral']\n",
    "    explode = (0, 0)  # explode a slice if required\n",
    "\n",
    "    plt.pie(sizes, explode=explode, labels=labels, colors=colors,\n",
    "            autopct='%1.1f%%', shadow=True)\n",
    "\n",
    "    #draw a circle at the center of pie to make it look like a donut\n",
    "    centre_circle = plt.Circle((0,0),0.75,color='black', fc='white',linewidth=1.25)\n",
    "    fig = plt.gcf()\n",
    "    fig.gca().add_artist(centre_circle)\n",
    "\n",
    "    plt.title( word, bbox={'facecolor':'0.8', 'pad':5})\n",
    "\n",
    "    # Set aspect ratio to be equal so that pie is drawn as a circle.\n",
    "    plt.axis('equal')\n",
    "    plt.show() "
   ]
  },
  {
   "cell_type": "code",
   "execution_count": null,
   "metadata": {},
   "outputs": [],
   "source": [
    "DicC = np.asarray(DicC)\n",
    "DicC = np.reshape(DicC,(len(DicC),1))\n",
    "print(DicC.shape)\n",
    "words_representation = np.hstack((Tik,DicC))\n",
    "print(\"DicC: \",len(DicC),\" Tik: \",Tik.shape,\" words_representation: \",words_representation.shape)\n",
    "\n"
   ]
  },
  {
   "cell_type": "code",
   "execution_count": null,
   "metadata": {},
   "outputs": [],
   "source": [
    "predador_wr_sorted = words_representation[np.argsort(words_representation[:, 1])][::-1]\n",
    "no_predador_wr_sorted = words_representation[np.argsort(words_representation[:, 0])][::-1]"
   ]
  },
  {
   "cell_type": "code",
   "execution_count": null,
   "metadata": {},
   "outputs": [],
   "source": [
    "print(\"More significant words in Predador class: \")\n",
    "print(predador_wr_sorted[:100])\n",
    "print(\"More significant words in No - Predador class: \")\n",
    "print(no_predador_wr_sorted[:100])"
   ]
  },
  {
   "cell_type": "code",
   "execution_count": null,
   "metadata": {},
   "outputs": [],
   "source": [
    "labels = 'No - Predador', 'Predador'\n",
    "index = 0\n",
    "print(predador_wr_sorted[index])\n",
    "predador = float(predador_wr_sorted[index][0])\n",
    "no_predador = float(predador_wr_sorted[index][1])\n",
    "word = predador_wr_sorted[index][2]\n",
    "pie_plot(predador,no_predador,word,labels)"
   ]
  },
  {
   "cell_type": "code",
   "execution_count": null,
   "metadata": {},
   "outputs": [],
   "source": []
  }
 ],
 "metadata": {
  "kernelspec": {
   "display_name": "Python 3",
   "language": "python",
   "name": "python3"
  },
  "language_info": {
   "codemirror_mode": {
    "name": "ipython",
    "version": 3
   },
   "file_extension": ".py",
   "mimetype": "text/x-python",
   "name": "python",
   "nbconvert_exporter": "python",
   "pygments_lexer": "ipython3",
   "version": "3.6.9"
  }
 },
 "nbformat": 4,
 "nbformat_minor": 2
}
